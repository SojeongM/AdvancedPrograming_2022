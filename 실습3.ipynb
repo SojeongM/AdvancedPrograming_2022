{
  "cells": [
    {
      "cell_type": "code",
      "execution_count": 89,
      "id": "af554d18",
      "metadata": {
        "colab": {
          "base_uri": "https://localhost:8080/"
        },
        "id": "af554d18",
        "outputId": "3e788d56-d27d-4535-d56a-f380fab80531"
      },
      "outputs": [
        {
          "output_type": "stream",
          "name": "stdout",
          "text": [
            "Looking in indexes: https://pypi.org/simple, https://us-python.pkg.dev/colab-wheels/public/simple/\n",
            "Requirement already satisfied: sympy in /usr/local/lib/python3.7/dist-packages (1.7.1)\n",
            "Requirement already satisfied: mpmath>=0.19 in /usr/local/lib/python3.7/dist-packages (from sympy) (1.2.1)\n"
          ]
        }
      ],
      "source": [
        "!pip3 install sympy"
      ]
    },
    {
      "cell_type": "code",
      "execution_count": 90,
      "id": "a85a563d",
      "metadata": {
        "colab": {
          "base_uri": "https://localhost:8080/"
        },
        "id": "a85a563d",
        "outputId": "3afe9248-bfc6-4245-b02d-06e0a81b7119"
      },
      "outputs": [
        {
          "output_type": "stream",
          "name": "stdout",
          "text": [
            "abc\n",
            "def\n",
            "abc\n",
            "def\n",
            "abc\n",
            "def\n",
            "abc\n",
            "def\n",
            "abc\n",
            "def\n",
            "a의 값은 50 입니다.\n",
            "a=50, b=100\n"
          ]
        }
      ],
      "source": [
        "# Python에서 반복문 & 출력문 사용법\n",
        "\n",
        "# i=0으로 초기화하고 각 iteration마다 i는 1씩 증가하는 iteration을 i==5 전까지 반복\n",
        "# C언어로 나타내면 for(int i=0; i<5; i++)와 같음\n",
        "for i in range(0, 5):\n",
        "    print(\"abc\")   # abc를 출력하라\n",
        "    print(\"def\")   # def를 출력하라  => 각 print문 마다 자동으로 줄바꿈(\\n)이 적용됨\n",
        "\n",
        "    \n",
        "# 변수 출력 예시\n",
        "a = 50\n",
        "b = 100\n",
        "print(f\"a의 값은 {a} 입니다.\")\n",
        "print(\"a={}, b={}\".format(a,b))"
      ]
    },
    {
      "cell_type": "code",
      "execution_count": 115,
      "id": "8ed44017",
      "metadata": {
        "colab": {
          "base_uri": "https://localhost:8080/"
        },
        "id": "8ed44017",
        "outputId": "a2d89454-ab88-4d2f-b055-e3849e2b9885"
      },
      "outputs": [
        {
          "output_type": "stream",
          "name": "stdout",
          "text": [
            "1번째 피보나치 항 :1\n",
            "2번째 피보나치 항 :1\n",
            "3번째 피보나치 항 :2\n",
            "4번째 피보나치 항 :3\n",
            "5번째 피보나치 항 :5\n",
            "6번째 피보나치 항 :8\n",
            "7번째 피보나치 항 :13\n",
            "8번째 피보나치 항 :21\n",
            "9번째 피보나치 항 :34\n",
            "10번째 피보나치 항 :55\n"
          ]
        }
      ],
      "source": [
        "# 실습 1-1. 주어진 피보나치 수열의 정의를 이용하여 기본적인 재귀적 풀이 방식으로 n번째 피보나치 수를 구하는 fibo_1 함수를 작성하시오.\n",
        "# fibo_1을 이용하여 피보나치 수열의 1~10번째 항을 반복문을 이용하여 출력하시오.\n",
        "# Hint : 3가지 경우로 분기된 피보나치 수열의 정의식을 그대로 코드로 옮겨보자\n",
        "\n",
        "def fibo_1(n):\n",
        "    if n<2:\n",
        "      return n;\n",
        "    else:\n",
        "      return fibo_1(n-1)+fibo_1(n-2)\n",
        "    pass\n",
        "    return\n",
        "\n",
        "for n in range(1, 11):\n",
        "    print(f'{n}번째 피보나치 항 :{fibo_1(n)}')"
      ]
    },
    {
      "cell_type": "code",
      "execution_count": 92,
      "id": "536b51bb",
      "metadata": {
        "colab": {
          "base_uri": "https://localhost:8080/"
        },
        "id": "536b51bb",
        "outputId": "5d9834d4-7fd7-4a6d-d348-28ef9f28adf9"
      },
      "outputs": [
        {
          "output_type": "stream",
          "name": "stdout",
          "text": [
            "1번째 피보나치 항 : 1\n",
            "2번째 피보나치 항 : 1\n",
            "3번째 피보나치 항 : 2\n",
            "4번째 피보나치 항 : 3\n",
            "5번째 피보나치 항 : 5\n",
            "6번째 피보나치 항 : 8\n",
            "7번째 피보나치 항 : 13\n",
            "8번째 피보나치 항 : 21\n",
            "9번째 피보나치 항 : 34\n",
            "10번째 피보나치 항 : 55\n"
          ]
        }
      ],
      "source": [
        "# 실습 1-2. 피보나치 수열의 특징을 이용하여 반복적 풀이 방식으로 n번째 피보나치 수를 구하는 fibo_2 함수를 직성하시오.\n",
        "# fibo_2를 이용하여 피보나치 수열의 1~10번째 항을 반복문을 이용하여 출력하시오.\n",
        "# Hint : 피보나치 수열의 n+1 번째 항은 n-1 번재 항과 n 번째 항을 더한 값이다.\n",
        "\n",
        "def fibo_2(n):\n",
        "    a=0\n",
        "    b=1\n",
        "    temp=0\n",
        "    if n<2:\n",
        "      return n;\n",
        "    i=0\n",
        "    for i in range(n-1):\n",
        "      temp=a\n",
        "      a=b\n",
        "      b=temp+a\n",
        "    pass \n",
        "    return b\n",
        "\n",
        "\n",
        "for n in range(1, 11):\n",
        "    print(f'{n}번째 피보나치 항 : {fibo_2(n)}')"
      ]
    },
    {
      "cell_type": "code",
      "execution_count": 93,
      "id": "94a7039c",
      "metadata": {
        "colab": {
          "base_uri": "https://localhost:8080/"
        },
        "id": "94a7039c",
        "outputId": "8bf88eee-a0da-44f1-9eed-1759b92f00f9"
      },
      "outputs": [
        {
          "output_type": "stream",
          "name": "stdout",
          "text": [
            "1번째 피보나치 항 : 1\n",
            "2번째 피보나치 항 : 1\n",
            "3번째 피보나치 항 : 2\n",
            "4번째 피보나치 항 : 3\n",
            "5번째 피보나치 항 : 5\n",
            "6번째 피보나치 항 : 8\n",
            "7번째 피보나치 항 : 13\n",
            "8번째 피보나치 항 : 21\n",
            "9번째 피보나치 항 : 34\n",
            "10번째 피보나치 항 : 55\n"
          ]
        }
      ],
      "source": [
        "# 실습 1-3. 동적 계획법과 재귀적 방법 또는 반복문을 이용하여 n번째 피보나치 수를 구하는 fibo_3 함수를 작성하시오\n",
        "# fibo_3을 이용하여 피보나치 수열의 1~10번째 항을 반복문을 이용하여 출력하시오.\n",
        "# Hint : list나 array 같은 자료구조에 n번째 피보나치 수열의 값을 저장한다\n",
        "# Hint(재귀적 방법) : 재귀함수의 재귀 종료조건(=base case)을 n<2, 즉 피보나치 수열의 1번째 항일 때로 설정한다.\n",
        "\n",
        "# 반복문을 사용하였을 경우의 답안\n",
        "\n",
        "\n",
        "def fibo_3(n):\n",
        "    if n < 2:\n",
        "        return n\n",
        "    cache = [0 for _ in range(n+1)]\n",
        "    cache[1]=1\n",
        "    \n",
        "    for i in range(2, n+1):\n",
        "        cache[i]=cache[i-1]+cache[i-2]\n",
        "    \n",
        "\n",
        "    return cache[n]\n",
        "\n",
        "for n in range(1, 11):\n",
        "    print(f'{n}번째 피보나치 항 : {fibo_3(n)}')"
      ]
    },
    {
      "cell_type": "code",
      "execution_count": 94,
      "id": "0691e6da",
      "metadata": {
        "colab": {
          "base_uri": "https://localhost:8080/"
        },
        "id": "0691e6da",
        "outputId": "7a91c309-01f3-45f0-de4e-42a3c6de9b18"
      },
      "outputs": [
        {
          "output_type": "stream",
          "name": "stdout",
          "text": [
            "1번째 피보나치 항 : 1\n",
            "2번째 피보나치 항 : 1\n",
            "3번째 피보나치 항 : 2\n",
            "4번째 피보나치 항 : 3\n",
            "5번째 피보나치 항 : 5\n",
            "6번째 피보나치 항 : 8\n",
            "7번째 피보나치 항 : 13\n",
            "8번째 피보나치 항 : 21\n",
            "9번째 피보나치 항 : 34\n",
            "10번째 피보나치 항 : 55\n"
          ]
        }
      ],
      "source": [
        "# 실습 1-3. 재귀를 사용하였을 경우의 답안\n",
        "\n",
        "def fibo_3(n):\n",
        "    cache = [-1 for _ in range(n+1)]\n",
        "\n",
        "    def iterate(n):\n",
        "        if n< 2:\n",
        "            return n\n",
        "        \n",
        "        if cache[n] != -1:\n",
        "            return cache[n]\n",
        "            pass\n",
        "        \n",
        "        cache[n] = iterate(n-1) + iterate(n-2)\n",
        "        return cache[n]\n",
        "    \n",
        "    return iterate(n)\n",
        "\n",
        "for n in range(1, 11):\n",
        "    print(f'{n}번째 피보나치 항 : {fibo_3(n)}')"
      ]
    },
    {
      "cell_type": "code",
      "execution_count": 95,
      "id": "4d249904",
      "metadata": {
        "colab": {
          "base_uri": "https://localhost:8080/"
        },
        "id": "4d249904",
        "outputId": "dee6a290-961c-4a53-8598-d90b6785a482"
      },
      "outputs": [
        {
          "output_type": "stream",
          "name": "stdout",
          "text": [
            "[[19 22]\n",
            " [43 50]]\n"
          ]
        }
      ],
      "source": [
        "# NumPy 모듈을 이용한 행렬 곱셈 구현\n",
        "import numpy as np   # numpy 모듈을 np라는 이름으로 현재 소스로 불러오기\n",
        "\n",
        "a = np.array([[1, 2], \n",
        "              [3, 4]])  # 1행이 1, 2고 2행이 3, 4인 2x2 정방행렬 a 정의\n",
        "b = np.array([[5, 6], \n",
        "              [7, 8]])  # 1행이 5, 6이고 2행이 7, 8인 2x2 정방행렬 b 정의\n",
        "c = np.matmul(a, b)   # np.matmul을 이용하여 axb 순으로 행렬곱\n",
        "print(c)"
      ]
    },
    {
      "cell_type": "code",
      "execution_count": 96,
      "id": "a8c1e52f",
      "metadata": {
        "colab": {
          "base_uri": "https://localhost:8080/"
        },
        "id": "a8c1e52f",
        "outputId": "c41252d2-8d90-4a5b-957d-7f6fe008f68d"
      },
      "outputs": [
        {
          "output_type": "stream",
          "name": "stdout",
          "text": [
            "1번째 피보나치 항 : 1\n",
            "2번째 피보나치 항 : 1\n",
            "3번째 피보나치 항 : 2\n",
            "4번째 피보나치 항 : 3\n",
            "5번째 피보나치 항 : 5\n",
            "6번째 피보나치 항 : 8\n",
            "7번째 피보나치 항 : 13\n",
            "8번째 피보나치 항 : 21\n",
            "9번째 피보나치 항 : 34\n",
            "10번째 피보나치 항 : 55\n"
          ]
        }
      ],
      "source": [
        "# 실습 1-4. Numpy를 이용한 행렬 곱셈 풀이를 이용하여 n번째 피보나치 수를 구하는 fibo_4 함수를 작성하시오. \n",
        "# fibo_4를 이용하여 피보나치 수열의 1~10번째 항을 반복문을 이용하여 출력하시오.\n",
        "# Hint : Numpy 모듈의 행렬곱 함수와 피보나치 수열의 행렬곱 관계를 참고한다.\n",
        "\n",
        "import numpy as np\n",
        "\n",
        "def fibo_4(n):\n",
        "    base = np.array([[1, 1], [1, 0]]) # 곱셈을 시작해 나갈 기본 행렬\n",
        "    result = np.array([[1, 0], [0, 1]])\n",
        "\n",
        "    for _ in range(n):\n",
        "          result=np.matmul(result, base)\n",
        "    return result[0][1]\n",
        "\n",
        "for n in range(1, 11):\n",
        "    print(f'{n}번째 피보나치 항 : {fibo_4(n)}')"
      ]
    },
    {
      "cell_type": "code",
      "execution_count": 97,
      "id": "afd3540b",
      "metadata": {
        "colab": {
          "base_uri": "https://localhost:8080/"
        },
        "id": "afd3540b",
        "outputId": "94b9c222-d574-436c-a4ab-65b155e23088"
      },
      "outputs": [
        {
          "output_type": "stream",
          "name": "stdout",
          "text": [
            "1번째 피보나치 항 : 1\n",
            "2번째 피보나치 항 : 1\n",
            "3번째 피보나치 항 : 2\n",
            "4번째 피보나치 항 : 3\n",
            "5번째 피보나치 항 : 5\n",
            "6번째 피보나치 항 : 8\n",
            "7번째 피보나치 항 : 13\n",
            "8번째 피보나치 항 : 21\n",
            "9번째 피보나치 항 : 34\n",
            "10번째 피보나치 항 : 55\n"
          ]
        }
      ],
      "source": [
        "# 실습 1-5. 행렬 곱셈을 이용한 풀이를 이용하여 실습 1-4 문제를 해결하는 fibo_5 함수를 구현하시오. \n",
        "# 단, numpy를 사용하지말고 시간 복잡도를 𝑂(log_2⁡𝑛)으로 줄일 것\n",
        "# fibo_5를 이용하여 피보나치 수열의 1~10번째 항을 반복문을 이용하여 출력하시오.\n",
        "# Hint : ppt 참조\n",
        "\n",
        "def fibo_5(n):\n",
        "    SIZE = 2\n",
        "    ZERO = [[1, 0], [0, 1]]\n",
        "    BASE = [[1, 1], [1, 0]]\n",
        "\n",
        "    # 두 행렬의 곱을 구한다\n",
        "    def square_matrix_mul(a, b, size=SIZE):\n",
        "        new = [[0]*size for row in range(size)]\n",
        "        for i in range(size):\n",
        "          for j in range(size):\n",
        "            for m in range(size):\n",
        "              new[i][j]=new[i][j]+a[i][m]*b[m][j]\n",
        "      #  pass\n",
        "        \n",
        "        return new\n",
        "        \n",
        "\n",
        "    # 기본 행렬을 n번 곱한 행렬을 만든다\n",
        "    def get_nth(n):\n",
        "        matrix = ZERO.copy()\n",
        "        k = 0\n",
        "        tmp = BASE.copy()\n",
        "\n",
        "        while 2 ** k <= n:   # 비트 연산을 이용하여 n \n",
        "            if n & ( 1 << k )  != 0:\n",
        "                matrix = square_matrix_mul(matrix, tmp)\n",
        "            k += 1\n",
        "            tmp = square_matrix_mul(tmp, tmp)\n",
        "       \n",
        "        return matrix\n",
        "\n",
        "    return get_nth(n)[1][0]\n",
        "\n",
        "for n in range(1, 11):\n",
        "    print(f'{n}번째 피보나치 항 : {fibo_5(n)}')"
      ]
    },
    {
      "cell_type": "code",
      "execution_count": 98,
      "id": "9e029d20",
      "metadata": {
        "colab": {
          "base_uri": "https://localhost:8080/"
        },
        "id": "9e029d20",
        "outputId": "f73620de-b993-4fe8-cbc3-97b3cfca388c"
      },
      "outputs": [
        {
          "output_type": "stream",
          "name": "stdout",
          "text": [
            "비트 연산 and(&), or(|), xor(^) \n",
            "16\n",
            "27\n",
            "11\n",
            "---------------------------------\n",
            "\n",
            "비트 연산 shift << \n",
            "6\n",
            "12\n",
            "---------------------------------\n",
            "\n",
            "비트 연산 shift >> \n",
            "18\n",
            "9\n",
            "---------------------------------\n",
            "\n"
          ]
        }
      ],
      "source": [
        "# 실습 1-5 : Hint 3 관련 소스\n",
        "\n",
        "# 비트연산 : and(&), or(|), xor(^)\n",
        "print(\"비트 연산 and(&), or(|), xor(^) \")\n",
        "a = 18     # 10010\n",
        "b = 25     # 11001\n",
        "print(a & b)     # 10010 & 11001 => 10000 (= 16, 같은 위치의 두 비트가 둘 다 1이면 1. 둘 다 0이거나 다르면 0)\n",
        "print(a | b)     # 10010 | 11001 => 11011 (= 27, 같은 위치의 두 비트 둘 중 하나가 1일 경우 1, 나머지는 0)\n",
        "print(a ^ b)     # 10010 ^ 11001 => 01011 (= 11, 같은 위치의 두 비트가 다르면 1, 같으면 0)\n",
        "print(\"---------------------------------\\n\")\n",
        "\n",
        "# 비트 연산 : shift\n",
        "# A << B : A를 비트 단위에서 왼쪽으로 B만큼 이동\n",
        "# a << 1 연산은 a에 2를 곱한 것과 같다\n",
        "print(\"비트 연산 shift << \")\n",
        "a = 3     # 11\n",
        "print(a << 1)     # 11 => 110 (= 6)\n",
        "print(a << 2)     # 11 => 1100 (= 12)\n",
        "print(\"---------------------------------\\n\")\n",
        "\n",
        "# A >> B : A를 비트 단위에서 오른쪽으로 B만큼 이동\n",
        "# a >> 1 연산은 a에 2를 나눈 것과 같다\n",
        "print(\"비트 연산 shift >> \")\n",
        "a = 37     # 100101\n",
        "print(a >> 1)     # 100101 => 10010 (= 18)\n",
        "print(a >> 2)     # 100101 => 1001 (= 9)\n",
        "print(\"---------------------------------\\n\")\n"
      ]
    },
    {
      "cell_type": "code",
      "execution_count": 99,
      "id": "7eced784",
      "metadata": {
        "colab": {
          "base_uri": "https://localhost:8080/"
        },
        "id": "7eced784",
        "outputId": "7c139c5f-d9fe-4848-fc0d-74fec8a0c083"
      },
      "outputs": [
        {
          "output_type": "stream",
          "name": "stdout",
          "text": [
            "x =  [3]\n",
            "<class 'list'>\n",
            "2의 root 값 :  1.4142135623730951\n"
          ]
        }
      ],
      "source": [
        "# Sympy 사용법\n",
        "import sympy   # Symbolic mathemathics of Python. 수학 공식 정의 및 풀이 관련 파이썬 패키지\n",
        "\n",
        "# ex) 6x - 1 = x + 14 라는 방정식의 해를 구하려면\n",
        "x = sympy.symbols(\"x\")   # 변수 x 정의\n",
        "f = sympy.Eq(6*x-1, x+14)   # 방정식의 좌항, 우항을 차례대로 정의\n",
        "print('x = ', sympy.solve(f))   # solve() 함수로 방정식 f의 해 구하기\n",
        "print(type(sympy.solve(f)))   # 해의 type은 list로 방정식의 모든 해를 원소 값으로 가진다.\n",
        "\n",
        "\n",
        "# Python에서 제곱근(Square Root) 구하는 방법\n",
        "import math   # 수학 관련 함수가 있는 파이썬 기본 패키지\n",
        "a = 2\n",
        "print('2의 root 값 : ', math.sqrt(a))   # math 패키지의 sqrt() 함수 사용"
      ]
    },
    {
      "cell_type": "code",
      "execution_count": 100,
      "id": "098e560e",
      "metadata": {
        "colab": {
          "base_uri": "https://localhost:8080/"
        },
        "id": "098e560e",
        "outputId": "7d712519-180d-4416-c4a4-9f3963a51461"
      },
      "outputs": [
        {
          "output_type": "stream",
          "name": "stdout",
          "text": [
            "식 f의 해 : [1/2 - sqrt(5)/2, 1/2 + sqrt(5)/2]\n",
            "황금비 : 1:1.61803398874989\n"
          ]
        }
      ],
      "source": [
        "# 실습 2-1. 황금비의 정의와 sympy, math 패키지를 이용하여 황금비를 실수 형태로 출력하시오.\n",
        "\n",
        "x = sympy.symbols(\"x\")\n",
        "f = sympy.Eq(x**2,x+1) #TODO  # x:1=x+1:x의 내항과 외항을 곱하면 x^2=x+1인데 이 방정식을 sympy를 이용하여 정의\n",
        "print(f'식 f의 해 : {sympy.solve(f)}')  # solve 메소드를 사용하여 식 f에 대한 symbol x의 해를 구함\n",
        "print(f'황금비 : 1:{sympy.solve(f.evalf())[1]}')  # 방정식의 해 중 양수 값의 황금비 출력"
      ]
    },
    {
      "cell_type": "code",
      "execution_count": 101,
      "id": "80916cfd",
      "metadata": {
        "colab": {
          "base_uri": "https://localhost:8080/"
        },
        "id": "80916cfd",
        "outputId": "eefb1e22-bce1-48cc-bae0-54558b20c6f2"
      },
      "outputs": [
        {
          "output_type": "stream",
          "name": "stdout",
          "text": [
            "1과 2번째 피보나치 수열의 비율 : 1.0\n",
            "2과 3번째 피보나치 수열의 비율 : 2.0\n",
            "3과 4번째 피보나치 수열의 비율 : 1.5\n",
            "4과 5번째 피보나치 수열의 비율 : 1.6666666666666667\n",
            "5과 6번째 피보나치 수열의 비율 : 1.6\n",
            "6과 7번째 피보나치 수열의 비율 : 1.625\n",
            "7과 8번째 피보나치 수열의 비율 : 1.6153846153846154\n",
            "8과 9번째 피보나치 수열의 비율 : 1.619047619047619\n",
            "9과 10번째 피보나치 수열의 비율 : 1.6176470588235294\n",
            "10과 11번째 피보나치 수열의 비율 : 1.6181818181818182\n",
            "11과 12번째 피보나치 수열의 비율 : 1.6179775280898876\n",
            "12과 13번째 피보나치 수열의 비율 : 1.6180555555555556\n",
            "13과 14번째 피보나치 수열의 비율 : 1.6180257510729614\n",
            "14과 15번째 피보나치 수열의 비율 : 1.6180371352785146\n",
            "15과 16번째 피보나치 수열의 비율 : 1.618032786885246\n"
          ]
        }
      ],
      "source": [
        "# 실습 2-2. 실습 1에서 만든 피보나치 수열을 구하는 함수를 이용하여 피보나치 수열 15번째까지의 원소들에 대하여 n+1번째 항과 n번째 항의 \n",
        "# 비율을 구하고 해당 비율이 어떤 값으로 수렴해나가는지 관찰해보시오.\n",
        "# Hint : (n+1) / (n) 의 비율을 구하면 실습 2-1에서 구한 황금비의 값과 같아짐을 알 수 있다.\n",
        "\n",
        "def fibo(n):\n",
        "    if n<2:\n",
        "      return n;\n",
        "    else:\n",
        "      return fibo(n-1)+fibo(n-2)\n",
        "    pass\n",
        "    return\n",
        "    \n",
        "\n",
        "fibo_ratio_list = list()\n",
        "for n in range(1, 16):\n",
        "    fibo_ratio =fibo(n+1)/fibo(n)\n",
        "    fibo_ratio_list.append(fibo_ratio)\n",
        "    print(f'{n}과 {n+1}번째 피보나치 수열의 비율 : {fibo_ratio}')\n",
        "    "
      ]
    },
    {
      "cell_type": "code",
      "source": [
        "!pip install ColabTurtlePlus"
      ],
      "metadata": {
        "colab": {
          "base_uri": "https://localhost:8080/"
        },
        "id": "3DJcMjRqGOGp",
        "outputId": "4e6d6867-8cba-4fda-e171-f8e17321410e"
      },
      "id": "3DJcMjRqGOGp",
      "execution_count": 105,
      "outputs": [
        {
          "output_type": "stream",
          "name": "stdout",
          "text": [
            "Looking in indexes: https://pypi.org/simple, https://us-python.pkg.dev/colab-wheels/public/simple/\n",
            "Collecting ColabTurtlePlus\n",
            "  Downloading ColabTurtlePlus-2.0.1-py3-none-any.whl (31 kB)\n",
            "Installing collected packages: ColabTurtlePlus\n",
            "Successfully installed ColabTurtlePlus-2.0.1\n"
          ]
        }
      ]
    },
    {
      "cell_type": "code",
      "execution_count": 116,
      "id": "d54bffac",
      "metadata": {
        "colab": {
          "base_uri": "https://localhost:8080/",
          "height": 1000
        },
        "id": "d54bffac",
        "outputId": "902519ed-3e4a-414a-d8f3-aaad7d369b51"
      },
      "outputs": [
        {
          "output_type": "display_data",
          "data": {
            "text/plain": [
              "<IPython.core.display.HTML object>"
            ],
            "text/html": [
              "\n",
              "      <svg width=\"800\" height=\"600\">  \n",
              "        <rect width=\"100%\" height=\"100%\" style=\"fill:white;stroke:;stroke-width:1\"/>\n",
              "        \n",
              "        \n",
              "        \n",
              "        \n",
              "        \n",
              "        <g id=\"classic\" visibility=\"visible\" transform=\"rotate(-90,400.0,300.0) translate(400.0, 300.0)\">\n",
              "<polygon points=\"-5,-4.5 0,-2.5 5,-4.5 0,4.5\" transform=\"skewX(0) scale(1,1)\" style=\"stroke:black;fill:black;stroke-width:1\" />\n",
              "</g><g id=\"classic\" visibility=\"visible\" transform=\"rotate(-90,400.0,300.0) translate(400.0, 300.0)\">\n",
              "<polygon points=\"-5,-4.5 0,-2.5 5,-4.5 0,4.5\" transform=\"skewX(0) scale(1,1)\" style=\"stroke:black;fill:black;stroke-width:1\" />\n",
              "</g>\n",
              "      </svg>\n",
              "    "
            ]
          },
          "metadata": {}
        },
        {
          "output_type": "display_data",
          "data": {
            "text/plain": [
              "<IPython.core.display.HTML object>"
            ],
            "text/html": [
              "\n",
              "      <svg width=\"1500\" height=\"1500\">  \n",
              "        <rect width=\"100%\" height=\"100%\" style=\"fill:white;stroke:;stroke-width:1\"/>\n",
              "        \n",
              "        \n",
              "        <line x1=\"750.0\" y1=\"750.0\" x2=\"750.0\" y2=\"760.0\" stroke-linecap=\"round\" style=\"stroke:black;stroke-width:3\" /><line x1=\"750.0\" y1=\"760.0\" x2=\"760.0\" y2=\"760.0\" stroke-linecap=\"round\" style=\"stroke:black;stroke-width:3\" /><line x1=\"760.0\" y1=\"760.0\" x2=\"760.0\" y2=\"750.0\" stroke-linecap=\"round\" style=\"stroke:black;stroke-width:3\" /><line x1=\"760.0\" y1=\"750.0\" x2=\"750.0\" y2=\"750.0\" stroke-linecap=\"round\" style=\"stroke:black;stroke-width:3\" /><line x1=\"750.0\" y1=\"750.0\" x2=\"750.0\" y2=\"760.0\" stroke-linecap=\"round\" style=\"stroke:black;stroke-width:3\" /><line x1=\"750.0\" y1=\"760.0\" x2=\"760.0\" y2=\"760.0\" stroke-linecap=\"round\" style=\"stroke:black;stroke-width:3\" /><line x1=\"760.0\" y1=\"760.0\" x2=\"780.0\" y2=\"760.0\" stroke-linecap=\"round\" style=\"stroke:black;stroke-width:3\" /><line x1=\"780.0\" y1=\"760.0\" x2=\"780.0\" y2=\"740.0\" stroke-linecap=\"round\" style=\"stroke:black;stroke-width:3\" /><line x1=\"780.0\" y1=\"740.0\" x2=\"760.0\" y2=\"740.0\" stroke-linecap=\"round\" style=\"stroke:black;stroke-width:3\" /><line x1=\"760.0\" y1=\"740.0\" x2=\"760.0\" y2=\"760.0\" stroke-linecap=\"round\" style=\"stroke:black;stroke-width:3\" /><line x1=\"760.0\" y1=\"760.0\" x2=\"780.0\" y2=\"760.0\" stroke-linecap=\"round\" style=\"stroke:black;stroke-width:3\" /><line x1=\"780.0\" y1=\"760.0\" x2=\"780.0\" y2=\"740.0\" stroke-linecap=\"round\" style=\"stroke:black;stroke-width:3\" /><line x1=\"780.0\" y1=\"740.0\" x2=\"780.0\" y2=\"710.0\" stroke-linecap=\"round\" style=\"stroke:black;stroke-width:3\" /><line x1=\"780.0\" y1=\"710.0\" x2=\"750.0\" y2=\"710.0\" stroke-linecap=\"round\" style=\"stroke:black;stroke-width:3\" /><line x1=\"750.0\" y1=\"710.0\" x2=\"750.0\" y2=\"740.0\" stroke-linecap=\"round\" style=\"stroke:black;stroke-width:3\" /><line x1=\"750.0\" y1=\"740.0\" x2=\"780.0\" y2=\"740.0\" stroke-linecap=\"round\" style=\"stroke:black;stroke-width:3\" /><line x1=\"780.0\" y1=\"740.0\" x2=\"780.0\" y2=\"710.0\" stroke-linecap=\"round\" style=\"stroke:black;stroke-width:3\" /><line x1=\"780.0\" y1=\"710.0\" x2=\"750.0\" y2=\"710.0\" stroke-linecap=\"round\" style=\"stroke:black;stroke-width:3\" /><line x1=\"750.0\" y1=\"710.0\" x2=\"700.0\" y2=\"710.0\" stroke-linecap=\"round\" style=\"stroke:black;stroke-width:3\" /><line x1=\"700.0\" y1=\"710.0\" x2=\"700.0\" y2=\"760.0\" stroke-linecap=\"round\" style=\"stroke:black;stroke-width:3\" /><line x1=\"700.0\" y1=\"760.0\" x2=\"750.0\" y2=\"760.0\" stroke-linecap=\"round\" style=\"stroke:black;stroke-width:3\" /><line x1=\"750.0\" y1=\"760.0\" x2=\"750.0\" y2=\"710.0\" stroke-linecap=\"round\" style=\"stroke:black;stroke-width:3\" /><line x1=\"750.0\" y1=\"710.0\" x2=\"700.0\" y2=\"710.0\" stroke-linecap=\"round\" style=\"stroke:black;stroke-width:3\" /><line x1=\"700.0\" y1=\"710.0\" x2=\"700.0\" y2=\"760.0\" stroke-linecap=\"round\" style=\"stroke:black;stroke-width:3\" /><line x1=\"700.0\" y1=\"760.0\" x2=\"700.0\" y2=\"840.0\" stroke-linecap=\"round\" style=\"stroke:black;stroke-width:3\" /><line x1=\"700.0\" y1=\"840.0\" x2=\"780.0\" y2=\"840.0\" stroke-linecap=\"round\" style=\"stroke:black;stroke-width:3\" /><line x1=\"780.0\" y1=\"840.0\" x2=\"780.0\" y2=\"760.0\" stroke-linecap=\"round\" style=\"stroke:black;stroke-width:3\" /><line x1=\"780.0\" y1=\"760.0\" x2=\"700.0\" y2=\"760.0\" stroke-linecap=\"round\" style=\"stroke:black;stroke-width:3\" /><line x1=\"700.0\" y1=\"760.0\" x2=\"700.0\" y2=\"840.0\" stroke-linecap=\"round\" style=\"stroke:black;stroke-width:3\" /><line x1=\"700.0\" y1=\"840.0\" x2=\"780.0\" y2=\"840.0\" stroke-linecap=\"round\" style=\"stroke:black;stroke-width:3\" /><line x1=\"780.0\" y1=\"840.0\" x2=\"910.0\" y2=\"840.0\" stroke-linecap=\"round\" style=\"stroke:black;stroke-width:3\" /><line x1=\"910.0\" y1=\"840.0\" x2=\"910.0\" y2=\"710.0\" stroke-linecap=\"round\" style=\"stroke:black;stroke-width:3\" /><line x1=\"910.0\" y1=\"710.0\" x2=\"780.0\" y2=\"710.0\" stroke-linecap=\"round\" style=\"stroke:black;stroke-width:3\" /><line x1=\"780.0\" y1=\"710.0\" x2=\"780.0\" y2=\"840.0\" stroke-linecap=\"round\" style=\"stroke:black;stroke-width:3\" /><line x1=\"780.0\" y1=\"840.0\" x2=\"910.0\" y2=\"840.0\" stroke-linecap=\"round\" style=\"stroke:black;stroke-width:3\" /><line x1=\"910.0\" y1=\"840.0\" x2=\"910.0\" y2=\"710.0\" stroke-linecap=\"round\" style=\"stroke:black;stroke-width:3\" /><line x1=\"910.0\" y1=\"710.0\" x2=\"910.0\" y2=\"500.0\" stroke-linecap=\"round\" style=\"stroke:black;stroke-width:3\" /><line x1=\"910.0\" y1=\"500.0\" x2=\"700.0\" y2=\"500.0\" stroke-linecap=\"round\" style=\"stroke:black;stroke-width:3\" /><line x1=\"700.0\" y1=\"500.0\" x2=\"700.0\" y2=\"710.0\" stroke-linecap=\"round\" style=\"stroke:black;stroke-width:3\" /><line x1=\"700.0\" y1=\"710.0\" x2=\"910.0\" y2=\"710.0\" stroke-linecap=\"round\" style=\"stroke:black;stroke-width:3\" /><line x1=\"910.0\" y1=\"710.0\" x2=\"910.0\" y2=\"500.0\" stroke-linecap=\"round\" style=\"stroke:black;stroke-width:3\" /><line x1=\"910.0\" y1=\"500.0\" x2=\"700.0\" y2=\"500.0\" stroke-linecap=\"round\" style=\"stroke:black;stroke-width:3\" /><line x1=\"700.0\" y1=\"500.0\" x2=\"360.0\" y2=\"500.0\" stroke-linecap=\"round\" style=\"stroke:black;stroke-width:3\" /><line x1=\"360.0\" y1=\"500.0\" x2=\"360.0\" y2=\"840.0\" stroke-linecap=\"round\" style=\"stroke:black;stroke-width:3\" /><line x1=\"360.0\" y1=\"840.0\" x2=\"700.0\" y2=\"840.0\" stroke-linecap=\"round\" style=\"stroke:black;stroke-width:3\" /><line x1=\"700.0\" y1=\"840.0\" x2=\"700.0\" y2=\"500.0\" stroke-linecap=\"round\" style=\"stroke:black;stroke-width:3\" /><line x1=\"700.0\" y1=\"500.0\" x2=\"360.0\" y2=\"500.0\" stroke-linecap=\"round\" style=\"stroke:black;stroke-width:3\" /><line x1=\"360.0\" y1=\"500.0\" x2=\"360.0\" y2=\"840.0\" stroke-linecap=\"round\" style=\"stroke:black;stroke-width:3\" /><line x1=\"360.0\" y1=\"840.0\" x2=\"360.0\" y2=\"1390.0\" stroke-linecap=\"round\" style=\"stroke:black;stroke-width:3\" /><line x1=\"360.0\" y1=\"1390.0\" x2=\"910.0\" y2=\"1390.0\" stroke-linecap=\"round\" style=\"stroke:black;stroke-width:3\" /><line x1=\"910.0\" y1=\"1390.0\" x2=\"910.0\" y2=\"840.0\" stroke-linecap=\"round\" style=\"stroke:black;stroke-width:3\" /><line x1=\"910.0\" y1=\"840.0\" x2=\"360.0\" y2=\"840.0\" stroke-linecap=\"round\" style=\"stroke:black;stroke-width:3\" /><line x1=\"360.0\" y1=\"840.0\" x2=\"360.0\" y2=\"1390.0\" stroke-linecap=\"round\" style=\"stroke:black;stroke-width:3\" /><line x1=\"360.0\" y1=\"1390.0\" x2=\"910.0\" y2=\"1390.0\" stroke-linecap=\"round\" style=\"stroke:black;stroke-width:3\" /><line x1=\"910.0\" y1=\"1390.0\" x2=\"1800.0\" y2=\"1390.0\" stroke-linecap=\"round\" style=\"stroke:black;stroke-width:3\" /><line x1=\"1800.0\" y1=\"1390.0\" x2=\"1800.0\" y2=\"500.0\" stroke-linecap=\"round\" style=\"stroke:black;stroke-width:3\" /><line x1=\"1800.0\" y1=\"500.0\" x2=\"910.0\" y2=\"500.0\" stroke-linecap=\"round\" style=\"stroke:black;stroke-width:3\" /><line x1=\"910.0\" y1=\"500.0\" x2=\"910.0\" y2=\"1390.0\" stroke-linecap=\"round\" style=\"stroke:black;stroke-width:3\" /><line x1=\"910.0\" y1=\"1390.0\" x2=\"1800.0\" y2=\"1390.0\" stroke-linecap=\"round\" style=\"stroke:black;stroke-width:3\" /><line x1=\"1800.0\" y1=\"1390.0\" x2=\"1800.0\" y2=\"500.0\" stroke-linecap=\"round\" style=\"stroke:black;stroke-width:3\" /><line x1=\"750.0\" y1=\"750.0\" x2=\"750.766\" y2=\"753.852\" stroke-linecap=\"round\" style=\"stroke:black;stroke-width:3\" /><line x1=\"750.766\" y1=\"753.852\" x2=\"752.948\" y2=\"757.117\" stroke-linecap=\"round\" style=\"stroke:black;stroke-width:3\" /><line x1=\"752.948\" y1=\"757.117\" x2=\"756.213\" y2=\"759.299\" stroke-linecap=\"round\" style=\"stroke:black;stroke-width:3\" /><line x1=\"756.213\" y1=\"759.299\" x2=\"760.065\" y2=\"760.065\" stroke-linecap=\"round\" style=\"stroke:black;stroke-width:3\" /><line x1=\"760.065\" y1=\"760.065\" x2=\"763.973\" y2=\"759.68\" stroke-linecap=\"round\" style=\"stroke:black;stroke-width:3\" /><line x1=\"763.973\" y1=\"759.68\" x2=\"767.731\" y2=\"758.54\" stroke-linecap=\"round\" style=\"stroke:black;stroke-width:3\" /><line x1=\"767.731\" y1=\"758.54\" x2=\"771.194\" y2=\"756.689\" stroke-linecap=\"round\" style=\"stroke:black;stroke-width:3\" /><line x1=\"771.194\" y1=\"756.689\" x2=\"774.23\" y2=\"754.198\" stroke-linecap=\"round\" style=\"stroke:black;stroke-width:3\" /><line x1=\"774.23\" y1=\"754.198\" x2=\"776.721\" y2=\"751.162\" stroke-linecap=\"round\" style=\"stroke:black;stroke-width:3\" /><line x1=\"776.721\" y1=\"751.162\" x2=\"778.572\" y2=\"747.699\" stroke-linecap=\"round\" style=\"stroke:black;stroke-width:3\" /><line x1=\"778.572\" y1=\"747.699\" x2=\"779.712\" y2=\"743.941\" stroke-linecap=\"round\" style=\"stroke:black;stroke-width:3\" /><line x1=\"779.712\" y1=\"743.941\" x2=\"780.097\" y2=\"740.033\" stroke-linecap=\"round\" style=\"stroke:black;stroke-width:3\" /><line x1=\"780.097\" y1=\"740.033\" x2=\"779.84\" y2=\"736.114\" stroke-linecap=\"round\" style=\"stroke:black;stroke-width:3\" /><line x1=\"779.84\" y1=\"736.114\" x2=\"779.074\" y2=\"732.262\" stroke-linecap=\"round\" style=\"stroke:black;stroke-width:3\" /><line x1=\"779.074\" y1=\"732.262\" x2=\"777.812\" y2=\"728.543\" stroke-linecap=\"round\" style=\"stroke:black;stroke-width:3\" /><line x1=\"777.812\" y1=\"728.543\" x2=\"776.075\" y2=\"725.021\" stroke-linecap=\"round\" style=\"stroke:black;stroke-width:3\" /><line x1=\"776.075\" y1=\"725.021\" x2=\"773.893\" y2=\"721.756\" stroke-linecap=\"round\" style=\"stroke:black;stroke-width:3\" /><line x1=\"773.893\" y1=\"721.756\" x2=\"771.304\" y2=\"718.804\" stroke-linecap=\"round\" style=\"stroke:black;stroke-width:3\" /><line x1=\"771.304\" y1=\"718.804\" x2=\"768.352\" y2=\"716.215\" stroke-linecap=\"round\" style=\"stroke:black;stroke-width:3\" /><line x1=\"768.352\" y1=\"716.215\" x2=\"765.087\" y2=\"714.033\" stroke-linecap=\"round\" style=\"stroke:black;stroke-width:3\" /><line x1=\"765.087\" y1=\"714.033\" x2=\"761.565\" y2=\"712.296\" stroke-linecap=\"round\" style=\"stroke:black;stroke-width:3\" /><line x1=\"761.565\" y1=\"712.296\" x2=\"757.846\" y2=\"711.034\" stroke-linecap=\"round\" style=\"stroke:black;stroke-width:3\" /><line x1=\"757.846\" y1=\"711.034\" x2=\"753.994\" y2=\"710.268\" stroke-linecap=\"round\" style=\"stroke:black;stroke-width:3\" /><line x1=\"753.994\" y1=\"710.268\" x2=\"750.075\" y2=\"710.011\" stroke-linecap=\"round\" style=\"stroke:black;stroke-width:3\" /><line x1=\"750.075\" y1=\"710.011\" x2=\"746.151\" y2=\"710.165\" stroke-linecap=\"round\" style=\"stroke:black;stroke-width:3\" /><line x1=\"746.151\" y1=\"710.165\" x2=\"742.251\" y2=\"710.627\" stroke-linecap=\"round\" style=\"stroke:black;stroke-width:3\" /><line x1=\"742.251\" y1=\"710.627\" x2=\"738.399\" y2=\"711.393\" stroke-linecap=\"round\" style=\"stroke:black;stroke-width:3\" /><line x1=\"738.399\" y1=\"711.393\" x2=\"734.619\" y2=\"712.459\" stroke-linecap=\"round\" style=\"stroke:black;stroke-width:3\" /><line x1=\"734.619\" y1=\"712.459\" x2=\"730.935\" y2=\"713.818\" stroke-linecap=\"round\" style=\"stroke:black;stroke-width:3\" /><line x1=\"730.935\" y1=\"713.818\" x2=\"727.369\" y2=\"715.462\" stroke-linecap=\"round\" style=\"stroke:black;stroke-width:3\" /><line x1=\"727.369\" y1=\"715.462\" x2=\"723.943\" y2=\"717.381\" stroke-linecap=\"round\" style=\"stroke:black;stroke-width:3\" /><line x1=\"723.943\" y1=\"717.381\" x2=\"720.678\" y2=\"719.563\" stroke-linecap=\"round\" style=\"stroke:black;stroke-width:3\" /><line x1=\"720.678\" y1=\"719.563\" x2=\"717.594\" y2=\"721.994\" stroke-linecap=\"round\" style=\"stroke:black;stroke-width:3\" /><line x1=\"717.594\" y1=\"721.994\" x2=\"714.71\" y2=\"724.66\" stroke-linecap=\"round\" style=\"stroke:black;stroke-width:3\" /><line x1=\"714.71\" y1=\"724.66\" x2=\"712.044\" y2=\"727.544\" stroke-linecap=\"round\" style=\"stroke:black;stroke-width:3\" /><line x1=\"712.044\" y1=\"727.544\" x2=\"709.613\" y2=\"730.628\" stroke-linecap=\"round\" style=\"stroke:black;stroke-width:3\" /><line x1=\"709.613\" y1=\"730.628\" x2=\"707.431\" y2=\"733.893\" stroke-linecap=\"round\" style=\"stroke:black;stroke-width:3\" /><line x1=\"707.431\" y1=\"733.893\" x2=\"705.512\" y2=\"737.319\" stroke-linecap=\"round\" style=\"stroke:black;stroke-width:3\" /><line x1=\"705.512\" y1=\"737.319\" x2=\"703.868\" y2=\"740.885\" stroke-linecap=\"round\" style=\"stroke:black;stroke-width:3\" /><line x1=\"703.868\" y1=\"740.885\" x2=\"702.509\" y2=\"744.569\" stroke-linecap=\"round\" style=\"stroke:black;stroke-width:3\" /><line x1=\"702.509\" y1=\"744.569\" x2=\"701.443\" y2=\"748.349\" stroke-linecap=\"round\" style=\"stroke:black;stroke-width:3\" /><line x1=\"701.443\" y1=\"748.349\" x2=\"700.677\" y2=\"752.201\" stroke-linecap=\"round\" style=\"stroke:black;stroke-width:3\" /><line x1=\"700.677\" y1=\"752.201\" x2=\"700.215\" y2=\"756.101\" stroke-linecap=\"round\" style=\"stroke:black;stroke-width:3\" /><line x1=\"700.215\" y1=\"756.101\" x2=\"700.061\" y2=\"760.025\" stroke-linecap=\"round\" style=\"stroke:black;stroke-width:3\" /><line x1=\"700.061\" y1=\"760.025\" x2=\"700.157\" y2=\"763.951\" stroke-linecap=\"round\" style=\"stroke:black;stroke-width:3\" /><line x1=\"700.157\" y1=\"763.951\" x2=\"700.446\" y2=\"767.867\" stroke-linecap=\"round\" style=\"stroke:black;stroke-width:3\" /><line x1=\"700.446\" y1=\"767.867\" x2=\"700.927\" y2=\"771.764\" stroke-linecap=\"round\" style=\"stroke:black;stroke-width:3\" /><line x1=\"700.927\" y1=\"771.764\" x2=\"701.598\" y2=\"775.633\" stroke-linecap=\"round\" style=\"stroke:black;stroke-width:3\" /><line x1=\"701.598\" y1=\"775.633\" x2=\"702.458\" y2=\"779.465\" stroke-linecap=\"round\" style=\"stroke:black;stroke-width:3\" /><line x1=\"702.458\" y1=\"779.465\" x2=\"703.505\" y2=\"783.25\" stroke-linecap=\"round\" style=\"stroke:black;stroke-width:3\" /><line x1=\"703.505\" y1=\"783.25\" x2=\"704.737\" y2=\"786.979\" stroke-linecap=\"round\" style=\"stroke:black;stroke-width:3\" /><line x1=\"704.737\" y1=\"786.979\" x2=\"706.15\" y2=\"790.643\" stroke-linecap=\"round\" style=\"stroke:black;stroke-width:3\" /><line x1=\"706.15\" y1=\"790.643\" x2=\"707.741\" y2=\"794.233\" stroke-linecap=\"round\" style=\"stroke:black;stroke-width:3\" /><line x1=\"707.741\" y1=\"794.233\" x2=\"709.507\" y2=\"797.741\" stroke-linecap=\"round\" style=\"stroke:black;stroke-width:3\" /><line x1=\"709.507\" y1=\"797.741\" x2=\"711.443\" y2=\"801.158\" stroke-linecap=\"round\" style=\"stroke:black;stroke-width:3\" /><line x1=\"711.443\" y1=\"801.158\" x2=\"713.544\" y2=\"804.476\" stroke-linecap=\"round\" style=\"stroke:black;stroke-width:3\" /><line x1=\"713.544\" y1=\"804.476\" x2=\"715.805\" y2=\"807.687\" stroke-linecap=\"round\" style=\"stroke:black;stroke-width:3\" /><line x1=\"715.805\" y1=\"807.687\" x2=\"718.221\" y2=\"810.783\" stroke-linecap=\"round\" style=\"stroke:black;stroke-width:3\" /><line x1=\"718.221\" y1=\"810.783\" x2=\"720.786\" y2=\"813.757\" stroke-linecap=\"round\" style=\"stroke:black;stroke-width:3\" /><line x1=\"720.786\" y1=\"813.757\" x2=\"723.494\" y2=\"816.601\" stroke-linecap=\"round\" style=\"stroke:black;stroke-width:3\" /><line x1=\"723.494\" y1=\"816.601\" x2=\"726.338\" y2=\"819.309\" stroke-linecap=\"round\" style=\"stroke:black;stroke-width:3\" /><line x1=\"726.338\" y1=\"819.309\" x2=\"729.312\" y2=\"821.874\" stroke-linecap=\"round\" style=\"stroke:black;stroke-width:3\" /><line x1=\"729.312\" y1=\"821.874\" x2=\"732.408\" y2=\"824.29\" stroke-linecap=\"round\" style=\"stroke:black;stroke-width:3\" /><line x1=\"732.408\" y1=\"824.29\" x2=\"735.619\" y2=\"826.551\" stroke-linecap=\"round\" style=\"stroke:black;stroke-width:3\" /><line x1=\"735.619\" y1=\"826.551\" x2=\"738.937\" y2=\"828.652\" stroke-linecap=\"round\" style=\"stroke:black;stroke-width:3\" /><line x1=\"738.937\" y1=\"828.652\" x2=\"742.354\" y2=\"830.588\" stroke-linecap=\"round\" style=\"stroke:black;stroke-width:3\" /><line x1=\"742.354\" y1=\"830.588\" x2=\"745.862\" y2=\"832.354\" stroke-linecap=\"round\" style=\"stroke:black;stroke-width:3\" /><line x1=\"745.862\" y1=\"832.354\" x2=\"749.452\" y2=\"833.945\" stroke-linecap=\"round\" style=\"stroke:black;stroke-width:3\" /><line x1=\"749.452\" y1=\"833.945\" x2=\"753.116\" y2=\"835.358\" stroke-linecap=\"round\" style=\"stroke:black;stroke-width:3\" /><line x1=\"753.116\" y1=\"835.358\" x2=\"756.845\" y2=\"836.59\" stroke-linecap=\"round\" style=\"stroke:black;stroke-width:3\" /><line x1=\"756.845\" y1=\"836.59\" x2=\"760.63\" y2=\"837.637\" stroke-linecap=\"round\" style=\"stroke:black;stroke-width:3\" /><line x1=\"760.63\" y1=\"837.637\" x2=\"764.462\" y2=\"838.497\" stroke-linecap=\"round\" style=\"stroke:black;stroke-width:3\" /><line x1=\"764.462\" y1=\"838.497\" x2=\"768.331\" y2=\"839.168\" stroke-linecap=\"round\" style=\"stroke:black;stroke-width:3\" /><line x1=\"768.331\" y1=\"839.168\" x2=\"772.228\" y2=\"839.649\" stroke-linecap=\"round\" style=\"stroke:black;stroke-width:3\" /><line x1=\"772.228\" y1=\"839.649\" x2=\"776.144\" y2=\"839.938\" stroke-linecap=\"round\" style=\"stroke:black;stroke-width:3\" /><line x1=\"776.144\" y1=\"839.938\" x2=\"780.07\" y2=\"840.034\" stroke-linecap=\"round\" style=\"stroke:black;stroke-width:3\" /><line x1=\"780.07\" y1=\"840.034\" x2=\"783.997\" y2=\"839.975\" stroke-linecap=\"round\" style=\"stroke:black;stroke-width:3\" /><line x1=\"783.997\" y1=\"839.975\" x2=\"787.92\" y2=\"839.797\" stroke-linecap=\"round\" style=\"stroke:black;stroke-width:3\" /><line x1=\"787.92\" y1=\"839.797\" x2=\"791.836\" y2=\"839.501\" stroke-linecap=\"round\" style=\"stroke:black;stroke-width:3\" /><line x1=\"791.836\" y1=\"839.501\" x2=\"795.741\" y2=\"839.087\" stroke-linecap=\"round\" style=\"stroke:black;stroke-width:3\" /><line x1=\"795.741\" y1=\"839.087\" x2=\"799.632\" y2=\"838.555\" stroke-linecap=\"round\" style=\"stroke:black;stroke-width:3\" /><line x1=\"799.632\" y1=\"838.555\" x2=\"803.505\" y2=\"837.906\" stroke-linecap=\"round\" style=\"stroke:black;stroke-width:3\" /><line x1=\"803.505\" y1=\"837.906\" x2=\"807.357\" y2=\"837.14\" stroke-linecap=\"round\" style=\"stroke:black;stroke-width:3\" /><line x1=\"807.357\" y1=\"837.14\" x2=\"811.184\" y2=\"836.258\" stroke-linecap=\"round\" style=\"stroke:black;stroke-width:3\" /><line x1=\"811.184\" y1=\"836.258\" x2=\"814.982\" y2=\"835.261\" stroke-linecap=\"round\" style=\"stroke:black;stroke-width:3\" /><line x1=\"814.982\" y1=\"835.261\" x2=\"818.748\" y2=\"834.149\" stroke-linecap=\"round\" style=\"stroke:black;stroke-width:3\" /><line x1=\"818.748\" y1=\"834.149\" x2=\"822.479\" y2=\"832.924\" stroke-linecap=\"round\" style=\"stroke:black;stroke-width:3\" /><line x1=\"822.479\" y1=\"832.924\" x2=\"826.171\" y2=\"831.587\" stroke-linecap=\"round\" style=\"stroke:black;stroke-width:3\" /><line x1=\"826.171\" y1=\"831.587\" x2=\"829.821\" y2=\"830.139\" stroke-linecap=\"round\" style=\"stroke:black;stroke-width:3\" /><line x1=\"829.821\" y1=\"830.139\" x2=\"833.426\" y2=\"828.582\" stroke-linecap=\"round\" style=\"stroke:black;stroke-width:3\" /><line x1=\"833.426\" y1=\"828.582\" x2=\"836.982\" y2=\"826.916\" stroke-linecap=\"round\" style=\"stroke:black;stroke-width:3\" /><line x1=\"836.982\" y1=\"826.916\" x2=\"840.486\" y2=\"825.144\" stroke-linecap=\"round\" style=\"stroke:black;stroke-width:3\" /><line x1=\"840.486\" y1=\"825.144\" x2=\"843.935\" y2=\"823.267\" stroke-linecap=\"round\" style=\"stroke:black;stroke-width:3\" /><line x1=\"843.935\" y1=\"823.267\" x2=\"847.326\" y2=\"821.286\" stroke-linecap=\"round\" style=\"stroke:black;stroke-width:3\" /><line x1=\"847.326\" y1=\"821.286\" x2=\"850.656\" y2=\"819.204\" stroke-linecap=\"round\" style=\"stroke:black;stroke-width:3\" /><line x1=\"850.656\" y1=\"819.204\" x2=\"853.921\" y2=\"817.022\" stroke-linecap=\"round\" style=\"stroke:black;stroke-width:3\" /><line x1=\"853.921\" y1=\"817.022\" x2=\"857.119\" y2=\"814.743\" stroke-linecap=\"round\" style=\"stroke:black;stroke-width:3\" /><line x1=\"857.119\" y1=\"814.743\" x2=\"860.246\" y2=\"812.368\" stroke-linecap=\"round\" style=\"stroke:black;stroke-width:3\" /><line x1=\"860.246\" y1=\"812.368\" x2=\"863.3\" y2=\"809.9\" stroke-linecap=\"round\" style=\"stroke:black;stroke-width:3\" /><line x1=\"863.3\" y1=\"809.9\" x2=\"866.278\" y2=\"807.341\" stroke-linecap=\"round\" style=\"stroke:black;stroke-width:3\" /><line x1=\"866.278\" y1=\"807.341\" x2=\"869.178\" y2=\"804.693\" stroke-linecap=\"round\" style=\"stroke:black;stroke-width:3\" /><line x1=\"869.178\" y1=\"804.693\" x2=\"871.996\" y2=\"801.958\" stroke-linecap=\"round\" style=\"stroke:black;stroke-width:3\" /><line x1=\"871.996\" y1=\"801.958\" x2=\"874.731\" y2=\"799.14\" stroke-linecap=\"round\" style=\"stroke:black;stroke-width:3\" /><line x1=\"874.731\" y1=\"799.14\" x2=\"877.379\" y2=\"796.24\" stroke-linecap=\"round\" style=\"stroke:black;stroke-width:3\" /><line x1=\"877.379\" y1=\"796.24\" x2=\"879.938\" y2=\"793.262\" stroke-linecap=\"round\" style=\"stroke:black;stroke-width:3\" /><line x1=\"879.938\" y1=\"793.262\" x2=\"882.406\" y2=\"790.208\" stroke-linecap=\"round\" style=\"stroke:black;stroke-width:3\" /><line x1=\"882.406\" y1=\"790.208\" x2=\"884.781\" y2=\"787.081\" stroke-linecap=\"round\" style=\"stroke:black;stroke-width:3\" /><line x1=\"884.781\" y1=\"787.081\" x2=\"887.06\" y2=\"783.883\" stroke-linecap=\"round\" style=\"stroke:black;stroke-width:3\" /><line x1=\"887.06\" y1=\"783.883\" x2=\"889.242\" y2=\"780.618\" stroke-linecap=\"round\" style=\"stroke:black;stroke-width:3\" /><line x1=\"889.242\" y1=\"780.618\" x2=\"891.324\" y2=\"777.288\" stroke-linecap=\"round\" style=\"stroke:black;stroke-width:3\" /><line x1=\"891.324\" y1=\"777.288\" x2=\"893.305\" y2=\"773.897\" stroke-linecap=\"round\" style=\"stroke:black;stroke-width:3\" /><line x1=\"893.305\" y1=\"773.897\" x2=\"895.182\" y2=\"770.448\" stroke-linecap=\"round\" style=\"stroke:black;stroke-width:3\" /><line x1=\"895.182\" y1=\"770.448\" x2=\"896.954\" y2=\"766.944\" stroke-linecap=\"round\" style=\"stroke:black;stroke-width:3\" /><line x1=\"896.954\" y1=\"766.944\" x2=\"898.62\" y2=\"763.388\" stroke-linecap=\"round\" style=\"stroke:black;stroke-width:3\" /><line x1=\"898.62\" y1=\"763.388\" x2=\"900.177\" y2=\"759.783\" stroke-linecap=\"round\" style=\"stroke:black;stroke-width:3\" /><line x1=\"900.177\" y1=\"759.783\" x2=\"901.625\" y2=\"756.133\" stroke-linecap=\"round\" style=\"stroke:black;stroke-width:3\" /><line x1=\"901.625\" y1=\"756.133\" x2=\"902.962\" y2=\"752.441\" stroke-linecap=\"round\" style=\"stroke:black;stroke-width:3\" /><line x1=\"902.962\" y1=\"752.441\" x2=\"904.187\" y2=\"748.71\" stroke-linecap=\"round\" style=\"stroke:black;stroke-width:3\" /><line x1=\"904.187\" y1=\"748.71\" x2=\"905.299\" y2=\"744.944\" stroke-linecap=\"round\" style=\"stroke:black;stroke-width:3\" /><line x1=\"905.299\" y1=\"744.944\" x2=\"906.296\" y2=\"741.146\" stroke-linecap=\"round\" style=\"stroke:black;stroke-width:3\" /><line x1=\"906.296\" y1=\"741.146\" x2=\"907.178\" y2=\"737.319\" stroke-linecap=\"round\" style=\"stroke:black;stroke-width:3\" /><line x1=\"907.178\" y1=\"737.319\" x2=\"907.944\" y2=\"733.467\" stroke-linecap=\"round\" style=\"stroke:black;stroke-width:3\" /><line x1=\"907.944\" y1=\"733.467\" x2=\"908.593\" y2=\"729.594\" stroke-linecap=\"round\" style=\"stroke:black;stroke-width:3\" /><line x1=\"908.593\" y1=\"729.594\" x2=\"909.125\" y2=\"725.703\" stroke-linecap=\"round\" style=\"stroke:black;stroke-width:3\" /><line x1=\"909.125\" y1=\"725.703\" x2=\"909.539\" y2=\"721.798\" stroke-linecap=\"round\" style=\"stroke:black;stroke-width:3\" /><line x1=\"909.539\" y1=\"721.798\" x2=\"909.835\" y2=\"717.882\" stroke-linecap=\"round\" style=\"stroke:black;stroke-width:3\" /><line x1=\"909.835\" y1=\"717.882\" x2=\"910.013\" y2=\"713.959\" stroke-linecap=\"round\" style=\"stroke:black;stroke-width:3\" /><line x1=\"910.013\" y1=\"713.959\" x2=\"910.072\" y2=\"710.032\" stroke-linecap=\"round\" style=\"stroke:black;stroke-width:3\" /><line x1=\"910.072\" y1=\"710.032\" x2=\"910.034\" y2=\"706.058\" stroke-linecap=\"round\" style=\"stroke:black;stroke-width:3\" /><line x1=\"910.034\" y1=\"706.058\" x2=\"909.921\" y2=\"702.085\" stroke-linecap=\"round\" style=\"stroke:black;stroke-width:3\" /><line x1=\"909.921\" y1=\"702.085\" x2=\"909.733\" y2=\"698.115\" stroke-linecap=\"round\" style=\"stroke:black;stroke-width:3\" /><line x1=\"909.733\" y1=\"698.115\" x2=\"909.47\" y2=\"694.149\" stroke-linecap=\"round\" style=\"stroke:black;stroke-width:3\" /><line x1=\"909.47\" y1=\"694.149\" x2=\"909.132\" y2=\"690.189\" stroke-linecap=\"round\" style=\"stroke:black;stroke-width:3\" /><line x1=\"909.132\" y1=\"690.189\" x2=\"908.719\" y2=\"686.236\" stroke-linecap=\"round\" style=\"stroke:black;stroke-width:3\" /><line x1=\"908.719\" y1=\"686.236\" x2=\"908.231\" y2=\"682.292\" stroke-linecap=\"round\" style=\"stroke:black;stroke-width:3\" /><line x1=\"908.231\" y1=\"682.292\" x2=\"907.669\" y2=\"678.358\" stroke-linecap=\"round\" style=\"stroke:black;stroke-width:3\" /><line x1=\"907.669\" y1=\"678.358\" x2=\"907.032\" y2=\"674.435\" stroke-linecap=\"round\" style=\"stroke:black;stroke-width:3\" /><line x1=\"907.032\" y1=\"674.435\" x2=\"906.321\" y2=\"670.525\" stroke-linecap=\"round\" style=\"stroke:black;stroke-width:3\" /><line x1=\"906.321\" y1=\"670.525\" x2=\"905.536\" y2=\"666.629\" stroke-linecap=\"round\" style=\"stroke:black;stroke-width:3\" /><line x1=\"905.536\" y1=\"666.629\" x2=\"904.678\" y2=\"662.748\" stroke-linecap=\"round\" style=\"stroke:black;stroke-width:3\" /><line x1=\"904.678\" y1=\"662.748\" x2=\"903.747\" y2=\"658.884\" stroke-linecap=\"round\" style=\"stroke:black;stroke-width:3\" /><line x1=\"903.747\" y1=\"658.884\" x2=\"902.743\" y2=\"655.039\" stroke-linecap=\"round\" style=\"stroke:black;stroke-width:3\" /><line x1=\"902.743\" y1=\"655.039\" x2=\"901.666\" y2=\"651.213\" stroke-linecap=\"round\" style=\"stroke:black;stroke-width:3\" /><line x1=\"901.666\" y1=\"651.213\" x2=\"900.517\" y2=\"647.408\" stroke-linecap=\"round\" style=\"stroke:black;stroke-width:3\" /><line x1=\"900.517\" y1=\"647.408\" x2=\"899.296\" y2=\"643.626\" stroke-linecap=\"round\" style=\"stroke:black;stroke-width:3\" /><line x1=\"899.296\" y1=\"643.626\" x2=\"898.004\" y2=\"639.868\" stroke-linecap=\"round\" style=\"stroke:black;stroke-width:3\" /><line x1=\"898.004\" y1=\"639.868\" x2=\"896.641\" y2=\"636.135\" stroke-linecap=\"round\" style=\"stroke:black;stroke-width:3\" /><line x1=\"896.641\" y1=\"636.135\" x2=\"895.207\" y2=\"632.428\" stroke-linecap=\"round\" style=\"stroke:black;stroke-width:3\" /><line x1=\"895.207\" y1=\"632.428\" x2=\"893.703\" y2=\"628.749\" stroke-linecap=\"round\" style=\"stroke:black;stroke-width:3\" /><line x1=\"893.703\" y1=\"628.749\" x2=\"892.13\" y2=\"625.099\" stroke-linecap=\"round\" style=\"stroke:black;stroke-width:3\" /><line x1=\"892.13\" y1=\"625.099\" x2=\"890.488\" y2=\"621.48\" stroke-linecap=\"round\" style=\"stroke:black;stroke-width:3\" /><line x1=\"890.488\" y1=\"621.48\" x2=\"888.778\" y2=\"617.892\" stroke-linecap=\"round\" style=\"stroke:black;stroke-width:3\" /><line x1=\"888.778\" y1=\"617.892\" x2=\"887.001\" y2=\"614.337\" stroke-linecap=\"round\" style=\"stroke:black;stroke-width:3\" /><line x1=\"887.001\" y1=\"614.337\" x2=\"885.157\" y2=\"610.817\" stroke-linecap=\"round\" style=\"stroke:black;stroke-width:3\" /><line x1=\"885.157\" y1=\"610.817\" x2=\"883.246\" y2=\"607.332\" stroke-linecap=\"round\" style=\"stroke:black;stroke-width:3\" /><line x1=\"883.246\" y1=\"607.332\" x2=\"881.27\" y2=\"603.884\" stroke-linecap=\"round\" style=\"stroke:black;stroke-width:3\" /><line x1=\"881.27\" y1=\"603.884\" x2=\"879.229\" y2=\"600.474\" stroke-linecap=\"round\" style=\"stroke:black;stroke-width:3\" /><line x1=\"879.229\" y1=\"600.474\" x2=\"877.124\" y2=\"597.103\" stroke-linecap=\"round\" style=\"stroke:black;stroke-width:3\" /><line x1=\"877.124\" y1=\"597.103\" x2=\"874.955\" y2=\"593.773\" stroke-linecap=\"round\" style=\"stroke:black;stroke-width:3\" /><line x1=\"874.955\" y1=\"593.773\" x2=\"872.724\" y2=\"590.484\" stroke-linecap=\"round\" style=\"stroke:black;stroke-width:3\" /><line x1=\"872.724\" y1=\"590.484\" x2=\"870.431\" y2=\"587.238\" stroke-linecap=\"round\" style=\"stroke:black;stroke-width:3\" /><line x1=\"870.431\" y1=\"587.238\" x2=\"868.077\" y2=\"584.036\" stroke-linecap=\"round\" style=\"stroke:black;stroke-width:3\" /><line x1=\"868.077\" y1=\"584.036\" x2=\"865.663\" y2=\"580.879\" stroke-linecap=\"round\" style=\"stroke:black;stroke-width:3\" /><line x1=\"865.663\" y1=\"580.879\" x2=\"863.189\" y2=\"577.768\" stroke-linecap=\"round\" style=\"stroke:black;stroke-width:3\" /><line x1=\"863.189\" y1=\"577.768\" x2=\"860.657\" y2=\"574.705\" stroke-linecap=\"round\" style=\"stroke:black;stroke-width:3\" /><line x1=\"860.657\" y1=\"574.705\" x2=\"858.067\" y2=\"571.69\" stroke-linecap=\"round\" style=\"stroke:black;stroke-width:3\" /><line x1=\"858.067\" y1=\"571.69\" x2=\"855.421\" y2=\"568.725\" stroke-linecap=\"round\" style=\"stroke:black;stroke-width:3\" /><line x1=\"855.421\" y1=\"568.725\" x2=\"852.719\" y2=\"565.81\" stroke-linecap=\"round\" style=\"stroke:black;stroke-width:3\" /><line x1=\"852.719\" y1=\"565.81\" x2=\"849.962\" y2=\"562.947\" stroke-linecap=\"round\" style=\"stroke:black;stroke-width:3\" /><line x1=\"849.962\" y1=\"562.947\" x2=\"847.152\" y2=\"560.137\" stroke-linecap=\"round\" style=\"stroke:black;stroke-width:3\" /><line x1=\"847.152\" y1=\"560.137\" x2=\"844.289\" y2=\"557.38\" stroke-linecap=\"round\" style=\"stroke:black;stroke-width:3\" /><line x1=\"844.289\" y1=\"557.38\" x2=\"841.374\" y2=\"554.678\" stroke-linecap=\"round\" style=\"stroke:black;stroke-width:3\" /><line x1=\"841.374\" y1=\"554.678\" x2=\"838.409\" y2=\"552.032\" stroke-linecap=\"round\" style=\"stroke:black;stroke-width:3\" /><line x1=\"838.409\" y1=\"552.032\" x2=\"835.394\" y2=\"549.442\" stroke-linecap=\"round\" style=\"stroke:black;stroke-width:3\" /><line x1=\"835.394\" y1=\"549.442\" x2=\"832.331\" y2=\"546.91\" stroke-linecap=\"round\" style=\"stroke:black;stroke-width:3\" /><line x1=\"832.331\" y1=\"546.91\" x2=\"829.22\" y2=\"544.436\" stroke-linecap=\"round\" style=\"stroke:black;stroke-width:3\" /><line x1=\"829.22\" y1=\"544.436\" x2=\"826.063\" y2=\"542.022\" stroke-linecap=\"round\" style=\"stroke:black;stroke-width:3\" /><line x1=\"826.063\" y1=\"542.022\" x2=\"822.861\" y2=\"539.668\" stroke-linecap=\"round\" style=\"stroke:black;stroke-width:3\" /><line x1=\"822.861\" y1=\"539.668\" x2=\"819.615\" y2=\"537.375\" stroke-linecap=\"round\" style=\"stroke:black;stroke-width:3\" /><line x1=\"819.615\" y1=\"537.375\" x2=\"816.326\" y2=\"535.144\" stroke-linecap=\"round\" style=\"stroke:black;stroke-width:3\" /><line x1=\"816.326\" y1=\"535.144\" x2=\"812.996\" y2=\"532.975\" stroke-linecap=\"round\" style=\"stroke:black;stroke-width:3\" /><line x1=\"812.996\" y1=\"532.975\" x2=\"809.625\" y2=\"530.87\" stroke-linecap=\"round\" style=\"stroke:black;stroke-width:3\" /><line x1=\"809.625\" y1=\"530.87\" x2=\"806.215\" y2=\"528.829\" stroke-linecap=\"round\" style=\"stroke:black;stroke-width:3\" /><line x1=\"806.215\" y1=\"528.829\" x2=\"802.767\" y2=\"526.853\" stroke-linecap=\"round\" style=\"stroke:black;stroke-width:3\" /><line x1=\"802.767\" y1=\"526.853\" x2=\"799.282\" y2=\"524.942\" stroke-linecap=\"round\" style=\"stroke:black;stroke-width:3\" /><line x1=\"799.282\" y1=\"524.942\" x2=\"795.762\" y2=\"523.098\" stroke-linecap=\"round\" style=\"stroke:black;stroke-width:3\" /><line x1=\"795.762\" y1=\"523.098\" x2=\"792.207\" y2=\"521.321\" stroke-linecap=\"round\" style=\"stroke:black;stroke-width:3\" /><line x1=\"792.207\" y1=\"521.321\" x2=\"788.619\" y2=\"519.611\" stroke-linecap=\"round\" style=\"stroke:black;stroke-width:3\" /><line x1=\"788.619\" y1=\"519.611\" x2=\"785.0\" y2=\"517.969\" stroke-linecap=\"round\" style=\"stroke:black;stroke-width:3\" /><line x1=\"785.0\" y1=\"517.969\" x2=\"781.35\" y2=\"516.396\" stroke-linecap=\"round\" style=\"stroke:black;stroke-width:3\" /><line x1=\"781.35\" y1=\"516.396\" x2=\"777.671\" y2=\"514.892\" stroke-linecap=\"round\" style=\"stroke:black;stroke-width:3\" /><line x1=\"777.671\" y1=\"514.892\" x2=\"773.964\" y2=\"513.458\" stroke-linecap=\"round\" style=\"stroke:black;stroke-width:3\" /><line x1=\"773.964\" y1=\"513.458\" x2=\"770.231\" y2=\"512.095\" stroke-linecap=\"round\" style=\"stroke:black;stroke-width:3\" /><line x1=\"770.231\" y1=\"512.095\" x2=\"766.473\" y2=\"510.803\" stroke-linecap=\"round\" style=\"stroke:black;stroke-width:3\" /><line x1=\"766.473\" y1=\"510.803\" x2=\"762.691\" y2=\"509.582\" stroke-linecap=\"round\" style=\"stroke:black;stroke-width:3\" /><line x1=\"762.691\" y1=\"509.582\" x2=\"758.886\" y2=\"508.433\" stroke-linecap=\"round\" style=\"stroke:black;stroke-width:3\" /><line x1=\"758.886\" y1=\"508.433\" x2=\"755.06\" y2=\"507.356\" stroke-linecap=\"round\" style=\"stroke:black;stroke-width:3\" /><line x1=\"755.06\" y1=\"507.356\" x2=\"751.215\" y2=\"506.352\" stroke-linecap=\"round\" style=\"stroke:black;stroke-width:3\" /><line x1=\"751.215\" y1=\"506.352\" x2=\"747.351\" y2=\"505.421\" stroke-linecap=\"round\" style=\"stroke:black;stroke-width:3\" /><line x1=\"747.351\" y1=\"505.421\" x2=\"743.47\" y2=\"504.563\" stroke-linecap=\"round\" style=\"stroke:black;stroke-width:3\" /><line x1=\"743.47\" y1=\"504.563\" x2=\"739.574\" y2=\"503.778\" stroke-linecap=\"round\" style=\"stroke:black;stroke-width:3\" /><line x1=\"739.574\" y1=\"503.778\" x2=\"735.664\" y2=\"503.067\" stroke-linecap=\"round\" style=\"stroke:black;stroke-width:3\" /><line x1=\"735.664\" y1=\"503.067\" x2=\"731.741\" y2=\"502.43\" stroke-linecap=\"round\" style=\"stroke:black;stroke-width:3\" /><line x1=\"731.741\" y1=\"502.43\" x2=\"727.807\" y2=\"501.868\" stroke-linecap=\"round\" style=\"stroke:black;stroke-width:3\" /><line x1=\"727.807\" y1=\"501.868\" x2=\"723.863\" y2=\"501.38\" stroke-linecap=\"round\" style=\"stroke:black;stroke-width:3\" /><line x1=\"723.863\" y1=\"501.38\" x2=\"719.91\" y2=\"500.967\" stroke-linecap=\"round\" style=\"stroke:black;stroke-width:3\" /><line x1=\"719.91\" y1=\"500.967\" x2=\"715.95\" y2=\"500.629\" stroke-linecap=\"round\" style=\"stroke:black;stroke-width:3\" /><line x1=\"715.95\" y1=\"500.629\" x2=\"711.984\" y2=\"500.366\" stroke-linecap=\"round\" style=\"stroke:black;stroke-width:3\" /><line x1=\"711.984\" y1=\"500.366\" x2=\"708.014\" y2=\"500.178\" stroke-linecap=\"round\" style=\"stroke:black;stroke-width:3\" /><line x1=\"708.014\" y1=\"500.178\" x2=\"704.041\" y2=\"500.065\" stroke-linecap=\"round\" style=\"stroke:black;stroke-width:3\" /><line x1=\"704.041\" y1=\"500.065\" x2=\"700.067\" y2=\"500.027\" stroke-linecap=\"round\" style=\"stroke:black;stroke-width:3\" /><line x1=\"700.067\" y1=\"500.027\" x2=\"696.081\" y2=\"500.05\" stroke-linecap=\"round\" style=\"stroke:black;stroke-width:3\" /><line x1=\"696.081\" y1=\"500.05\" x2=\"692.096\" y2=\"500.12\" stroke-linecap=\"round\" style=\"stroke:black;stroke-width:3\" /><line x1=\"692.096\" y1=\"500.12\" x2=\"688.112\" y2=\"500.237\" stroke-linecap=\"round\" style=\"stroke:black;stroke-width:3\" /><line x1=\"688.112\" y1=\"500.237\" x2=\"684.13\" y2=\"500.4\" stroke-linecap=\"round\" style=\"stroke:black;stroke-width:3\" /><line x1=\"684.13\" y1=\"500.4\" x2=\"680.15\" y2=\"500.61\" stroke-linecap=\"round\" style=\"stroke:black;stroke-width:3\" /><line x1=\"680.15\" y1=\"500.61\" x2=\"676.173\" y2=\"500.867\" stroke-linecap=\"round\" style=\"stroke:black;stroke-width:3\" /><line x1=\"676.173\" y1=\"500.867\" x2=\"672.199\" y2=\"501.17\" stroke-linecap=\"round\" style=\"stroke:black;stroke-width:3\" /><line x1=\"672.199\" y1=\"501.17\" x2=\"668.229\" y2=\"501.52\" stroke-linecap=\"round\" style=\"stroke:black;stroke-width:3\" /><line x1=\"668.229\" y1=\"501.52\" x2=\"664.263\" y2=\"501.916\" stroke-linecap=\"round\" style=\"stroke:black;stroke-width:3\" /><line x1=\"664.263\" y1=\"501.916\" x2=\"660.302\" y2=\"502.359\" stroke-linecap=\"round\" style=\"stroke:black;stroke-width:3\" /><line x1=\"660.302\" y1=\"502.359\" x2=\"656.347\" y2=\"502.848\" stroke-linecap=\"round\" style=\"stroke:black;stroke-width:3\" /><line x1=\"656.347\" y1=\"502.848\" x2=\"652.398\" y2=\"503.384\" stroke-linecap=\"round\" style=\"stroke:black;stroke-width:3\" /><line x1=\"652.398\" y1=\"503.384\" x2=\"648.455\" y2=\"503.966\" stroke-linecap=\"round\" style=\"stroke:black;stroke-width:3\" /><line x1=\"648.455\" y1=\"503.966\" x2=\"644.519\" y2=\"504.594\" stroke-linecap=\"round\" style=\"stroke:black;stroke-width:3\" /><line x1=\"644.519\" y1=\"504.594\" x2=\"640.591\" y2=\"505.268\" stroke-linecap=\"round\" style=\"stroke:black;stroke-width:3\" /><line x1=\"640.591\" y1=\"505.268\" x2=\"636.671\" y2=\"505.988\" stroke-linecap=\"round\" style=\"stroke:black;stroke-width:3\" /><line x1=\"636.671\" y1=\"505.988\" x2=\"632.76\" y2=\"506.754\" stroke-linecap=\"round\" style=\"stroke:black;stroke-width:3\" /><line x1=\"632.76\" y1=\"506.754\" x2=\"628.858\" y2=\"507.566\" stroke-linecap=\"round\" style=\"stroke:black;stroke-width:3\" /><line x1=\"628.858\" y1=\"507.566\" x2=\"624.966\" y2=\"508.424\" stroke-linecap=\"round\" style=\"stroke:black;stroke-width:3\" /><line x1=\"624.966\" y1=\"508.424\" x2=\"621.084\" y2=\"509.327\" stroke-linecap=\"round\" style=\"stroke:black;stroke-width:3\" /><line x1=\"621.084\" y1=\"509.327\" x2=\"617.213\" y2=\"510.276\" stroke-linecap=\"round\" style=\"stroke:black;stroke-width:3\" /><line x1=\"617.213\" y1=\"510.276\" x2=\"613.353\" y2=\"511.27\" stroke-linecap=\"round\" style=\"stroke:black;stroke-width:3\" /><line x1=\"613.353\" y1=\"511.27\" x2=\"609.505\" y2=\"512.309\" stroke-linecap=\"round\" style=\"stroke:black;stroke-width:3\" /><line x1=\"609.505\" y1=\"512.309\" x2=\"605.67\" y2=\"513.393\" stroke-linecap=\"round\" style=\"stroke:black;stroke-width:3\" /><line x1=\"605.67\" y1=\"513.393\" x2=\"601.848\" y2=\"514.522\" stroke-linecap=\"round\" style=\"stroke:black;stroke-width:3\" /><line x1=\"601.848\" y1=\"514.522\" x2=\"598.039\" y2=\"515.696\" stroke-linecap=\"round\" style=\"stroke:black;stroke-width:3\" /><line x1=\"598.039\" y1=\"515.696\" x2=\"594.244\" y2=\"516.914\" stroke-linecap=\"round\" style=\"stroke:black;stroke-width:3\" /><line x1=\"594.244\" y1=\"516.914\" x2=\"590.464\" y2=\"518.177\" stroke-linecap=\"round\" style=\"stroke:black;stroke-width:3\" /><line x1=\"590.464\" y1=\"518.177\" x2=\"586.699\" y2=\"519.484\" stroke-linecap=\"round\" style=\"stroke:black;stroke-width:3\" /><line x1=\"586.699\" y1=\"519.484\" x2=\"582.949\" y2=\"520.835\" stroke-linecap=\"round\" style=\"stroke:black;stroke-width:3\" /><line x1=\"582.949\" y1=\"520.835\" x2=\"579.215\" y2=\"522.23\" stroke-linecap=\"round\" style=\"stroke:black;stroke-width:3\" /><line x1=\"579.215\" y1=\"522.23\" x2=\"575.498\" y2=\"523.668\" stroke-linecap=\"round\" style=\"stroke:black;stroke-width:3\" /><line x1=\"575.498\" y1=\"523.668\" x2=\"571.798\" y2=\"525.15\" stroke-linecap=\"round\" style=\"stroke:black;stroke-width:3\" /><line x1=\"571.798\" y1=\"525.15\" x2=\"568.116\" y2=\"526.675\" stroke-linecap=\"round\" style=\"stroke:black;stroke-width:3\" /><line x1=\"568.116\" y1=\"526.675\" x2=\"564.452\" y2=\"528.243\" stroke-linecap=\"round\" style=\"stroke:black;stroke-width:3\" /><line x1=\"564.452\" y1=\"528.243\" x2=\"560.807\" y2=\"529.854\" stroke-linecap=\"round\" style=\"stroke:black;stroke-width:3\" /><line x1=\"560.807\" y1=\"529.854\" x2=\"557.181\" y2=\"531.508\" stroke-linecap=\"round\" style=\"stroke:black;stroke-width:3\" /><line x1=\"557.181\" y1=\"531.508\" x2=\"553.574\" y2=\"533.204\" stroke-linecap=\"round\" style=\"stroke:black;stroke-width:3\" /><line x1=\"553.574\" y1=\"533.204\" x2=\"549.987\" y2=\"534.942\" stroke-linecap=\"round\" style=\"stroke:black;stroke-width:3\" /><line x1=\"549.987\" y1=\"534.942\" x2=\"546.421\" y2=\"536.722\" stroke-linecap=\"round\" style=\"stroke:black;stroke-width:3\" /><line x1=\"546.421\" y1=\"536.722\" x2=\"542.876\" y2=\"538.544\" stroke-linecap=\"round\" style=\"stroke:black;stroke-width:3\" /><line x1=\"542.876\" y1=\"538.544\" x2=\"539.353\" y2=\"540.407\" stroke-linecap=\"round\" style=\"stroke:black;stroke-width:3\" /><line x1=\"539.353\" y1=\"540.407\" x2=\"535.852\" y2=\"542.312\" stroke-linecap=\"round\" style=\"stroke:black;stroke-width:3\" /><line x1=\"535.852\" y1=\"542.312\" x2=\"532.373\" y2=\"544.257\" stroke-linecap=\"round\" style=\"stroke:black;stroke-width:3\" /><line x1=\"532.373\" y1=\"544.257\" x2=\"528.917\" y2=\"546.243\" stroke-linecap=\"round\" style=\"stroke:black;stroke-width:3\" /><line x1=\"528.917\" y1=\"546.243\" x2=\"525.485\" y2=\"548.269\" stroke-linecap=\"round\" style=\"stroke:black;stroke-width:3\" /><line x1=\"525.485\" y1=\"548.269\" x2=\"522.077\" y2=\"550.336\" stroke-linecap=\"round\" style=\"stroke:black;stroke-width:3\" /><line x1=\"522.077\" y1=\"550.336\" x2=\"518.693\" y2=\"552.442\" stroke-linecap=\"round\" style=\"stroke:black;stroke-width:3\" /><line x1=\"518.693\" y1=\"552.442\" x2=\"515.334\" y2=\"554.588\" stroke-linecap=\"round\" style=\"stroke:black;stroke-width:3\" /><line x1=\"515.334\" y1=\"554.588\" x2=\"512.001\" y2=\"556.773\" stroke-linecap=\"round\" style=\"stroke:black;stroke-width:3\" /><line x1=\"512.001\" y1=\"556.773\" x2=\"508.694\" y2=\"558.997\" stroke-linecap=\"round\" style=\"stroke:black;stroke-width:3\" /><line x1=\"508.694\" y1=\"558.997\" x2=\"505.413\" y2=\"561.26\" stroke-linecap=\"round\" style=\"stroke:black;stroke-width:3\" /><line x1=\"505.413\" y1=\"561.26\" x2=\"502.159\" y2=\"563.561\" stroke-linecap=\"round\" style=\"stroke:black;stroke-width:3\" /><line x1=\"502.159\" y1=\"563.561\" x2=\"498.932\" y2=\"565.9\" stroke-linecap=\"round\" style=\"stroke:black;stroke-width:3\" /><line x1=\"498.932\" y1=\"565.9\" x2=\"495.732\" y2=\"568.277\" stroke-linecap=\"round\" style=\"stroke:black;stroke-width:3\" /><line x1=\"495.732\" y1=\"568.277\" x2=\"492.561\" y2=\"570.691\" stroke-linecap=\"round\" style=\"stroke:black;stroke-width:3\" /><line x1=\"492.561\" y1=\"570.691\" x2=\"489.418\" y2=\"573.142\" stroke-linecap=\"round\" style=\"stroke:black;stroke-width:3\" /><line x1=\"489.418\" y1=\"573.142\" x2=\"486.304\" y2=\"575.63\" stroke-linecap=\"round\" style=\"stroke:black;stroke-width:3\" /><line x1=\"486.304\" y1=\"575.63\" x2=\"483.219\" y2=\"578.154\" stroke-linecap=\"round\" style=\"stroke:black;stroke-width:3\" /><line x1=\"483.219\" y1=\"578.154\" x2=\"480.164\" y2=\"580.714\" stroke-linecap=\"round\" style=\"stroke:black;stroke-width:3\" /><line x1=\"480.164\" y1=\"580.714\" x2=\"477.139\" y2=\"583.31\" stroke-linecap=\"round\" style=\"stroke:black;stroke-width:3\" /><line x1=\"477.139\" y1=\"583.31\" x2=\"474.145\" y2=\"585.941\" stroke-linecap=\"round\" style=\"stroke:black;stroke-width:3\" /><line x1=\"474.145\" y1=\"585.941\" x2=\"471.182\" y2=\"588.607\" stroke-linecap=\"round\" style=\"stroke:black;stroke-width:3\" /><line x1=\"471.182\" y1=\"588.607\" x2=\"468.251\" y2=\"591.307\" stroke-linecap=\"round\" style=\"stroke:black;stroke-width:3\" /><line x1=\"468.251\" y1=\"591.307\" x2=\"465.351\" y2=\"594.041\" stroke-linecap=\"round\" style=\"stroke:black;stroke-width:3\" /><line x1=\"465.351\" y1=\"594.041\" x2=\"462.484\" y2=\"596.809\" stroke-linecap=\"round\" style=\"stroke:black;stroke-width:3\" /><line x1=\"462.484\" y1=\"596.809\" x2=\"459.649\" y2=\"599.611\" stroke-linecap=\"round\" style=\"stroke:black;stroke-width:3\" /><line x1=\"459.649\" y1=\"599.611\" x2=\"456.847\" y2=\"602.446\" stroke-linecap=\"round\" style=\"stroke:black;stroke-width:3\" /><line x1=\"456.847\" y1=\"602.446\" x2=\"454.079\" y2=\"605.313\" stroke-linecap=\"round\" style=\"stroke:black;stroke-width:3\" /><line x1=\"454.079\" y1=\"605.313\" x2=\"451.345\" y2=\"608.213\" stroke-linecap=\"round\" style=\"stroke:black;stroke-width:3\" /><line x1=\"451.345\" y1=\"608.213\" x2=\"448.645\" y2=\"611.144\" stroke-linecap=\"round\" style=\"stroke:black;stroke-width:3\" /><line x1=\"448.645\" y1=\"611.144\" x2=\"445.979\" y2=\"614.107\" stroke-linecap=\"round\" style=\"stroke:black;stroke-width:3\" /><line x1=\"445.979\" y1=\"614.107\" x2=\"443.348\" y2=\"617.101\" stroke-linecap=\"round\" style=\"stroke:black;stroke-width:3\" /><line x1=\"443.348\" y1=\"617.101\" x2=\"440.752\" y2=\"620.126\" stroke-linecap=\"round\" style=\"stroke:black;stroke-width:3\" /><line x1=\"440.752\" y1=\"620.126\" x2=\"438.192\" y2=\"623.181\" stroke-linecap=\"round\" style=\"stroke:black;stroke-width:3\" /><line x1=\"438.192\" y1=\"623.181\" x2=\"435.668\" y2=\"626.266\" stroke-linecap=\"round\" style=\"stroke:black;stroke-width:3\" /><line x1=\"435.668\" y1=\"626.266\" x2=\"433.18\" y2=\"629.38\" stroke-linecap=\"round\" style=\"stroke:black;stroke-width:3\" /><line x1=\"433.18\" y1=\"629.38\" x2=\"430.729\" y2=\"632.523\" stroke-linecap=\"round\" style=\"stroke:black;stroke-width:3\" /><line x1=\"430.729\" y1=\"632.523\" x2=\"428.315\" y2=\"635.694\" stroke-linecap=\"round\" style=\"stroke:black;stroke-width:3\" /><line x1=\"428.315\" y1=\"635.694\" x2=\"425.938\" y2=\"638.894\" stroke-linecap=\"round\" style=\"stroke:black;stroke-width:3\" /><line x1=\"425.938\" y1=\"638.894\" x2=\"423.599\" y2=\"642.121\" stroke-linecap=\"round\" style=\"stroke:black;stroke-width:3\" /><line x1=\"423.599\" y1=\"642.121\" x2=\"421.298\" y2=\"645.375\" stroke-linecap=\"round\" style=\"stroke:black;stroke-width:3\" /><line x1=\"421.298\" y1=\"645.375\" x2=\"419.035\" y2=\"648.656\" stroke-linecap=\"round\" style=\"stroke:black;stroke-width:3\" /><line x1=\"419.035\" y1=\"648.656\" x2=\"416.811\" y2=\"651.963\" stroke-linecap=\"round\" style=\"stroke:black;stroke-width:3\" /><line x1=\"416.811\" y1=\"651.963\" x2=\"414.626\" y2=\"655.296\" stroke-linecap=\"round\" style=\"stroke:black;stroke-width:3\" /><line x1=\"414.626\" y1=\"655.296\" x2=\"412.48\" y2=\"658.655\" stroke-linecap=\"round\" style=\"stroke:black;stroke-width:3\" /><line x1=\"412.48\" y1=\"658.655\" x2=\"410.374\" y2=\"662.039\" stroke-linecap=\"round\" style=\"stroke:black;stroke-width:3\" /><line x1=\"410.374\" y1=\"662.039\" x2=\"408.307\" y2=\"665.447\" stroke-linecap=\"round\" style=\"stroke:black;stroke-width:3\" /><line x1=\"408.307\" y1=\"665.447\" x2=\"406.281\" y2=\"668.879\" stroke-linecap=\"round\" style=\"stroke:black;stroke-width:3\" /><line x1=\"406.281\" y1=\"668.879\" x2=\"404.295\" y2=\"672.335\" stroke-linecap=\"round\" style=\"stroke:black;stroke-width:3\" /><line x1=\"404.295\" y1=\"672.335\" x2=\"402.35\" y2=\"675.814\" stroke-linecap=\"round\" style=\"stroke:black;stroke-width:3\" /><line x1=\"402.35\" y1=\"675.814\" x2=\"400.445\" y2=\"679.315\" stroke-linecap=\"round\" style=\"stroke:black;stroke-width:3\" /><line x1=\"400.445\" y1=\"679.315\" x2=\"398.582\" y2=\"682.838\" stroke-linecap=\"round\" style=\"stroke:black;stroke-width:3\" /><line x1=\"398.582\" y1=\"682.838\" x2=\"396.76\" y2=\"686.383\" stroke-linecap=\"round\" style=\"stroke:black;stroke-width:3\" /><line x1=\"396.76\" y1=\"686.383\" x2=\"394.98\" y2=\"689.949\" stroke-linecap=\"round\" style=\"stroke:black;stroke-width:3\" /><line x1=\"394.98\" y1=\"689.949\" x2=\"393.242\" y2=\"693.536\" stroke-linecap=\"round\" style=\"stroke:black;stroke-width:3\" /><line x1=\"393.242\" y1=\"693.536\" x2=\"391.546\" y2=\"697.143\" stroke-linecap=\"round\" style=\"stroke:black;stroke-width:3\" /><line x1=\"391.546\" y1=\"697.143\" x2=\"389.892\" y2=\"700.769\" stroke-linecap=\"round\" style=\"stroke:black;stroke-width:3\" /><line x1=\"389.892\" y1=\"700.769\" x2=\"388.281\" y2=\"704.414\" stroke-linecap=\"round\" style=\"stroke:black;stroke-width:3\" /><line x1=\"388.281\" y1=\"704.414\" x2=\"386.713\" y2=\"708.078\" stroke-linecap=\"round\" style=\"stroke:black;stroke-width:3\" /><line x1=\"386.713\" y1=\"708.078\" x2=\"385.188\" y2=\"711.76\" stroke-linecap=\"round\" style=\"stroke:black;stroke-width:3\" /><line x1=\"385.188\" y1=\"711.76\" x2=\"383.706\" y2=\"715.46\" stroke-linecap=\"round\" style=\"stroke:black;stroke-width:3\" /><line x1=\"383.706\" y1=\"715.46\" x2=\"382.268\" y2=\"719.177\" stroke-linecap=\"round\" style=\"stroke:black;stroke-width:3\" /><line x1=\"382.268\" y1=\"719.177\" x2=\"380.873\" y2=\"722.911\" stroke-linecap=\"round\" style=\"stroke:black;stroke-width:3\" /><line x1=\"380.873\" y1=\"722.911\" x2=\"379.522\" y2=\"726.661\" stroke-linecap=\"round\" style=\"stroke:black;stroke-width:3\" /><line x1=\"379.522\" y1=\"726.661\" x2=\"378.215\" y2=\"730.426\" stroke-linecap=\"round\" style=\"stroke:black;stroke-width:3\" /><line x1=\"378.215\" y1=\"730.426\" x2=\"376.952\" y2=\"734.206\" stroke-linecap=\"round\" style=\"stroke:black;stroke-width:3\" /><line x1=\"376.952\" y1=\"734.206\" x2=\"375.734\" y2=\"738.001\" stroke-linecap=\"round\" style=\"stroke:black;stroke-width:3\" /><line x1=\"375.734\" y1=\"738.001\" x2=\"374.56\" y2=\"741.81\" stroke-linecap=\"round\" style=\"stroke:black;stroke-width:3\" /><line x1=\"374.56\" y1=\"741.81\" x2=\"373.431\" y2=\"745.632\" stroke-linecap=\"round\" style=\"stroke:black;stroke-width:3\" /><line x1=\"373.431\" y1=\"745.632\" x2=\"372.347\" y2=\"749.467\" stroke-linecap=\"round\" style=\"stroke:black;stroke-width:3\" /><line x1=\"372.347\" y1=\"749.467\" x2=\"371.308\" y2=\"753.315\" stroke-linecap=\"round\" style=\"stroke:black;stroke-width:3\" /><line x1=\"371.308\" y1=\"753.315\" x2=\"370.314\" y2=\"757.175\" stroke-linecap=\"round\" style=\"stroke:black;stroke-width:3\" /><line x1=\"370.314\" y1=\"757.175\" x2=\"369.365\" y2=\"761.046\" stroke-linecap=\"round\" style=\"stroke:black;stroke-width:3\" /><line x1=\"369.365\" y1=\"761.046\" x2=\"368.462\" y2=\"764.928\" stroke-linecap=\"round\" style=\"stroke:black;stroke-width:3\" /><line x1=\"368.462\" y1=\"764.928\" x2=\"367.604\" y2=\"768.82\" stroke-linecap=\"round\" style=\"stroke:black;stroke-width:3\" /><line x1=\"367.604\" y1=\"768.82\" x2=\"366.792\" y2=\"772.722\" stroke-linecap=\"round\" style=\"stroke:black;stroke-width:3\" /><line x1=\"366.792\" y1=\"772.722\" x2=\"366.026\" y2=\"776.633\" stroke-linecap=\"round\" style=\"stroke:black;stroke-width:3\" /><line x1=\"366.026\" y1=\"776.633\" x2=\"365.306\" y2=\"780.553\" stroke-linecap=\"round\" style=\"stroke:black;stroke-width:3\" /><line x1=\"365.306\" y1=\"780.553\" x2=\"364.632\" y2=\"784.481\" stroke-linecap=\"round\" style=\"stroke:black;stroke-width:3\" /><line x1=\"364.632\" y1=\"784.481\" x2=\"364.004\" y2=\"788.417\" stroke-linecap=\"round\" style=\"stroke:black;stroke-width:3\" /><line x1=\"364.004\" y1=\"788.417\" x2=\"363.422\" y2=\"792.36\" stroke-linecap=\"round\" style=\"stroke:black;stroke-width:3\" /><line x1=\"363.422\" y1=\"792.36\" x2=\"362.886\" y2=\"796.309\" stroke-linecap=\"round\" style=\"stroke:black;stroke-width:3\" /><line x1=\"362.886\" y1=\"796.309\" x2=\"362.397\" y2=\"800.264\" stroke-linecap=\"round\" style=\"stroke:black;stroke-width:3\" /><line x1=\"362.397\" y1=\"800.264\" x2=\"361.954\" y2=\"804.225\" stroke-linecap=\"round\" style=\"stroke:black;stroke-width:3\" /><line x1=\"361.954\" y1=\"804.225\" x2=\"361.558\" y2=\"808.191\" stroke-linecap=\"round\" style=\"stroke:black;stroke-width:3\" /><line x1=\"361.558\" y1=\"808.191\" x2=\"361.208\" y2=\"812.161\" stroke-linecap=\"round\" style=\"stroke:black;stroke-width:3\" /><line x1=\"361.208\" y1=\"812.161\" x2=\"360.905\" y2=\"816.135\" stroke-linecap=\"round\" style=\"stroke:black;stroke-width:3\" /><line x1=\"360.905\" y1=\"816.135\" x2=\"360.648\" y2=\"820.112\" stroke-linecap=\"round\" style=\"stroke:black;stroke-width:3\" /><line x1=\"360.648\" y1=\"820.112\" x2=\"360.438\" y2=\"824.092\" stroke-linecap=\"round\" style=\"stroke:black;stroke-width:3\" /><line x1=\"360.438\" y1=\"824.092\" x2=\"360.275\" y2=\"828.074\" stroke-linecap=\"round\" style=\"stroke:black;stroke-width:3\" /><line x1=\"360.275\" y1=\"828.074\" x2=\"360.158\" y2=\"832.058\" stroke-linecap=\"round\" style=\"stroke:black;stroke-width:3\" /><line x1=\"360.158\" y1=\"832.058\" x2=\"360.088\" y2=\"836.043\" stroke-linecap=\"round\" style=\"stroke:black;stroke-width:3\" /><line x1=\"360.088\" y1=\"836.043\" x2=\"360.065\" y2=\"840.029\" stroke-linecap=\"round\" style=\"stroke:black;stroke-width:3\" /><line x1=\"360.065\" y1=\"840.029\" x2=\"360.08\" y2=\"844.029\" stroke-linecap=\"round\" style=\"stroke:black;stroke-width:3\" /><line x1=\"360.08\" y1=\"844.029\" x2=\"360.124\" y2=\"848.028\" stroke-linecap=\"round\" style=\"stroke:black;stroke-width:3\" /><line x1=\"360.124\" y1=\"848.028\" x2=\"360.197\" y2=\"852.027\" stroke-linecap=\"round\" style=\"stroke:black;stroke-width:3\" /><line x1=\"360.197\" y1=\"852.027\" x2=\"360.299\" y2=\"856.025\" stroke-linecap=\"round\" style=\"stroke:black;stroke-width:3\" /><line x1=\"360.299\" y1=\"856.025\" x2=\"360.43\" y2=\"860.023\" stroke-linecap=\"round\" style=\"stroke:black;stroke-width:3\" /><line x1=\"360.43\" y1=\"860.023\" x2=\"360.59\" y2=\"864.02\" stroke-linecap=\"round\" style=\"stroke:black;stroke-width:3\" /><line x1=\"360.59\" y1=\"864.02\" x2=\"360.779\" y2=\"868.015\" stroke-linecap=\"round\" style=\"stroke:black;stroke-width:3\" /><line x1=\"360.779\" y1=\"868.015\" x2=\"360.997\" y2=\"872.009\" stroke-linecap=\"round\" style=\"stroke:black;stroke-width:3\" /><line x1=\"360.997\" y1=\"872.009\" x2=\"361.244\" y2=\"876.001\" stroke-linecap=\"round\" style=\"stroke:black;stroke-width:3\" /><line x1=\"361.244\" y1=\"876.001\" x2=\"361.52\" y2=\"879.991\" stroke-linecap=\"round\" style=\"stroke:black;stroke-width:3\" /><line x1=\"361.52\" y1=\"879.991\" x2=\"361.825\" y2=\"883.979\" stroke-linecap=\"round\" style=\"stroke:black;stroke-width:3\" /><line x1=\"361.825\" y1=\"883.979\" x2=\"362.159\" y2=\"887.965\" stroke-linecap=\"round\" style=\"stroke:black;stroke-width:3\" /><line x1=\"362.159\" y1=\"887.965\" x2=\"362.522\" y2=\"891.948\" stroke-linecap=\"round\" style=\"stroke:black;stroke-width:3\" /><line x1=\"362.522\" y1=\"891.948\" x2=\"362.914\" y2=\"895.928\" stroke-linecap=\"round\" style=\"stroke:black;stroke-width:3\" /><line x1=\"362.914\" y1=\"895.928\" x2=\"363.335\" y2=\"899.905\" stroke-linecap=\"round\" style=\"stroke:black;stroke-width:3\" /><line x1=\"363.335\" y1=\"899.905\" x2=\"363.785\" y2=\"903.879\" stroke-linecap=\"round\" style=\"stroke:black;stroke-width:3\" /><line x1=\"363.785\" y1=\"903.879\" x2=\"364.264\" y2=\"907.85\" stroke-linecap=\"round\" style=\"stroke:black;stroke-width:3\" /><line x1=\"364.264\" y1=\"907.85\" x2=\"364.772\" y2=\"911.817\" stroke-linecap=\"round\" style=\"stroke:black;stroke-width:3\" /><line x1=\"364.772\" y1=\"911.817\" x2=\"365.308\" y2=\"915.781\" stroke-linecap=\"round\" style=\"stroke:black;stroke-width:3\" /><line x1=\"365.308\" y1=\"915.781\" x2=\"365.873\" y2=\"919.741\" stroke-linecap=\"round\" style=\"stroke:black;stroke-width:3\" /><line x1=\"365.873\" y1=\"919.741\" x2=\"366.467\" y2=\"923.696\" stroke-linecap=\"round\" style=\"stroke:black;stroke-width:3\" /><line x1=\"366.467\" y1=\"923.696\" x2=\"367.09\" y2=\"927.647\" stroke-linecap=\"round\" style=\"stroke:black;stroke-width:3\" /><line x1=\"367.09\" y1=\"927.647\" x2=\"367.742\" y2=\"931.593\" stroke-linecap=\"round\" style=\"stroke:black;stroke-width:3\" /><line x1=\"367.742\" y1=\"931.593\" x2=\"368.422\" y2=\"935.534\" stroke-linecap=\"round\" style=\"stroke:black;stroke-width:3\" /><line x1=\"368.422\" y1=\"935.534\" x2=\"369.131\" y2=\"939.47\" stroke-linecap=\"round\" style=\"stroke:black;stroke-width:3\" /><line x1=\"369.131\" y1=\"939.47\" x2=\"369.868\" y2=\"943.401\" stroke-linecap=\"round\" style=\"stroke:black;stroke-width:3\" /><line x1=\"369.868\" y1=\"943.401\" x2=\"370.634\" y2=\"947.327\" stroke-linecap=\"round\" style=\"stroke:black;stroke-width:3\" /><line x1=\"370.634\" y1=\"947.327\" x2=\"371.429\" y2=\"951.247\" stroke-linecap=\"round\" style=\"stroke:black;stroke-width:3\" /><line x1=\"371.429\" y1=\"951.247\" x2=\"372.252\" y2=\"955.161\" stroke-linecap=\"round\" style=\"stroke:black;stroke-width:3\" /><line x1=\"372.252\" y1=\"955.161\" x2=\"373.103\" y2=\"959.069\" stroke-linecap=\"round\" style=\"stroke:black;stroke-width:3\" /><line x1=\"373.103\" y1=\"959.069\" x2=\"373.983\" y2=\"962.971\" stroke-linecap=\"round\" style=\"stroke:black;stroke-width:3\" /><line x1=\"373.983\" y1=\"962.971\" x2=\"374.891\" y2=\"966.866\" stroke-linecap=\"round\" style=\"stroke:black;stroke-width:3\" /><line x1=\"374.891\" y1=\"966.866\" x2=\"375.828\" y2=\"970.755\" stroke-linecap=\"round\" style=\"stroke:black;stroke-width:3\" /><line x1=\"375.828\" y1=\"970.755\" x2=\"376.793\" y2=\"974.637\" stroke-linecap=\"round\" style=\"stroke:black;stroke-width:3\" /><line x1=\"376.793\" y1=\"974.637\" x2=\"377.786\" y2=\"978.511\" stroke-linecap=\"round\" style=\"stroke:black;stroke-width:3\" /><line x1=\"377.786\" y1=\"978.511\" x2=\"378.807\" y2=\"982.378\" stroke-linecap=\"round\" style=\"stroke:black;stroke-width:3\" /><line x1=\"378.807\" y1=\"982.378\" x2=\"379.856\" y2=\"986.238\" stroke-linecap=\"round\" style=\"stroke:black;stroke-width:3\" /><line x1=\"379.856\" y1=\"986.238\" x2=\"380.933\" y2=\"990.09\" stroke-linecap=\"round\" style=\"stroke:black;stroke-width:3\" /><line x1=\"380.933\" y1=\"990.09\" x2=\"382.038\" y2=\"993.934\" stroke-linecap=\"round\" style=\"stroke:black;stroke-width:3\" /><line x1=\"382.038\" y1=\"993.934\" x2=\"383.171\" y2=\"997.77\" stroke-linecap=\"round\" style=\"stroke:black;stroke-width:3\" /><line x1=\"383.171\" y1=\"997.77\" x2=\"384.332\" y2=\"1001.597\" stroke-linecap=\"round\" style=\"stroke:black;stroke-width:3\" /><line x1=\"384.332\" y1=\"1001.597\" x2=\"385.521\" y2=\"1005.416\" stroke-linecap=\"round\" style=\"stroke:black;stroke-width:3\" /><line x1=\"385.521\" y1=\"1005.416\" x2=\"386.738\" y2=\"1009.226\" stroke-linecap=\"round\" style=\"stroke:black;stroke-width:3\" /><line x1=\"386.738\" y1=\"1009.226\" x2=\"387.982\" y2=\"1013.027\" stroke-linecap=\"round\" style=\"stroke:black;stroke-width:3\" /><line x1=\"387.982\" y1=\"1013.027\" x2=\"389.254\" y2=\"1016.819\" stroke-linecap=\"round\" style=\"stroke:black;stroke-width:3\" /><line x1=\"389.254\" y1=\"1016.819\" x2=\"390.553\" y2=\"1020.602\" stroke-linecap=\"round\" style=\"stroke:black;stroke-width:3\" /><line x1=\"390.553\" y1=\"1020.602\" x2=\"391.88\" y2=\"1024.375\" stroke-linecap=\"round\" style=\"stroke:black;stroke-width:3\" /><line x1=\"391.88\" y1=\"1024.375\" x2=\"393.234\" y2=\"1028.138\" stroke-linecap=\"round\" style=\"stroke:black;stroke-width:3\" /><line x1=\"393.234\" y1=\"1028.138\" x2=\"394.616\" y2=\"1031.892\" stroke-linecap=\"round\" style=\"stroke:black;stroke-width:3\" /><line x1=\"394.616\" y1=\"1031.892\" x2=\"396.025\" y2=\"1035.635\" stroke-linecap=\"round\" style=\"stroke:black;stroke-width:3\" /><line x1=\"396.025\" y1=\"1035.635\" x2=\"397.461\" y2=\"1039.368\" stroke-linecap=\"round\" style=\"stroke:black;stroke-width:3\" /><line x1=\"397.461\" y1=\"1039.368\" x2=\"398.924\" y2=\"1043.09\" stroke-linecap=\"round\" style=\"stroke:black;stroke-width:3\" /><line x1=\"398.924\" y1=\"1043.09\" x2=\"400.414\" y2=\"1046.802\" stroke-linecap=\"round\" style=\"stroke:black;stroke-width:3\" /><line x1=\"400.414\" y1=\"1046.802\" x2=\"401.931\" y2=\"1050.503\" stroke-linecap=\"round\" style=\"stroke:black;stroke-width:3\" /><line x1=\"401.931\" y1=\"1050.503\" x2=\"403.475\" y2=\"1054.193\" stroke-linecap=\"round\" style=\"stroke:black;stroke-width:3\" /><line x1=\"403.475\" y1=\"1054.193\" x2=\"405.046\" y2=\"1057.871\" stroke-linecap=\"round\" style=\"stroke:black;stroke-width:3\" /><line x1=\"405.046\" y1=\"1057.871\" x2=\"406.644\" y2=\"1061.538\" stroke-linecap=\"round\" style=\"stroke:black;stroke-width:3\" /><line x1=\"406.644\" y1=\"1061.538\" x2=\"408.268\" y2=\"1065.193\" stroke-linecap=\"round\" style=\"stroke:black;stroke-width:3\" /><line x1=\"408.268\" y1=\"1065.193\" x2=\"409.919\" y2=\"1068.836\" stroke-linecap=\"round\" style=\"stroke:black;stroke-width:3\" /><line x1=\"409.919\" y1=\"1068.836\" x2=\"411.596\" y2=\"1072.467\" stroke-linecap=\"round\" style=\"stroke:black;stroke-width:3\" /><line x1=\"411.596\" y1=\"1072.467\" x2=\"413.3\" y2=\"1076.086\" stroke-linecap=\"round\" style=\"stroke:black;stroke-width:3\" /><line x1=\"413.3\" y1=\"1076.086\" x2=\"415.03\" y2=\"1079.692\" stroke-linecap=\"round\" style=\"stroke:black;stroke-width:3\" /><line x1=\"415.03\" y1=\"1079.692\" x2=\"416.786\" y2=\"1083.286\" stroke-linecap=\"round\" style=\"stroke:black;stroke-width:3\" /><line x1=\"416.786\" y1=\"1083.286\" x2=\"418.568\" y2=\"1086.867\" stroke-linecap=\"round\" style=\"stroke:black;stroke-width:3\" /><line x1=\"418.568\" y1=\"1086.867\" x2=\"420.376\" y2=\"1090.435\" stroke-linecap=\"round\" style=\"stroke:black;stroke-width:3\" /><line x1=\"420.376\" y1=\"1090.435\" x2=\"422.21\" y2=\"1093.989\" stroke-linecap=\"round\" style=\"stroke:black;stroke-width:3\" /><line x1=\"422.21\" y1=\"1093.989\" x2=\"424.07\" y2=\"1097.53\" stroke-linecap=\"round\" style=\"stroke:black;stroke-width:3\" /><line x1=\"424.07\" y1=\"1097.53\" x2=\"425.955\" y2=\"1101.057\" stroke-linecap=\"round\" style=\"stroke:black;stroke-width:3\" /><line x1=\"425.955\" y1=\"1101.057\" x2=\"427.866\" y2=\"1104.571\" stroke-linecap=\"round\" style=\"stroke:black;stroke-width:3\" /><line x1=\"427.866\" y1=\"1104.571\" x2=\"429.803\" y2=\"1108.071\" stroke-linecap=\"round\" style=\"stroke:black;stroke-width:3\" /><line x1=\"429.803\" y1=\"1108.071\" x2=\"431.765\" y2=\"1111.556\" stroke-linecap=\"round\" style=\"stroke:black;stroke-width:3\" /><line x1=\"431.765\" y1=\"1111.556\" x2=\"433.752\" y2=\"1115.027\" stroke-linecap=\"round\" style=\"stroke:black;stroke-width:3\" /><line x1=\"433.752\" y1=\"1115.027\" x2=\"435.764\" y2=\"1118.484\" stroke-linecap=\"round\" style=\"stroke:black;stroke-width:3\" /><line x1=\"435.764\" y1=\"1118.484\" x2=\"437.802\" y2=\"1121.926\" stroke-linecap=\"round\" style=\"stroke:black;stroke-width:3\" /><line x1=\"437.802\" y1=\"1121.926\" x2=\"439.864\" y2=\"1125.353\" stroke-linecap=\"round\" style=\"stroke:black;stroke-width:3\" /><line x1=\"439.864\" y1=\"1125.353\" x2=\"441.951\" y2=\"1128.765\" stroke-linecap=\"round\" style=\"stroke:black;stroke-width:3\" /><line x1=\"441.951\" y1=\"1128.765\" x2=\"444.063\" y2=\"1132.162\" stroke-linecap=\"round\" style=\"stroke:black;stroke-width:3\" /><line x1=\"444.063\" y1=\"1132.162\" x2=\"446.2\" y2=\"1135.543\" stroke-linecap=\"round\" style=\"stroke:black;stroke-width:3\" /><line x1=\"446.2\" y1=\"1135.543\" x2=\"448.361\" y2=\"1138.908\" stroke-linecap=\"round\" style=\"stroke:black;stroke-width:3\" /><line x1=\"448.361\" y1=\"1138.908\" x2=\"450.547\" y2=\"1142.258\" stroke-linecap=\"round\" style=\"stroke:black;stroke-width:3\" /><line x1=\"450.547\" y1=\"1142.258\" x2=\"452.757\" y2=\"1145.592\" stroke-linecap=\"round\" style=\"stroke:black;stroke-width:3\" /><line x1=\"452.757\" y1=\"1145.592\" x2=\"454.991\" y2=\"1148.91\" stroke-linecap=\"round\" style=\"stroke:black;stroke-width:3\" /><line x1=\"454.991\" y1=\"1148.91\" x2=\"457.249\" y2=\"1152.211\" stroke-linecap=\"round\" style=\"stroke:black;stroke-width:3\" /><line x1=\"457.249\" y1=\"1152.211\" x2=\"459.531\" y2=\"1155.496\" stroke-linecap=\"round\" style=\"stroke:black;stroke-width:3\" /><line x1=\"459.531\" y1=\"1155.496\" x2=\"461.837\" y2=\"1158.764\" stroke-linecap=\"round\" style=\"stroke:black;stroke-width:3\" /><line x1=\"461.837\" y1=\"1158.764\" x2=\"464.167\" y2=\"1162.015\" stroke-linecap=\"round\" style=\"stroke:black;stroke-width:3\" /><line x1=\"464.167\" y1=\"1162.015\" x2=\"466.52\" y2=\"1165.249\" stroke-linecap=\"round\" style=\"stroke:black;stroke-width:3\" /><line x1=\"466.52\" y1=\"1165.249\" x2=\"468.897\" y2=\"1168.466\" stroke-linecap=\"round\" style=\"stroke:black;stroke-width:3\" /><line x1=\"468.897\" y1=\"1168.466\" x2=\"471.297\" y2=\"1171.666\" stroke-linecap=\"round\" style=\"stroke:black;stroke-width:3\" /><line x1=\"471.297\" y1=\"1171.666\" x2=\"473.72\" y2=\"1174.848\" stroke-linecap=\"round\" style=\"stroke:black;stroke-width:3\" /><line x1=\"473.72\" y1=\"1174.848\" x2=\"476.166\" y2=\"1178.012\" stroke-linecap=\"round\" style=\"stroke:black;stroke-width:3\" /><line x1=\"476.166\" y1=\"1178.012\" x2=\"478.635\" y2=\"1181.158\" stroke-linecap=\"round\" style=\"stroke:black;stroke-width:3\" /><line x1=\"478.635\" y1=\"1181.158\" x2=\"481.127\" y2=\"1184.286\" stroke-linecap=\"round\" style=\"stroke:black;stroke-width:3\" /><line x1=\"481.127\" y1=\"1184.286\" x2=\"483.642\" y2=\"1187.396\" stroke-linecap=\"round\" style=\"stroke:black;stroke-width:3\" /><line x1=\"483.642\" y1=\"1187.396\" x2=\"486.179\" y2=\"1190.488\" stroke-linecap=\"round\" style=\"stroke:black;stroke-width:3\" /><line x1=\"486.179\" y1=\"1190.488\" x2=\"488.739\" y2=\"1193.561\" stroke-linecap=\"round\" style=\"stroke:black;stroke-width:3\" /><line x1=\"488.739\" y1=\"1193.561\" x2=\"491.321\" y2=\"1196.616\" stroke-linecap=\"round\" style=\"stroke:black;stroke-width:3\" /><line x1=\"491.321\" y1=\"1196.616\" x2=\"493.925\" y2=\"1199.652\" stroke-linecap=\"round\" style=\"stroke:black;stroke-width:3\" /><line x1=\"493.925\" y1=\"1199.652\" x2=\"496.551\" y2=\"1202.669\" stroke-linecap=\"round\" style=\"stroke:black;stroke-width:3\" /><line x1=\"496.551\" y1=\"1202.669\" x2=\"499.199\" y2=\"1205.667\" stroke-linecap=\"round\" style=\"stroke:black;stroke-width:3\" /><line x1=\"499.199\" y1=\"1205.667\" x2=\"501.869\" y2=\"1208.645\" stroke-linecap=\"round\" style=\"stroke:black;stroke-width:3\" /><line x1=\"501.869\" y1=\"1208.645\" x2=\"504.56\" y2=\"1211.604\" stroke-linecap=\"round\" style=\"stroke:black;stroke-width:3\" /><line x1=\"504.56\" y1=\"1211.604\" x2=\"507.273\" y2=\"1214.543\" stroke-linecap=\"round\" style=\"stroke:black;stroke-width:3\" /><line x1=\"507.273\" y1=\"1214.543\" x2=\"510.007\" y2=\"1217.462\" stroke-linecap=\"round\" style=\"stroke:black;stroke-width:3\" /><line x1=\"510.007\" y1=\"1217.462\" x2=\"512.762\" y2=\"1220.361\" stroke-linecap=\"round\" style=\"stroke:black;stroke-width:3\" /><line x1=\"512.762\" y1=\"1220.361\" x2=\"515.538\" y2=\"1223.24\" stroke-linecap=\"round\" style=\"stroke:black;stroke-width:3\" /><line x1=\"515.538\" y1=\"1223.24\" x2=\"518.335\" y2=\"1226.099\" stroke-linecap=\"round\" style=\"stroke:black;stroke-width:3\" /><line x1=\"518.335\" y1=\"1226.099\" x2=\"521.153\" y2=\"1228.937\" stroke-linecap=\"round\" style=\"stroke:black;stroke-width:3\" /><line x1=\"521.153\" y1=\"1228.937\" x2=\"523.991\" y2=\"1231.755\" stroke-linecap=\"round\" style=\"stroke:black;stroke-width:3\" /><line x1=\"523.991\" y1=\"1231.755\" x2=\"526.85\" y2=\"1234.552\" stroke-linecap=\"round\" style=\"stroke:black;stroke-width:3\" /><line x1=\"526.85\" y1=\"1234.552\" x2=\"529.729\" y2=\"1237.328\" stroke-linecap=\"round\" style=\"stroke:black;stroke-width:3\" /><line x1=\"529.729\" y1=\"1237.328\" x2=\"532.628\" y2=\"1240.083\" stroke-linecap=\"round\" style=\"stroke:black;stroke-width:3\" /><line x1=\"532.628\" y1=\"1240.083\" x2=\"535.547\" y2=\"1242.817\" stroke-linecap=\"round\" style=\"stroke:black;stroke-width:3\" /><line x1=\"535.547\" y1=\"1242.817\" x2=\"538.486\" y2=\"1245.53\" stroke-linecap=\"round\" style=\"stroke:black;stroke-width:3\" /><line x1=\"538.486\" y1=\"1245.53\" x2=\"541.445\" y2=\"1248.221\" stroke-linecap=\"round\" style=\"stroke:black;stroke-width:3\" /><line x1=\"541.445\" y1=\"1248.221\" x2=\"544.423\" y2=\"1250.891\" stroke-linecap=\"round\" style=\"stroke:black;stroke-width:3\" /><line x1=\"544.423\" y1=\"1250.891\" x2=\"547.421\" y2=\"1253.539\" stroke-linecap=\"round\" style=\"stroke:black;stroke-width:3\" /><line x1=\"547.421\" y1=\"1253.539\" x2=\"550.438\" y2=\"1256.165\" stroke-linecap=\"round\" style=\"stroke:black;stroke-width:3\" /><line x1=\"550.438\" y1=\"1256.165\" x2=\"553.474\" y2=\"1258.769\" stroke-linecap=\"round\" style=\"stroke:black;stroke-width:3\" /><line x1=\"553.474\" y1=\"1258.769\" x2=\"556.529\" y2=\"1261.351\" stroke-linecap=\"round\" style=\"stroke:black;stroke-width:3\" /><line x1=\"556.529\" y1=\"1261.351\" x2=\"559.602\" y2=\"1263.911\" stroke-linecap=\"round\" style=\"stroke:black;stroke-width:3\" /><line x1=\"559.602\" y1=\"1263.911\" x2=\"562.694\" y2=\"1266.448\" stroke-linecap=\"round\" style=\"stroke:black;stroke-width:3\" /><line x1=\"562.694\" y1=\"1266.448\" x2=\"565.804\" y2=\"1268.963\" stroke-linecap=\"round\" style=\"stroke:black;stroke-width:3\" /><line x1=\"565.804\" y1=\"1268.963\" x2=\"568.932\" y2=\"1271.455\" stroke-linecap=\"round\" style=\"stroke:black;stroke-width:3\" /><line x1=\"568.932\" y1=\"1271.455\" x2=\"572.078\" y2=\"1273.924\" stroke-linecap=\"round\" style=\"stroke:black;stroke-width:3\" /><line x1=\"572.078\" y1=\"1273.924\" x2=\"575.242\" y2=\"1276.37\" stroke-linecap=\"round\" style=\"stroke:black;stroke-width:3\" /><line x1=\"575.242\" y1=\"1276.37\" x2=\"578.424\" y2=\"1278.793\" stroke-linecap=\"round\" style=\"stroke:black;stroke-width:3\" /><line x1=\"578.424\" y1=\"1278.793\" x2=\"581.624\" y2=\"1281.193\" stroke-linecap=\"round\" style=\"stroke:black;stroke-width:3\" /><line x1=\"581.624\" y1=\"1281.193\" x2=\"584.841\" y2=\"1283.57\" stroke-linecap=\"round\" style=\"stroke:black;stroke-width:3\" /><line x1=\"584.841\" y1=\"1283.57\" x2=\"588.075\" y2=\"1285.923\" stroke-linecap=\"round\" style=\"stroke:black;stroke-width:3\" /><line x1=\"588.075\" y1=\"1285.923\" x2=\"591.326\" y2=\"1288.253\" stroke-linecap=\"round\" style=\"stroke:black;stroke-width:3\" /><line x1=\"591.326\" y1=\"1288.253\" x2=\"594.594\" y2=\"1290.559\" stroke-linecap=\"round\" style=\"stroke:black;stroke-width:3\" /><line x1=\"594.594\" y1=\"1290.559\" x2=\"597.879\" y2=\"1292.841\" stroke-linecap=\"round\" style=\"stroke:black;stroke-width:3\" /><line x1=\"597.879\" y1=\"1292.841\" x2=\"601.18\" y2=\"1295.099\" stroke-linecap=\"round\" style=\"stroke:black;stroke-width:3\" /><line x1=\"601.18\" y1=\"1295.099\" x2=\"604.498\" y2=\"1297.333\" stroke-linecap=\"round\" style=\"stroke:black;stroke-width:3\" /><line x1=\"604.498\" y1=\"1297.333\" x2=\"607.832\" y2=\"1299.543\" stroke-linecap=\"round\" style=\"stroke:black;stroke-width:3\" /><line x1=\"607.832\" y1=\"1299.543\" x2=\"611.182\" y2=\"1301.729\" stroke-linecap=\"round\" style=\"stroke:black;stroke-width:3\" /><line x1=\"611.182\" y1=\"1301.729\" x2=\"614.547\" y2=\"1303.89\" stroke-linecap=\"round\" style=\"stroke:black;stroke-width:3\" /><line x1=\"614.547\" y1=\"1303.89\" x2=\"617.928\" y2=\"1306.027\" stroke-linecap=\"round\" style=\"stroke:black;stroke-width:3\" /><line x1=\"617.928\" y1=\"1306.027\" x2=\"621.325\" y2=\"1308.139\" stroke-linecap=\"round\" style=\"stroke:black;stroke-width:3\" /><line x1=\"621.325\" y1=\"1308.139\" x2=\"624.737\" y2=\"1310.226\" stroke-linecap=\"round\" style=\"stroke:black;stroke-width:3\" /><line x1=\"624.737\" y1=\"1310.226\" x2=\"628.164\" y2=\"1312.288\" stroke-linecap=\"round\" style=\"stroke:black;stroke-width:3\" /><line x1=\"628.164\" y1=\"1312.288\" x2=\"631.606\" y2=\"1314.326\" stroke-linecap=\"round\" style=\"stroke:black;stroke-width:3\" /><line x1=\"631.606\" y1=\"1314.326\" x2=\"635.063\" y2=\"1316.338\" stroke-linecap=\"round\" style=\"stroke:black;stroke-width:3\" /><line x1=\"635.063\" y1=\"1316.338\" x2=\"638.534\" y2=\"1318.325\" stroke-linecap=\"round\" style=\"stroke:black;stroke-width:3\" /><line x1=\"638.534\" y1=\"1318.325\" x2=\"642.019\" y2=\"1320.287\" stroke-linecap=\"round\" style=\"stroke:black;stroke-width:3\" /><line x1=\"642.019\" y1=\"1320.287\" x2=\"645.519\" y2=\"1322.224\" stroke-linecap=\"round\" style=\"stroke:black;stroke-width:3\" /><line x1=\"645.519\" y1=\"1322.224\" x2=\"649.033\" y2=\"1324.135\" stroke-linecap=\"round\" style=\"stroke:black;stroke-width:3\" /><line x1=\"649.033\" y1=\"1324.135\" x2=\"652.56\" y2=\"1326.02\" stroke-linecap=\"round\" style=\"stroke:black;stroke-width:3\" /><line x1=\"652.56\" y1=\"1326.02\" x2=\"656.101\" y2=\"1327.88\" stroke-linecap=\"round\" style=\"stroke:black;stroke-width:3\" /><line x1=\"656.101\" y1=\"1327.88\" x2=\"659.655\" y2=\"1329.714\" stroke-linecap=\"round\" style=\"stroke:black;stroke-width:3\" /><line x1=\"659.655\" y1=\"1329.714\" x2=\"663.223\" y2=\"1331.522\" stroke-linecap=\"round\" style=\"stroke:black;stroke-width:3\" /><line x1=\"663.223\" y1=\"1331.522\" x2=\"666.804\" y2=\"1333.304\" stroke-linecap=\"round\" style=\"stroke:black;stroke-width:3\" /><line x1=\"666.804\" y1=\"1333.304\" x2=\"670.398\" y2=\"1335.06\" stroke-linecap=\"round\" style=\"stroke:black;stroke-width:3\" /><line x1=\"670.398\" y1=\"1335.06\" x2=\"674.004\" y2=\"1336.79\" stroke-linecap=\"round\" style=\"stroke:black;stroke-width:3\" /><line x1=\"674.004\" y1=\"1336.79\" x2=\"677.623\" y2=\"1338.494\" stroke-linecap=\"round\" style=\"stroke:black;stroke-width:3\" /><line x1=\"677.623\" y1=\"1338.494\" x2=\"681.254\" y2=\"1340.171\" stroke-linecap=\"round\" style=\"stroke:black;stroke-width:3\" /><line x1=\"681.254\" y1=\"1340.171\" x2=\"684.897\" y2=\"1341.822\" stroke-linecap=\"round\" style=\"stroke:black;stroke-width:3\" /><line x1=\"684.897\" y1=\"1341.822\" x2=\"688.552\" y2=\"1343.446\" stroke-linecap=\"round\" style=\"stroke:black;stroke-width:3\" /><line x1=\"688.552\" y1=\"1343.446\" x2=\"692.219\" y2=\"1345.044\" stroke-linecap=\"round\" style=\"stroke:black;stroke-width:3\" /><line x1=\"692.219\" y1=\"1345.044\" x2=\"695.897\" y2=\"1346.615\" stroke-linecap=\"round\" style=\"stroke:black;stroke-width:3\" /><line x1=\"695.897\" y1=\"1346.615\" x2=\"699.587\" y2=\"1348.159\" stroke-linecap=\"round\" style=\"stroke:black;stroke-width:3\" /><line x1=\"699.587\" y1=\"1348.159\" x2=\"703.288\" y2=\"1349.676\" stroke-linecap=\"round\" style=\"stroke:black;stroke-width:3\" /><line x1=\"703.288\" y1=\"1349.676\" x2=\"707.0\" y2=\"1351.166\" stroke-linecap=\"round\" style=\"stroke:black;stroke-width:3\" /><line x1=\"707.0\" y1=\"1351.166\" x2=\"710.722\" y2=\"1352.629\" stroke-linecap=\"round\" style=\"stroke:black;stroke-width:3\" /><line x1=\"710.722\" y1=\"1352.629\" x2=\"714.455\" y2=\"1354.065\" stroke-linecap=\"round\" style=\"stroke:black;stroke-width:3\" /><line x1=\"714.455\" y1=\"1354.065\" x2=\"718.198\" y2=\"1355.474\" stroke-linecap=\"round\" style=\"stroke:black;stroke-width:3\" /><line x1=\"718.198\" y1=\"1355.474\" x2=\"721.952\" y2=\"1356.856\" stroke-linecap=\"round\" style=\"stroke:black;stroke-width:3\" /><line x1=\"721.952\" y1=\"1356.856\" x2=\"725.715\" y2=\"1358.21\" stroke-linecap=\"round\" style=\"stroke:black;stroke-width:3\" /><line x1=\"725.715\" y1=\"1358.21\" x2=\"729.488\" y2=\"1359.537\" stroke-linecap=\"round\" style=\"stroke:black;stroke-width:3\" /><line x1=\"729.488\" y1=\"1359.537\" x2=\"733.271\" y2=\"1360.836\" stroke-linecap=\"round\" style=\"stroke:black;stroke-width:3\" /><line x1=\"733.271\" y1=\"1360.836\" x2=\"737.063\" y2=\"1362.108\" stroke-linecap=\"round\" style=\"stroke:black;stroke-width:3\" /><line x1=\"737.063\" y1=\"1362.108\" x2=\"740.864\" y2=\"1363.352\" stroke-linecap=\"round\" style=\"stroke:black;stroke-width:3\" /><line x1=\"740.864\" y1=\"1363.352\" x2=\"744.674\" y2=\"1364.569\" stroke-linecap=\"round\" style=\"stroke:black;stroke-width:3\" /><line x1=\"744.674\" y1=\"1364.569\" x2=\"748.493\" y2=\"1365.758\" stroke-linecap=\"round\" style=\"stroke:black;stroke-width:3\" /><line x1=\"748.493\" y1=\"1365.758\" x2=\"752.32\" y2=\"1366.919\" stroke-linecap=\"round\" style=\"stroke:black;stroke-width:3\" /><line x1=\"752.32\" y1=\"1366.919\" x2=\"756.156\" y2=\"1368.052\" stroke-linecap=\"round\" style=\"stroke:black;stroke-width:3\" /><line x1=\"756.156\" y1=\"1368.052\" x2=\"760.0\" y2=\"1369.157\" stroke-linecap=\"round\" style=\"stroke:black;stroke-width:3\" /><line x1=\"760.0\" y1=\"1369.157\" x2=\"763.852\" y2=\"1370.234\" stroke-linecap=\"round\" style=\"stroke:black;stroke-width:3\" /><line x1=\"763.852\" y1=\"1370.234\" x2=\"767.712\" y2=\"1371.283\" stroke-linecap=\"round\" style=\"stroke:black;stroke-width:3\" /><line x1=\"767.712\" y1=\"1371.283\" x2=\"771.579\" y2=\"1372.304\" stroke-linecap=\"round\" style=\"stroke:black;stroke-width:3\" /><line x1=\"771.579\" y1=\"1372.304\" x2=\"775.453\" y2=\"1373.297\" stroke-linecap=\"round\" style=\"stroke:black;stroke-width:3\" /><line x1=\"775.453\" y1=\"1373.297\" x2=\"779.335\" y2=\"1374.262\" stroke-linecap=\"round\" style=\"stroke:black;stroke-width:3\" /><line x1=\"779.335\" y1=\"1374.262\" x2=\"783.224\" y2=\"1375.199\" stroke-linecap=\"round\" style=\"stroke:black;stroke-width:3\" /><line x1=\"783.224\" y1=\"1375.199\" x2=\"787.119\" y2=\"1376.107\" stroke-linecap=\"round\" style=\"stroke:black;stroke-width:3\" /><line x1=\"787.119\" y1=\"1376.107\" x2=\"791.021\" y2=\"1376.987\" stroke-linecap=\"round\" style=\"stroke:black;stroke-width:3\" /><line x1=\"791.021\" y1=\"1376.987\" x2=\"794.929\" y2=\"1377.838\" stroke-linecap=\"round\" style=\"stroke:black;stroke-width:3\" /><line x1=\"794.929\" y1=\"1377.838\" x2=\"798.843\" y2=\"1378.661\" stroke-linecap=\"round\" style=\"stroke:black;stroke-width:3\" /><line x1=\"798.843\" y1=\"1378.661\" x2=\"802.763\" y2=\"1379.456\" stroke-linecap=\"round\" style=\"stroke:black;stroke-width:3\" /><line x1=\"802.763\" y1=\"1379.456\" x2=\"806.689\" y2=\"1380.222\" stroke-linecap=\"round\" style=\"stroke:black;stroke-width:3\" /><line x1=\"806.689\" y1=\"1380.222\" x2=\"810.62\" y2=\"1380.959\" stroke-linecap=\"round\" style=\"stroke:black;stroke-width:3\" /><line x1=\"810.62\" y1=\"1380.959\" x2=\"814.556\" y2=\"1381.668\" stroke-linecap=\"round\" style=\"stroke:black;stroke-width:3\" /><line x1=\"814.556\" y1=\"1381.668\" x2=\"818.497\" y2=\"1382.348\" stroke-linecap=\"round\" style=\"stroke:black;stroke-width:3\" /><line x1=\"818.497\" y1=\"1382.348\" x2=\"822.443\" y2=\"1383.0\" stroke-linecap=\"round\" style=\"stroke:black;stroke-width:3\" /><line x1=\"822.443\" y1=\"1383.0\" x2=\"826.394\" y2=\"1383.623\" stroke-linecap=\"round\" style=\"stroke:black;stroke-width:3\" /><line x1=\"826.394\" y1=\"1383.623\" x2=\"830.349\" y2=\"1384.217\" stroke-linecap=\"round\" style=\"stroke:black;stroke-width:3\" /><line x1=\"830.349\" y1=\"1384.217\" x2=\"834.309\" y2=\"1384.782\" stroke-linecap=\"round\" style=\"stroke:black;stroke-width:3\" /><line x1=\"834.309\" y1=\"1384.782\" x2=\"838.273\" y2=\"1385.318\" stroke-linecap=\"round\" style=\"stroke:black;stroke-width:3\" /><line x1=\"838.273\" y1=\"1385.318\" x2=\"842.24\" y2=\"1385.826\" stroke-linecap=\"round\" style=\"stroke:black;stroke-width:3\" /><line x1=\"842.24\" y1=\"1385.826\" x2=\"846.211\" y2=\"1386.305\" stroke-linecap=\"round\" style=\"stroke:black;stroke-width:3\" /><line x1=\"846.211\" y1=\"1386.305\" x2=\"850.185\" y2=\"1386.755\" stroke-linecap=\"round\" style=\"stroke:black;stroke-width:3\" /><line x1=\"850.185\" y1=\"1386.755\" x2=\"854.162\" y2=\"1387.176\" stroke-linecap=\"round\" style=\"stroke:black;stroke-width:3\" /><line x1=\"854.162\" y1=\"1387.176\" x2=\"858.142\" y2=\"1387.568\" stroke-linecap=\"round\" style=\"stroke:black;stroke-width:3\" /><line x1=\"858.142\" y1=\"1387.568\" x2=\"862.125\" y2=\"1387.931\" stroke-linecap=\"round\" style=\"stroke:black;stroke-width:3\" /><line x1=\"862.125\" y1=\"1387.931\" x2=\"866.111\" y2=\"1388.265\" stroke-linecap=\"round\" style=\"stroke:black;stroke-width:3\" /><line x1=\"866.111\" y1=\"1388.265\" x2=\"870.099\" y2=\"1388.57\" stroke-linecap=\"round\" style=\"stroke:black;stroke-width:3\" /><line x1=\"870.099\" y1=\"1388.57\" x2=\"874.089\" y2=\"1388.846\" stroke-linecap=\"round\" style=\"stroke:black;stroke-width:3\" /><line x1=\"874.089\" y1=\"1388.846\" x2=\"878.081\" y2=\"1389.093\" stroke-linecap=\"round\" style=\"stroke:black;stroke-width:3\" /><line x1=\"878.081\" y1=\"1389.093\" x2=\"882.075\" y2=\"1389.311\" stroke-linecap=\"round\" style=\"stroke:black;stroke-width:3\" /><line x1=\"882.075\" y1=\"1389.311\" x2=\"886.07\" y2=\"1389.5\" stroke-linecap=\"round\" style=\"stroke:black;stroke-width:3\" /><line x1=\"886.07\" y1=\"1389.5\" x2=\"890.067\" y2=\"1389.66\" stroke-linecap=\"round\" style=\"stroke:black;stroke-width:3\" /><line x1=\"890.067\" y1=\"1389.66\" x2=\"894.065\" y2=\"1389.791\" stroke-linecap=\"round\" style=\"stroke:black;stroke-width:3\" /><line x1=\"894.065\" y1=\"1389.791\" x2=\"898.063\" y2=\"1389.893\" stroke-linecap=\"round\" style=\"stroke:black;stroke-width:3\" /><line x1=\"898.063\" y1=\"1389.893\" x2=\"902.062\" y2=\"1389.966\" stroke-linecap=\"round\" style=\"stroke:black;stroke-width:3\" /><line x1=\"902.062\" y1=\"1389.966\" x2=\"906.061\" y2=\"1390.01\" stroke-linecap=\"round\" style=\"stroke:black;stroke-width:3\" /><line x1=\"906.061\" y1=\"1390.01\" x2=\"910.061\" y2=\"1390.025\" stroke-linecap=\"round\" style=\"stroke:black;stroke-width:3\" /><line x1=\"910.061\" y1=\"1390.025\" x2=\"914.055\" y2=\"1390.016\" stroke-linecap=\"round\" style=\"stroke:black;stroke-width:3\" /><line x1=\"914.055\" y1=\"1390.016\" x2=\"918.049\" y2=\"1389.989\" stroke-linecap=\"round\" style=\"stroke:black;stroke-width:3\" /><line x1=\"918.049\" y1=\"1389.989\" x2=\"922.043\" y2=\"1389.944\" stroke-linecap=\"round\" style=\"stroke:black;stroke-width:3\" /><line x1=\"922.043\" y1=\"1389.944\" x2=\"926.037\" y2=\"1389.881\" stroke-linecap=\"round\" style=\"stroke:black;stroke-width:3\" /><line x1=\"926.037\" y1=\"1389.881\" x2=\"930.03\" y2=\"1389.8\" stroke-linecap=\"round\" style=\"stroke:black;stroke-width:3\" /><line x1=\"930.03\" y1=\"1389.8\" x2=\"934.023\" y2=\"1389.701\" stroke-linecap=\"round\" style=\"stroke:black;stroke-width:3\" /><line x1=\"934.023\" y1=\"1389.701\" x2=\"938.016\" y2=\"1389.584\" stroke-linecap=\"round\" style=\"stroke:black;stroke-width:3\" /><line x1=\"938.016\" y1=\"1389.584\" x2=\"942.008\" y2=\"1389.45\" stroke-linecap=\"round\" style=\"stroke:black;stroke-width:3\" /><line x1=\"942.008\" y1=\"1389.45\" x2=\"945.999\" y2=\"1389.298\" stroke-linecap=\"round\" style=\"stroke:black;stroke-width:3\" /><line x1=\"945.999\" y1=\"1389.298\" x2=\"949.99\" y2=\"1389.128\" stroke-linecap=\"round\" style=\"stroke:black;stroke-width:3\" /><line x1=\"949.99\" y1=\"1389.128\" x2=\"953.98\" y2=\"1388.94\" stroke-linecap=\"round\" style=\"stroke:black;stroke-width:3\" /><line x1=\"953.98\" y1=\"1388.94\" x2=\"957.969\" y2=\"1388.734\" stroke-linecap=\"round\" style=\"stroke:black;stroke-width:3\" /><line x1=\"957.969\" y1=\"1388.734\" x2=\"961.957\" y2=\"1388.51\" stroke-linecap=\"round\" style=\"stroke:black;stroke-width:3\" /><line x1=\"961.957\" y1=\"1388.51\" x2=\"965.944\" y2=\"1388.268\" stroke-linecap=\"round\" style=\"stroke:black;stroke-width:3\" /><line x1=\"965.944\" y1=\"1388.268\" x2=\"969.93\" y2=\"1388.008\" stroke-linecap=\"round\" style=\"stroke:black;stroke-width:3\" /><line x1=\"969.93\" y1=\"1388.008\" x2=\"973.915\" y2=\"1387.73\" stroke-linecap=\"round\" style=\"stroke:black;stroke-width:3\" /><line x1=\"973.915\" y1=\"1387.73\" x2=\"977.898\" y2=\"1387.434\" stroke-linecap=\"round\" style=\"stroke:black;stroke-width:3\" /><line x1=\"977.898\" y1=\"1387.434\" x2=\"981.88\" y2=\"1387.121\" stroke-linecap=\"round\" style=\"stroke:black;stroke-width:3\" /><line x1=\"981.88\" y1=\"1387.121\" x2=\"985.861\" y2=\"1386.79\" stroke-linecap=\"round\" style=\"stroke:black;stroke-width:3\" /><line x1=\"985.861\" y1=\"1386.79\" x2=\"989.84\" y2=\"1386.441\" stroke-linecap=\"round\" style=\"stroke:black;stroke-width:3\" /><line x1=\"989.84\" y1=\"1386.441\" x2=\"993.817\" y2=\"1386.074\" stroke-linecap=\"round\" style=\"stroke:black;stroke-width:3\" /><line x1=\"993.817\" y1=\"1386.074\" x2=\"997.793\" y2=\"1385.689\" stroke-linecap=\"round\" style=\"stroke:black;stroke-width:3\" /><line x1=\"997.793\" y1=\"1385.689\" x2=\"1001.767\" y2=\"1385.286\" stroke-linecap=\"round\" style=\"stroke:black;stroke-width:3\" /><line x1=\"1001.767\" y1=\"1385.286\" x2=\"1005.739\" y2=\"1384.866\" stroke-linecap=\"round\" style=\"stroke:black;stroke-width:3\" /><line x1=\"1005.739\" y1=\"1384.866\" x2=\"1009.709\" y2=\"1384.428\" stroke-linecap=\"round\" style=\"stroke:black;stroke-width:3\" /><line x1=\"1009.709\" y1=\"1384.428\" x2=\"1013.677\" y2=\"1383.972\" stroke-linecap=\"round\" style=\"stroke:black;stroke-width:3\" /><line x1=\"1013.677\" y1=\"1383.972\" x2=\"1017.643\" y2=\"1383.498\" stroke-linecap=\"round\" style=\"stroke:black;stroke-width:3\" /><line x1=\"1017.643\" y1=\"1383.498\" x2=\"1021.607\" y2=\"1383.006\" stroke-linecap=\"round\" style=\"stroke:black;stroke-width:3\" /><line x1=\"1021.607\" y1=\"1383.006\" x2=\"1025.569\" y2=\"1382.496\" stroke-linecap=\"round\" style=\"stroke:black;stroke-width:3\" /><line x1=\"1025.569\" y1=\"1382.496\" x2=\"1029.528\" y2=\"1381.969\" stroke-linecap=\"round\" style=\"stroke:black;stroke-width:3\" /><line x1=\"1029.528\" y1=\"1381.969\" x2=\"1033.485\" y2=\"1381.424\" stroke-linecap=\"round\" style=\"stroke:black;stroke-width:3\" /><line x1=\"1033.485\" y1=\"1381.424\" x2=\"1037.439\" y2=\"1380.861\" stroke-linecap=\"round\" style=\"stroke:black;stroke-width:3\" /><line x1=\"1037.439\" y1=\"1380.861\" x2=\"1041.391\" y2=\"1380.28\" stroke-linecap=\"round\" style=\"stroke:black;stroke-width:3\" /><line x1=\"1041.391\" y1=\"1380.28\" x2=\"1045.34\" y2=\"1379.682\" stroke-linecap=\"round\" style=\"stroke:black;stroke-width:3\" /><line x1=\"1045.34\" y1=\"1379.682\" x2=\"1049.287\" y2=\"1379.066\" stroke-linecap=\"round\" style=\"stroke:black;stroke-width:3\" /><line x1=\"1049.287\" y1=\"1379.066\" x2=\"1053.231\" y2=\"1378.432\" stroke-linecap=\"round\" style=\"stroke:black;stroke-width:3\" /><line x1=\"1053.231\" y1=\"1378.432\" x2=\"1057.172\" y2=\"1377.781\" stroke-linecap=\"round\" style=\"stroke:black;stroke-width:3\" /><line x1=\"1057.172\" y1=\"1377.781\" x2=\"1061.11\" y2=\"1377.112\" stroke-linecap=\"round\" style=\"stroke:black;stroke-width:3\" /><line x1=\"1061.11\" y1=\"1377.112\" x2=\"1065.045\" y2=\"1376.425\" stroke-linecap=\"round\" style=\"stroke:black;stroke-width:3\" /><line x1=\"1065.045\" y1=\"1376.425\" x2=\"1068.977\" y2=\"1375.721\" stroke-linecap=\"round\" style=\"stroke:black;stroke-width:3\" /><line x1=\"1068.977\" y1=\"1375.721\" x2=\"1072.906\" y2=\"1374.999\" stroke-linecap=\"round\" style=\"stroke:black;stroke-width:3\" /><line x1=\"1072.906\" y1=\"1374.999\" x2=\"1076.831\" y2=\"1374.259\" stroke-linecap=\"round\" style=\"stroke:black;stroke-width:3\" /><line x1=\"1076.831\" y1=\"1374.259\" x2=\"1080.753\" y2=\"1373.502\" stroke-linecap=\"round\" style=\"stroke:black;stroke-width:3\" /><line x1=\"1080.753\" y1=\"1373.502\" x2=\"1084.671\" y2=\"1372.727\" stroke-linecap=\"round\" style=\"stroke:black;stroke-width:3\" /><line x1=\"1084.671\" y1=\"1372.727\" x2=\"1088.586\" y2=\"1371.935\" stroke-linecap=\"round\" style=\"stroke:black;stroke-width:3\" /><line x1=\"1088.586\" y1=\"1371.935\" x2=\"1092.497\" y2=\"1371.125\" stroke-linecap=\"round\" style=\"stroke:black;stroke-width:3\" /><line x1=\"1092.497\" y1=\"1371.125\" x2=\"1096.405\" y2=\"1370.297\" stroke-linecap=\"round\" style=\"stroke:black;stroke-width:3\" /><line x1=\"1096.405\" y1=\"1370.297\" x2=\"1100.309\" y2=\"1369.452\" stroke-linecap=\"round\" style=\"stroke:black;stroke-width:3\" /><line x1=\"1100.309\" y1=\"1369.452\" x2=\"1104.209\" y2=\"1368.589\" stroke-linecap=\"round\" style=\"stroke:black;stroke-width:3\" /><line x1=\"1104.209\" y1=\"1368.589\" x2=\"1108.105\" y2=\"1367.709\" stroke-linecap=\"round\" style=\"stroke:black;stroke-width:3\" /><line x1=\"1108.105\" y1=\"1367.709\" x2=\"1111.997\" y2=\"1366.811\" stroke-linecap=\"round\" style=\"stroke:black;stroke-width:3\" /><line x1=\"1111.997\" y1=\"1366.811\" x2=\"1115.885\" y2=\"1365.896\" stroke-linecap=\"round\" style=\"stroke:black;stroke-width:3\" /><line x1=\"1115.885\" y1=\"1365.896\" x2=\"1119.769\" y2=\"1364.964\" stroke-linecap=\"round\" style=\"stroke:black;stroke-width:3\" /><line x1=\"1119.769\" y1=\"1364.964\" x2=\"1123.649\" y2=\"1364.014\" stroke-linecap=\"round\" style=\"stroke:black;stroke-width:3\" /><line x1=\"1123.649\" y1=\"1364.014\" x2=\"1127.524\" y2=\"1363.047\" stroke-linecap=\"round\" style=\"stroke:black;stroke-width:3\" /><line x1=\"1127.524\" y1=\"1363.047\" x2=\"1131.395\" y2=\"1362.062\" stroke-linecap=\"round\" style=\"stroke:black;stroke-width:3\" /><line x1=\"1131.395\" y1=\"1362.062\" x2=\"1135.262\" y2=\"1361.06\" stroke-linecap=\"round\" style=\"stroke:black;stroke-width:3\" /><line x1=\"1135.262\" y1=\"1361.06\" x2=\"1139.124\" y2=\"1360.041\" stroke-linecap=\"round\" style=\"stroke:black;stroke-width:3\" /><line x1=\"1139.124\" y1=\"1360.041\" x2=\"1142.981\" y2=\"1359.004\" stroke-linecap=\"round\" style=\"stroke:black;stroke-width:3\" /><line x1=\"1142.981\" y1=\"1359.004\" x2=\"1146.834\" y2=\"1357.95\" stroke-linecap=\"round\" style=\"stroke:black;stroke-width:3\" /><line x1=\"1146.834\" y1=\"1357.95\" x2=\"1150.682\" y2=\"1356.879\" stroke-linecap=\"round\" style=\"stroke:black;stroke-width:3\" /><line x1=\"1150.682\" y1=\"1356.879\" x2=\"1154.525\" y2=\"1355.79\" stroke-linecap=\"round\" style=\"stroke:black;stroke-width:3\" /><line x1=\"1154.525\" y1=\"1355.79\" x2=\"1158.363\" y2=\"1354.684\" stroke-linecap=\"round\" style=\"stroke:black;stroke-width:3\" /><line x1=\"1158.363\" y1=\"1354.684\" x2=\"1162.196\" y2=\"1353.561\" stroke-linecap=\"round\" style=\"stroke:black;stroke-width:3\" /><line x1=\"1162.196\" y1=\"1353.561\" x2=\"1166.024\" y2=\"1352.421\" stroke-linecap=\"round\" style=\"stroke:black;stroke-width:3\" /><line x1=\"1166.024\" y1=\"1352.421\" x2=\"1169.847\" y2=\"1351.264\" stroke-linecap=\"round\" style=\"stroke:black;stroke-width:3\" /><line x1=\"1169.847\" y1=\"1351.264\" x2=\"1173.665\" y2=\"1350.09\" stroke-linecap=\"round\" style=\"stroke:black;stroke-width:3\" /><line x1=\"1173.665\" y1=\"1350.09\" x2=\"1177.477\" y2=\"1348.898\" stroke-linecap=\"round\" style=\"stroke:black;stroke-width:3\" /><line x1=\"1177.477\" y1=\"1348.898\" x2=\"1181.284\" y2=\"1347.689\" stroke-linecap=\"round\" style=\"stroke:black;stroke-width:3\" /><line x1=\"1181.284\" y1=\"1347.689\" x2=\"1185.086\" y2=\"1346.463\" stroke-linecap=\"round\" style=\"stroke:black;stroke-width:3\" /><line x1=\"1185.086\" y1=\"1346.463\" x2=\"1188.882\" y2=\"1345.22\" stroke-linecap=\"round\" style=\"stroke:black;stroke-width:3\" /><line x1=\"1188.882\" y1=\"1345.22\" x2=\"1192.672\" y2=\"1343.96\" stroke-linecap=\"round\" style=\"stroke:black;stroke-width:3\" /><line x1=\"1192.672\" y1=\"1343.96\" x2=\"1196.457\" y2=\"1342.683\" stroke-linecap=\"round\" style=\"stroke:black;stroke-width:3\" /><line x1=\"1196.457\" y1=\"1342.683\" x2=\"1200.236\" y2=\"1341.389\" stroke-linecap=\"round\" style=\"stroke:black;stroke-width:3\" /><line x1=\"1200.236\" y1=\"1341.389\" x2=\"1204.009\" y2=\"1340.078\" stroke-linecap=\"round\" style=\"stroke:black;stroke-width:3\" /><line x1=\"1204.009\" y1=\"1340.078\" x2=\"1207.776\" y2=\"1338.75\" stroke-linecap=\"round\" style=\"stroke:black;stroke-width:3\" /><line x1=\"1207.776\" y1=\"1338.75\" x2=\"1211.537\" y2=\"1337.405\" stroke-linecap=\"round\" style=\"stroke:black;stroke-width:3\" /><line x1=\"1211.537\" y1=\"1337.405\" x2=\"1215.292\" y2=\"1336.044\" stroke-linecap=\"round\" style=\"stroke:black;stroke-width:3\" /><line x1=\"1215.292\" y1=\"1336.044\" x2=\"1219.041\" y2=\"1334.666\" stroke-linecap=\"round\" style=\"stroke:black;stroke-width:3\" /><line x1=\"1219.041\" y1=\"1334.666\" x2=\"1222.784\" y2=\"1333.271\" stroke-linecap=\"round\" style=\"stroke:black;stroke-width:3\" /><line x1=\"1222.784\" y1=\"1333.271\" x2=\"1226.52\" y2=\"1331.859\" stroke-linecap=\"round\" style=\"stroke:black;stroke-width:3\" /><line x1=\"1226.52\" y1=\"1331.859\" x2=\"1230.25\" y2=\"1330.43\" stroke-linecap=\"round\" style=\"stroke:black;stroke-width:3\" /><line x1=\"1230.25\" y1=\"1330.43\" x2=\"1233.974\" y2=\"1328.985\" stroke-linecap=\"round\" style=\"stroke:black;stroke-width:3\" /><line x1=\"1233.974\" y1=\"1328.985\" x2=\"1237.691\" y2=\"1327.523\" stroke-linecap=\"round\" style=\"stroke:black;stroke-width:3\" /><line x1=\"1237.691\" y1=\"1327.523\" x2=\"1241.402\" y2=\"1326.044\" stroke-linecap=\"round\" style=\"stroke:black;stroke-width:3\" /><line x1=\"1241.402\" y1=\"1326.044\" x2=\"1245.106\" y2=\"1324.549\" stroke-linecap=\"round\" style=\"stroke:black;stroke-width:3\" /><line x1=\"1245.106\" y1=\"1324.549\" x2=\"1248.803\" y2=\"1323.037\" stroke-linecap=\"round\" style=\"stroke:black;stroke-width:3\" /><line x1=\"1248.803\" y1=\"1323.037\" x2=\"1252.493\" y2=\"1321.508\" stroke-linecap=\"round\" style=\"stroke:black;stroke-width:3\" /><line x1=\"1252.493\" y1=\"1321.508\" x2=\"1256.176\" y2=\"1319.963\" stroke-linecap=\"round\" style=\"stroke:black;stroke-width:3\" /><line x1=\"1256.176\" y1=\"1319.963\" x2=\"1259.852\" y2=\"1318.401\" stroke-linecap=\"round\" style=\"stroke:black;stroke-width:3\" /><line x1=\"1259.852\" y1=\"1318.401\" x2=\"1263.521\" y2=\"1316.823\" stroke-linecap=\"round\" style=\"stroke:black;stroke-width:3\" /><line x1=\"1263.521\" y1=\"1316.823\" x2=\"1267.183\" y2=\"1315.228\" stroke-linecap=\"round\" style=\"stroke:black;stroke-width:3\" /><line x1=\"1267.183\" y1=\"1315.228\" x2=\"1270.838\" y2=\"1313.617\" stroke-linecap=\"round\" style=\"stroke:black;stroke-width:3\" /><line x1=\"1270.838\" y1=\"1313.617\" x2=\"1274.486\" y2=\"1311.99\" stroke-linecap=\"round\" style=\"stroke:black;stroke-width:3\" /><line x1=\"1274.486\" y1=\"1311.99\" x2=\"1278.126\" y2=\"1310.346\" stroke-linecap=\"round\" style=\"stroke:black;stroke-width:3\" /><line x1=\"1278.126\" y1=\"1310.346\" x2=\"1281.759\" y2=\"1308.686\" stroke-linecap=\"round\" style=\"stroke:black;stroke-width:3\" /><line x1=\"1281.759\" y1=\"1308.686\" x2=\"1285.385\" y2=\"1307.01\" stroke-linecap=\"round\" style=\"stroke:black;stroke-width:3\" /><line x1=\"1285.385\" y1=\"1307.01\" x2=\"1289.003\" y2=\"1305.317\" stroke-linecap=\"round\" style=\"stroke:black;stroke-width:3\" /><line x1=\"1289.003\" y1=\"1305.317\" x2=\"1292.613\" y2=\"1303.608\" stroke-linecap=\"round\" style=\"stroke:black;stroke-width:3\" /><line x1=\"1292.613\" y1=\"1303.608\" x2=\"1296.216\" y2=\"1301.883\" stroke-linecap=\"round\" style=\"stroke:black;stroke-width:3\" /><line x1=\"1296.216\" y1=\"1301.883\" x2=\"1299.811\" y2=\"1300.142\" stroke-linecap=\"round\" style=\"stroke:black;stroke-width:3\" /><line x1=\"1299.811\" y1=\"1300.142\" x2=\"1303.398\" y2=\"1298.385\" stroke-linecap=\"round\" style=\"stroke:black;stroke-width:3\" /><line x1=\"1303.398\" y1=\"1298.385\" x2=\"1306.977\" y2=\"1296.612\" stroke-linecap=\"round\" style=\"stroke:black;stroke-width:3\" /><line x1=\"1306.977\" y1=\"1296.612\" x2=\"1310.548\" y2=\"1294.823\" stroke-linecap=\"round\" style=\"stroke:black;stroke-width:3\" /><line x1=\"1310.548\" y1=\"1294.823\" x2=\"1314.111\" y2=\"1293.018\" stroke-linecap=\"round\" style=\"stroke:black;stroke-width:3\" /><line x1=\"1314.111\" y1=\"1293.018\" x2=\"1317.666\" y2=\"1291.197\" stroke-linecap=\"round\" style=\"stroke:black;stroke-width:3\" /><line x1=\"1317.666\" y1=\"1291.197\" x2=\"1321.213\" y2=\"1289.36\" stroke-linecap=\"round\" style=\"stroke:black;stroke-width:3\" /><line x1=\"1321.213\" y1=\"1289.36\" x2=\"1324.751\" y2=\"1287.507\" stroke-linecap=\"round\" style=\"stroke:black;stroke-width:3\" /><line x1=\"1324.751\" y1=\"1287.507\" x2=\"1328.281\" y2=\"1285.638\" stroke-linecap=\"round\" style=\"stroke:black;stroke-width:3\" /><line x1=\"1328.281\" y1=\"1285.638\" x2=\"1331.803\" y2=\"1283.753\" stroke-linecap=\"round\" style=\"stroke:black;stroke-width:3\" /><line x1=\"1331.803\" y1=\"1283.753\" x2=\"1335.316\" y2=\"1281.852\" stroke-linecap=\"round\" style=\"stroke:black;stroke-width:3\" /><line x1=\"1335.316\" y1=\"1281.852\" x2=\"1338.821\" y2=\"1279.936\" stroke-linecap=\"round\" style=\"stroke:black;stroke-width:3\" /><line x1=\"1338.821\" y1=\"1279.936\" x2=\"1342.317\" y2=\"1278.004\" stroke-linecap=\"round\" style=\"stroke:black;stroke-width:3\" /><line x1=\"1342.317\" y1=\"1278.004\" x2=\"1345.804\" y2=\"1276.056\" stroke-linecap=\"round\" style=\"stroke:black;stroke-width:3\" /><line x1=\"1345.804\" y1=\"1276.056\" x2=\"1349.282\" y2=\"1274.093\" stroke-linecap=\"round\" style=\"stroke:black;stroke-width:3\" /><line x1=\"1349.282\" y1=\"1274.093\" x2=\"1352.752\" y2=\"1272.114\" stroke-linecap=\"round\" style=\"stroke:black;stroke-width:3\" /><line x1=\"1352.752\" y1=\"1272.114\" x2=\"1356.213\" y2=\"1270.119\" stroke-linecap=\"round\" style=\"stroke:black;stroke-width:3\" /><line x1=\"1356.213\" y1=\"1270.119\" x2=\"1359.665\" y2=\"1268.109\" stroke-linecap=\"round\" style=\"stroke:black;stroke-width:3\" /><line x1=\"1359.665\" y1=\"1268.109\" x2=\"1363.108\" y2=\"1266.083\" stroke-linecap=\"round\" style=\"stroke:black;stroke-width:3\" /><line x1=\"1363.108\" y1=\"1266.083\" x2=\"1366.541\" y2=\"1264.042\" stroke-linecap=\"round\" style=\"stroke:black;stroke-width:3\" /><line x1=\"1366.541\" y1=\"1264.042\" x2=\"1369.965\" y2=\"1261.986\" stroke-linecap=\"round\" style=\"stroke:black;stroke-width:3\" /><line x1=\"1369.965\" y1=\"1261.986\" x2=\"1373.38\" y2=\"1259.914\" stroke-linecap=\"round\" style=\"stroke:black;stroke-width:3\" /><line x1=\"1373.38\" y1=\"1259.914\" x2=\"1376.786\" y2=\"1257.827\" stroke-linecap=\"round\" style=\"stroke:black;stroke-width:3\" /><line x1=\"1376.786\" y1=\"1257.827\" x2=\"1380.182\" y2=\"1255.725\" stroke-linecap=\"round\" style=\"stroke:black;stroke-width:3\" /><line x1=\"1380.182\" y1=\"1255.725\" x2=\"1383.569\" y2=\"1253.607\" stroke-linecap=\"round\" style=\"stroke:black;stroke-width:3\" /><line x1=\"1383.569\" y1=\"1253.607\" x2=\"1386.946\" y2=\"1251.474\" stroke-linecap=\"round\" style=\"stroke:black;stroke-width:3\" /><line x1=\"1386.946\" y1=\"1251.474\" x2=\"1390.314\" y2=\"1249.326\" stroke-linecap=\"round\" style=\"stroke:black;stroke-width:3\" /><line x1=\"1390.314\" y1=\"1249.326\" x2=\"1393.672\" y2=\"1247.163\" stroke-linecap=\"round\" style=\"stroke:black;stroke-width:3\" /><line x1=\"1393.672\" y1=\"1247.163\" x2=\"1397.02\" y2=\"1244.985\" stroke-linecap=\"round\" style=\"stroke:black;stroke-width:3\" /><line x1=\"1397.02\" y1=\"1244.985\" x2=\"1400.358\" y2=\"1242.792\" stroke-linecap=\"round\" style=\"stroke:black;stroke-width:3\" /><line x1=\"1400.358\" y1=\"1242.792\" x2=\"1403.687\" y2=\"1240.584\" stroke-linecap=\"round\" style=\"stroke:black;stroke-width:3\" /><line x1=\"1403.687\" y1=\"1240.584\" x2=\"1407.006\" y2=\"1238.361\" stroke-linecap=\"round\" style=\"stroke:black;stroke-width:3\" /><line x1=\"1407.006\" y1=\"1238.361\" x2=\"1410.315\" y2=\"1236.123\" stroke-linecap=\"round\" style=\"stroke:black;stroke-width:3\" /><line x1=\"1410.315\" y1=\"1236.123\" x2=\"1413.614\" y2=\"1233.87\" stroke-linecap=\"round\" style=\"stroke:black;stroke-width:3\" /><line x1=\"1413.614\" y1=\"1233.87\" x2=\"1416.902\" y2=\"1231.603\" stroke-linecap=\"round\" style=\"stroke:black;stroke-width:3\" /><line x1=\"1416.902\" y1=\"1231.603\" x2=\"1420.18\" y2=\"1229.321\" stroke-linecap=\"round\" style=\"stroke:black;stroke-width:3\" /><line x1=\"1420.18\" y1=\"1229.321\" x2=\"1423.448\" y2=\"1227.024\" stroke-linecap=\"round\" style=\"stroke:black;stroke-width:3\" /><line x1=\"1423.448\" y1=\"1227.024\" x2=\"1426.706\" y2=\"1224.713\" stroke-linecap=\"round\" style=\"stroke:black;stroke-width:3\" /><line x1=\"1426.706\" y1=\"1224.713\" x2=\"1429.953\" y2=\"1222.387\" stroke-linecap=\"round\" style=\"stroke:black;stroke-width:3\" /><line x1=\"1429.953\" y1=\"1222.387\" x2=\"1433.19\" y2=\"1220.046\" stroke-linecap=\"round\" style=\"stroke:black;stroke-width:3\" /><line x1=\"1433.19\" y1=\"1220.046\" x2=\"1436.416\" y2=\"1217.691\" stroke-linecap=\"round\" style=\"stroke:black;stroke-width:3\" /><line x1=\"1436.416\" y1=\"1217.691\" x2=\"1439.632\" y2=\"1215.322\" stroke-linecap=\"round\" style=\"stroke:black;stroke-width:3\" /><line x1=\"1439.632\" y1=\"1215.322\" x2=\"1442.837\" y2=\"1212.938\" stroke-linecap=\"round\" style=\"stroke:black;stroke-width:3\" /><line x1=\"1442.837\" y1=\"1212.938\" x2=\"1446.031\" y2=\"1210.54\" stroke-linecap=\"round\" style=\"stroke:black;stroke-width:3\" /><line x1=\"1446.031\" y1=\"1210.54\" x2=\"1449.214\" y2=\"1208.127\" stroke-linecap=\"round\" style=\"stroke:black;stroke-width:3\" /><line x1=\"1449.214\" y1=\"1208.127\" x2=\"1452.387\" y2=\"1205.7\" stroke-linecap=\"round\" style=\"stroke:black;stroke-width:3\" /><line x1=\"1452.387\" y1=\"1205.7\" x2=\"1455.549\" y2=\"1203.259\" stroke-linecap=\"round\" style=\"stroke:black;stroke-width:3\" /><line x1=\"1455.549\" y1=\"1203.259\" x2=\"1458.7\" y2=\"1200.804\" stroke-linecap=\"round\" style=\"stroke:black;stroke-width:3\" /><line x1=\"1458.7\" y1=\"1200.804\" x2=\"1461.84\" y2=\"1198.335\" stroke-linecap=\"round\" style=\"stroke:black;stroke-width:3\" /><line x1=\"1461.84\" y1=\"1198.335\" x2=\"1464.968\" y2=\"1195.852\" stroke-linecap=\"round\" style=\"stroke:black;stroke-width:3\" /><line x1=\"1464.968\" y1=\"1195.852\" x2=\"1468.085\" y2=\"1193.355\" stroke-linecap=\"round\" style=\"stroke:black;stroke-width:3\" /><line x1=\"1468.085\" y1=\"1193.355\" x2=\"1471.191\" y2=\"1190.844\" stroke-linecap=\"round\" style=\"stroke:black;stroke-width:3\" /><line x1=\"1471.191\" y1=\"1190.844\" x2=\"1474.286\" y2=\"1188.319\" stroke-linecap=\"round\" style=\"stroke:black;stroke-width:3\" /><line x1=\"1474.286\" y1=\"1188.319\" x2=\"1477.369\" y2=\"1185.78\" stroke-linecap=\"round\" style=\"stroke:black;stroke-width:3\" /><line x1=\"1477.369\" y1=\"1185.78\" x2=\"1480.441\" y2=\"1183.227\" stroke-linecap=\"round\" style=\"stroke:black;stroke-width:3\" /><line x1=\"1480.441\" y1=\"1183.227\" x2=\"1483.501\" y2=\"1180.66\" stroke-linecap=\"round\" style=\"stroke:black;stroke-width:3\" /><line x1=\"1483.501\" y1=\"1180.66\" x2=\"1486.55\" y2=\"1178.08\" stroke-linecap=\"round\" style=\"stroke:black;stroke-width:3\" /><line x1=\"1486.55\" y1=\"1178.08\" x2=\"1489.587\" y2=\"1175.486\" stroke-linecap=\"round\" style=\"stroke:black;stroke-width:3\" /><line x1=\"1489.587\" y1=\"1175.486\" x2=\"1492.613\" y2=\"1172.878\" stroke-linecap=\"round\" style=\"stroke:black;stroke-width:3\" /><line x1=\"1492.613\" y1=\"1172.878\" x2=\"1495.627\" y2=\"1170.257\" stroke-linecap=\"round\" style=\"stroke:black;stroke-width:3\" /><line x1=\"1495.627\" y1=\"1170.257\" x2=\"1498.629\" y2=\"1167.622\" stroke-linecap=\"round\" style=\"stroke:black;stroke-width:3\" /><line x1=\"1498.629\" y1=\"1167.622\" x2=\"1501.619\" y2=\"1164.974\" stroke-linecap=\"round\" style=\"stroke:black;stroke-width:3\" /><line x1=\"1501.619\" y1=\"1164.974\" x2=\"1504.597\" y2=\"1162.312\" stroke-linecap=\"round\" style=\"stroke:black;stroke-width:3\" /><line x1=\"1504.597\" y1=\"1162.312\" x2=\"1507.563\" y2=\"1159.637\" stroke-linecap=\"round\" style=\"stroke:black;stroke-width:3\" /><line x1=\"1507.563\" y1=\"1159.637\" x2=\"1510.517\" y2=\"1156.949\" stroke-linecap=\"round\" style=\"stroke:black;stroke-width:3\" /><line x1=\"1510.517\" y1=\"1156.949\" x2=\"1513.459\" y2=\"1154.248\" stroke-linecap=\"round\" style=\"stroke:black;stroke-width:3\" /><line x1=\"1513.459\" y1=\"1154.248\" x2=\"1516.389\" y2=\"1151.533\" stroke-linecap=\"round\" style=\"stroke:black;stroke-width:3\" /><line x1=\"1516.389\" y1=\"1151.533\" x2=\"1519.307\" y2=\"1148.805\" stroke-linecap=\"round\" style=\"stroke:black;stroke-width:3\" /><line x1=\"1519.307\" y1=\"1148.805\" x2=\"1522.213\" y2=\"1146.064\" stroke-linecap=\"round\" style=\"stroke:black;stroke-width:3\" /><line x1=\"1522.213\" y1=\"1146.064\" x2=\"1525.106\" y2=\"1143.31\" stroke-linecap=\"round\" style=\"stroke:black;stroke-width:3\" /><line x1=\"1525.106\" y1=\"1143.31\" x2=\"1527.987\" y2=\"1140.543\" stroke-linecap=\"round\" style=\"stroke:black;stroke-width:3\" /><line x1=\"1527.987\" y1=\"1140.543\" x2=\"1530.855\" y2=\"1137.763\" stroke-linecap=\"round\" style=\"stroke:black;stroke-width:3\" /><line x1=\"1530.855\" y1=\"1137.763\" x2=\"1533.711\" y2=\"1134.97\" stroke-linecap=\"round\" style=\"stroke:black;stroke-width:3\" /><line x1=\"1533.711\" y1=\"1134.97\" x2=\"1536.554\" y2=\"1132.165\" stroke-linecap=\"round\" style=\"stroke:black;stroke-width:3\" /><line x1=\"1536.554\" y1=\"1132.165\" x2=\"1539.385\" y2=\"1129.347\" stroke-linecap=\"round\" style=\"stroke:black;stroke-width:3\" /><line x1=\"1539.385\" y1=\"1129.347\" x2=\"1542.203\" y2=\"1126.516\" stroke-linecap=\"round\" style=\"stroke:black;stroke-width:3\" /><line x1=\"1542.203\" y1=\"1126.516\" x2=\"1545.008\" y2=\"1123.673\" stroke-linecap=\"round\" style=\"stroke:black;stroke-width:3\" /><line x1=\"1545.008\" y1=\"1123.673\" x2=\"1547.801\" y2=\"1120.817\" stroke-linecap=\"round\" style=\"stroke:black;stroke-width:3\" /><line x1=\"1547.801\" y1=\"1120.817\" x2=\"1550.581\" y2=\"1117.949\" stroke-linecap=\"round\" style=\"stroke:black;stroke-width:3\" /><line x1=\"1550.581\" y1=\"1117.949\" x2=\"1553.348\" y2=\"1115.068\" stroke-linecap=\"round\" style=\"stroke:black;stroke-width:3\" /><line x1=\"1553.348\" y1=\"1115.068\" x2=\"1556.102\" y2=\"1112.175\" stroke-linecap=\"round\" style=\"stroke:black;stroke-width:3\" /><line x1=\"1556.102\" y1=\"1112.175\" x2=\"1558.843\" y2=\"1109.269\" stroke-linecap=\"round\" style=\"stroke:black;stroke-width:3\" /><line x1=\"1558.843\" y1=\"1109.269\" x2=\"1561.571\" y2=\"1106.351\" stroke-linecap=\"round\" style=\"stroke:black;stroke-width:3\" /><line x1=\"1561.571\" y1=\"1106.351\" x2=\"1564.286\" y2=\"1103.421\" stroke-linecap=\"round\" style=\"stroke:black;stroke-width:3\" /><line x1=\"1564.286\" y1=\"1103.421\" x2=\"1566.987\" y2=\"1100.479\" stroke-linecap=\"round\" style=\"stroke:black;stroke-width:3\" /><line x1=\"1566.987\" y1=\"1100.479\" x2=\"1569.675\" y2=\"1097.525\" stroke-linecap=\"round\" style=\"stroke:black;stroke-width:3\" /><line x1=\"1569.675\" y1=\"1097.525\" x2=\"1572.35\" y2=\"1094.559\" stroke-linecap=\"round\" style=\"stroke:black;stroke-width:3\" /><line x1=\"1572.35\" y1=\"1094.559\" x2=\"1575.012\" y2=\"1091.581\" stroke-linecap=\"round\" style=\"stroke:black;stroke-width:3\" /><line x1=\"1575.012\" y1=\"1091.581\" x2=\"1577.66\" y2=\"1088.591\" stroke-linecap=\"round\" style=\"stroke:black;stroke-width:3\" /><line x1=\"1577.66\" y1=\"1088.591\" x2=\"1580.295\" y2=\"1085.589\" stroke-linecap=\"round\" style=\"stroke:black;stroke-width:3\" /><line x1=\"1580.295\" y1=\"1085.589\" x2=\"1582.916\" y2=\"1082.575\" stroke-linecap=\"round\" style=\"stroke:black;stroke-width:3\" /><line x1=\"1582.916\" y1=\"1082.575\" x2=\"1585.524\" y2=\"1079.549\" stroke-linecap=\"round\" style=\"stroke:black;stroke-width:3\" /><line x1=\"1585.524\" y1=\"1079.549\" x2=\"1588.118\" y2=\"1076.512\" stroke-linecap=\"round\" style=\"stroke:black;stroke-width:3\" /><line x1=\"1588.118\" y1=\"1076.512\" x2=\"1590.698\" y2=\"1073.463\" stroke-linecap=\"round\" style=\"stroke:black;stroke-width:3\" /><line x1=\"1590.698\" y1=\"1073.463\" x2=\"1593.265\" y2=\"1070.403\" stroke-linecap=\"round\" style=\"stroke:black;stroke-width:3\" /><line x1=\"1593.265\" y1=\"1070.403\" x2=\"1595.818\" y2=\"1067.331\" stroke-linecap=\"round\" style=\"stroke:black;stroke-width:3\" /><line x1=\"1595.818\" y1=\"1067.331\" x2=\"1598.357\" y2=\"1064.248\" stroke-linecap=\"round\" style=\"stroke:black;stroke-width:3\" /><line x1=\"1598.357\" y1=\"1064.248\" x2=\"1600.882\" y2=\"1061.153\" stroke-linecap=\"round\" style=\"stroke:black;stroke-width:3\" /><line x1=\"1600.882\" y1=\"1061.153\" x2=\"1603.393\" y2=\"1058.047\" stroke-linecap=\"round\" style=\"stroke:black;stroke-width:3\" /><line x1=\"1603.393\" y1=\"1058.047\" x2=\"1605.89\" y2=\"1054.93\" stroke-linecap=\"round\" style=\"stroke:black;stroke-width:3\" /><line x1=\"1605.89\" y1=\"1054.93\" x2=\"1608.373\" y2=\"1051.802\" stroke-linecap=\"round\" style=\"stroke:black;stroke-width:3\" /><line x1=\"1608.373\" y1=\"1051.802\" x2=\"1610.842\" y2=\"1048.662\" stroke-linecap=\"round\" style=\"stroke:black;stroke-width:3\" /><line x1=\"1610.842\" y1=\"1048.662\" x2=\"1613.297\" y2=\"1045.511\" stroke-linecap=\"round\" style=\"stroke:black;stroke-width:3\" /><line x1=\"1613.297\" y1=\"1045.511\" x2=\"1615.738\" y2=\"1042.349\" stroke-linecap=\"round\" style=\"stroke:black;stroke-width:3\" /><line x1=\"1615.738\" y1=\"1042.349\" x2=\"1618.165\" y2=\"1039.176\" stroke-linecap=\"round\" style=\"stroke:black;stroke-width:3\" /><line x1=\"1618.165\" y1=\"1039.176\" x2=\"1620.578\" y2=\"1035.993\" stroke-linecap=\"round\" style=\"stroke:black;stroke-width:3\" /><line x1=\"1620.578\" y1=\"1035.993\" x2=\"1622.976\" y2=\"1032.799\" stroke-linecap=\"round\" style=\"stroke:black;stroke-width:3\" /><line x1=\"1622.976\" y1=\"1032.799\" x2=\"1625.36\" y2=\"1029.594\" stroke-linecap=\"round\" style=\"stroke:black;stroke-width:3\" /><line x1=\"1625.36\" y1=\"1029.594\" x2=\"1627.729\" y2=\"1026.378\" stroke-linecap=\"round\" style=\"stroke:black;stroke-width:3\" /><line x1=\"1627.729\" y1=\"1026.378\" x2=\"1630.084\" y2=\"1023.152\" stroke-linecap=\"round\" style=\"stroke:black;stroke-width:3\" /><line x1=\"1630.084\" y1=\"1023.152\" x2=\"1632.425\" y2=\"1019.915\" stroke-linecap=\"round\" style=\"stroke:black;stroke-width:3\" /><line x1=\"1632.425\" y1=\"1019.915\" x2=\"1634.751\" y2=\"1016.668\" stroke-linecap=\"round\" style=\"stroke:black;stroke-width:3\" /><line x1=\"1634.751\" y1=\"1016.668\" x2=\"1637.062\" y2=\"1013.41\" stroke-linecap=\"round\" style=\"stroke:black;stroke-width:3\" /><line x1=\"1637.062\" y1=\"1013.41\" x2=\"1639.359\" y2=\"1010.142\" stroke-linecap=\"round\" style=\"stroke:black;stroke-width:3\" /><line x1=\"1639.359\" y1=\"1010.142\" x2=\"1641.641\" y2=\"1006.864\" stroke-linecap=\"round\" style=\"stroke:black;stroke-width:3\" /><line x1=\"1641.641\" y1=\"1006.864\" x2=\"1643.908\" y2=\"1003.576\" stroke-linecap=\"round\" style=\"stroke:black;stroke-width:3\" /><line x1=\"1643.908\" y1=\"1003.576\" x2=\"1646.161\" y2=\"1000.277\" stroke-linecap=\"round\" style=\"stroke:black;stroke-width:3\" /><line x1=\"1646.161\" y1=\"1000.277\" x2=\"1648.399\" y2=\"996.968\" stroke-linecap=\"round\" style=\"stroke:black;stroke-width:3\" /><line x1=\"1648.399\" y1=\"996.968\" x2=\"1650.622\" y2=\"993.649\" stroke-linecap=\"round\" style=\"stroke:black;stroke-width:3\" /><line x1=\"1650.622\" y1=\"993.649\" x2=\"1652.83\" y2=\"990.32\" stroke-linecap=\"round\" style=\"stroke:black;stroke-width:3\" /><line x1=\"1652.83\" y1=\"990.32\" x2=\"1655.023\" y2=\"986.982\" stroke-linecap=\"round\" style=\"stroke:black;stroke-width:3\" /><line x1=\"1655.023\" y1=\"986.982\" x2=\"1657.201\" y2=\"983.634\" stroke-linecap=\"round\" style=\"stroke:black;stroke-width:3\" /><line x1=\"1657.201\" y1=\"983.634\" x2=\"1659.364\" y2=\"980.276\" stroke-linecap=\"round\" style=\"stroke:black;stroke-width:3\" /><line x1=\"1659.364\" y1=\"980.276\" x2=\"1661.512\" y2=\"976.908\" stroke-linecap=\"round\" style=\"stroke:black;stroke-width:3\" /><line x1=\"1661.512\" y1=\"976.908\" x2=\"1663.645\" y2=\"973.531\" stroke-linecap=\"round\" style=\"stroke:black;stroke-width:3\" /><line x1=\"1663.645\" y1=\"973.531\" x2=\"1665.763\" y2=\"970.144\" stroke-linecap=\"round\" style=\"stroke:black;stroke-width:3\" /><line x1=\"1665.763\" y1=\"970.144\" x2=\"1667.865\" y2=\"966.748\" stroke-linecap=\"round\" style=\"stroke:black;stroke-width:3\" /><line x1=\"1667.865\" y1=\"966.748\" x2=\"1669.952\" y2=\"963.342\" stroke-linecap=\"round\" style=\"stroke:black;stroke-width:3\" /><line x1=\"1669.952\" y1=\"963.342\" x2=\"1672.024\" y2=\"959.927\" stroke-linecap=\"round\" style=\"stroke:black;stroke-width:3\" /><line x1=\"1672.024\" y1=\"959.927\" x2=\"1674.08\" y2=\"956.503\" stroke-linecap=\"round\" style=\"stroke:black;stroke-width:3\" /><line x1=\"1674.08\" y1=\"956.503\" x2=\"1676.121\" y2=\"953.07\" stroke-linecap=\"round\" style=\"stroke:black;stroke-width:3\" /><line x1=\"1676.121\" y1=\"953.07\" x2=\"1678.147\" y2=\"949.627\" stroke-linecap=\"round\" style=\"stroke:black;stroke-width:3\" /><line x1=\"1678.147\" y1=\"949.627\" x2=\"1680.157\" y2=\"946.175\" stroke-linecap=\"round\" style=\"stroke:black;stroke-width:3\" /><line x1=\"1680.157\" y1=\"946.175\" x2=\"1682.152\" y2=\"942.714\" stroke-linecap=\"round\" style=\"stroke:black;stroke-width:3\" /><line x1=\"1682.152\" y1=\"942.714\" x2=\"1684.131\" y2=\"939.244\" stroke-linecap=\"round\" style=\"stroke:black;stroke-width:3\" /><line x1=\"1684.131\" y1=\"939.244\" x2=\"1686.094\" y2=\"935.766\" stroke-linecap=\"round\" style=\"stroke:black;stroke-width:3\" /><line x1=\"1686.094\" y1=\"935.766\" x2=\"1688.042\" y2=\"932.279\" stroke-linecap=\"round\" style=\"stroke:black;stroke-width:3\" /><line x1=\"1688.042\" y1=\"932.279\" x2=\"1689.974\" y2=\"928.783\" stroke-linecap=\"round\" style=\"stroke:black;stroke-width:3\" /><line x1=\"1689.974\" y1=\"928.783\" x2=\"1691.89\" y2=\"925.278\" stroke-linecap=\"round\" style=\"stroke:black;stroke-width:3\" /><line x1=\"1691.89\" y1=\"925.278\" x2=\"1693.791\" y2=\"921.765\" stroke-linecap=\"round\" style=\"stroke:black;stroke-width:3\" /><line x1=\"1693.791\" y1=\"921.765\" x2=\"1695.676\" y2=\"918.243\" stroke-linecap=\"round\" style=\"stroke:black;stroke-width:3\" /><line x1=\"1695.676\" y1=\"918.243\" x2=\"1697.545\" y2=\"914.713\" stroke-linecap=\"round\" style=\"stroke:black;stroke-width:3\" /><line x1=\"1697.545\" y1=\"914.713\" x2=\"1699.398\" y2=\"911.175\" stroke-linecap=\"round\" style=\"stroke:black;stroke-width:3\" /><line x1=\"1699.398\" y1=\"911.175\" x2=\"1701.235\" y2=\"907.628\" stroke-linecap=\"round\" style=\"stroke:black;stroke-width:3\" /><line x1=\"1701.235\" y1=\"907.628\" x2=\"1703.056\" y2=\"904.073\" stroke-linecap=\"round\" style=\"stroke:black;stroke-width:3\" /><line x1=\"1703.056\" y1=\"904.073\" x2=\"1704.861\" y2=\"900.51\" stroke-linecap=\"round\" style=\"stroke:black;stroke-width:3\" /><line x1=\"1704.861\" y1=\"900.51\" x2=\"1706.65\" y2=\"896.939\" stroke-linecap=\"round\" style=\"stroke:black;stroke-width:3\" /><line x1=\"1706.65\" y1=\"896.939\" x2=\"1708.423\" y2=\"893.36\" stroke-linecap=\"round\" style=\"stroke:black;stroke-width:3\" /><line x1=\"1708.423\" y1=\"893.36\" x2=\"1710.18\" y2=\"889.773\" stroke-linecap=\"round\" style=\"stroke:black;stroke-width:3\" /><line x1=\"1710.18\" y1=\"889.773\" x2=\"1711.921\" y2=\"886.178\" stroke-linecap=\"round\" style=\"stroke:black;stroke-width:3\" /><line x1=\"1711.921\" y1=\"886.178\" x2=\"1713.646\" y2=\"882.575\" stroke-linecap=\"round\" style=\"stroke:black;stroke-width:3\" /><line x1=\"1713.646\" y1=\"882.575\" x2=\"1715.355\" y2=\"878.965\" stroke-linecap=\"round\" style=\"stroke:black;stroke-width:3\" /><line x1=\"1715.355\" y1=\"878.965\" x2=\"1717.048\" y2=\"875.347\" stroke-linecap=\"round\" style=\"stroke:black;stroke-width:3\" /><line x1=\"1717.048\" y1=\"875.347\" x2=\"1718.724\" y2=\"871.721\" stroke-linecap=\"round\" style=\"stroke:black;stroke-width:3\" /><line x1=\"1718.724\" y1=\"871.721\" x2=\"1720.384\" y2=\"868.088\" stroke-linecap=\"round\" style=\"stroke:black;stroke-width:3\" /><line x1=\"1720.384\" y1=\"868.088\" x2=\"1722.028\" y2=\"864.448\" stroke-linecap=\"round\" style=\"stroke:black;stroke-width:3\" /><line x1=\"1722.028\" y1=\"864.448\" x2=\"1723.655\" y2=\"860.8\" stroke-linecap=\"round\" style=\"stroke:black;stroke-width:3\" /><line x1=\"1723.655\" y1=\"860.8\" x2=\"1725.266\" y2=\"857.145\" stroke-linecap=\"round\" style=\"stroke:black;stroke-width:3\" /><line x1=\"1725.266\" y1=\"857.145\" x2=\"1726.861\" y2=\"853.483\" stroke-linecap=\"round\" style=\"stroke:black;stroke-width:3\" /><line x1=\"1726.861\" y1=\"853.483\" x2=\"1728.439\" y2=\"849.814\" stroke-linecap=\"round\" style=\"stroke:black;stroke-width:3\" /><line x1=\"1728.439\" y1=\"849.814\" x2=\"1730.001\" y2=\"846.138\" stroke-linecap=\"round\" style=\"stroke:black;stroke-width:3\" /><line x1=\"1730.001\" y1=\"846.138\" x2=\"1731.546\" y2=\"842.455\" stroke-linecap=\"round\" style=\"stroke:black;stroke-width:3\" /><line x1=\"1731.546\" y1=\"842.455\" x2=\"1733.075\" y2=\"838.765\" stroke-linecap=\"round\" style=\"stroke:black;stroke-width:3\" /><line x1=\"1733.075\" y1=\"838.765\" x2=\"1734.587\" y2=\"835.068\" stroke-linecap=\"round\" style=\"stroke:black;stroke-width:3\" /><line x1=\"1734.587\" y1=\"835.068\" x2=\"1736.082\" y2=\"831.364\" stroke-linecap=\"round\" style=\"stroke:black;stroke-width:3\" /><line x1=\"1736.082\" y1=\"831.364\" x2=\"1737.561\" y2=\"827.653\" stroke-linecap=\"round\" style=\"stroke:black;stroke-width:3\" /><line x1=\"1737.561\" y1=\"827.653\" x2=\"1739.023\" y2=\"823.936\" stroke-linecap=\"round\" style=\"stroke:black;stroke-width:3\" /><line x1=\"1739.023\" y1=\"823.936\" x2=\"1740.468\" y2=\"820.212\" stroke-linecap=\"round\" style=\"stroke:black;stroke-width:3\" /><line x1=\"1740.468\" y1=\"820.212\" x2=\"1741.897\" y2=\"816.482\" stroke-linecap=\"round\" style=\"stroke:black;stroke-width:3\" /><line x1=\"1741.897\" y1=\"816.482\" x2=\"1743.309\" y2=\"812.746\" stroke-linecap=\"round\" style=\"stroke:black;stroke-width:3\" /><line x1=\"1743.309\" y1=\"812.746\" x2=\"1744.704\" y2=\"809.003\" stroke-linecap=\"round\" style=\"stroke:black;stroke-width:3\" /><line x1=\"1744.704\" y1=\"809.003\" x2=\"1746.082\" y2=\"805.254\" stroke-linecap=\"round\" style=\"stroke:black;stroke-width:3\" /><line x1=\"1746.082\" y1=\"805.254\" x2=\"1747.443\" y2=\"801.499\" stroke-linecap=\"round\" style=\"stroke:black;stroke-width:3\" /><line x1=\"1747.443\" y1=\"801.499\" x2=\"1748.788\" y2=\"797.738\" stroke-linecap=\"round\" style=\"stroke:black;stroke-width:3\" /><line x1=\"1748.788\" y1=\"797.738\" x2=\"1750.116\" y2=\"793.971\" stroke-linecap=\"round\" style=\"stroke:black;stroke-width:3\" /><line x1=\"1750.116\" y1=\"793.971\" x2=\"1751.427\" y2=\"790.198\" stroke-linecap=\"round\" style=\"stroke:black;stroke-width:3\" /><line x1=\"1751.427\" y1=\"790.198\" x2=\"1752.721\" y2=\"786.419\" stroke-linecap=\"round\" style=\"stroke:black;stroke-width:3\" /><line x1=\"1752.721\" y1=\"786.419\" x2=\"1753.998\" y2=\"782.634\" stroke-linecap=\"round\" style=\"stroke:black;stroke-width:3\" /><line x1=\"1753.998\" y1=\"782.634\" x2=\"1755.258\" y2=\"778.844\" stroke-linecap=\"round\" style=\"stroke:black;stroke-width:3\" /><line x1=\"1755.258\" y1=\"778.844\" x2=\"1756.501\" y2=\"775.048\" stroke-linecap=\"round\" style=\"stroke:black;stroke-width:3\" /><line x1=\"1756.501\" y1=\"775.048\" x2=\"1757.727\" y2=\"771.246\" stroke-linecap=\"round\" style=\"stroke:black;stroke-width:3\" /><line x1=\"1757.727\" y1=\"771.246\" x2=\"1758.936\" y2=\"767.439\" stroke-linecap=\"round\" style=\"stroke:black;stroke-width:3\" /><line x1=\"1758.936\" y1=\"767.439\" x2=\"1760.128\" y2=\"763.627\" stroke-linecap=\"round\" style=\"stroke:black;stroke-width:3\" /><line x1=\"1760.128\" y1=\"763.627\" x2=\"1761.302\" y2=\"759.809\" stroke-linecap=\"round\" style=\"stroke:black;stroke-width:3\" /><line x1=\"1761.302\" y1=\"759.809\" x2=\"1762.459\" y2=\"755.986\" stroke-linecap=\"round\" style=\"stroke:black;stroke-width:3\" /><line x1=\"1762.459\" y1=\"755.986\" x2=\"1763.599\" y2=\"752.158\" stroke-linecap=\"round\" style=\"stroke:black;stroke-width:3\" /><line x1=\"1763.599\" y1=\"752.158\" x2=\"1764.722\" y2=\"748.325\" stroke-linecap=\"round\" style=\"stroke:black;stroke-width:3\" /><line x1=\"1764.722\" y1=\"748.325\" x2=\"1765.828\" y2=\"744.487\" stroke-linecap=\"round\" style=\"stroke:black;stroke-width:3\" /><line x1=\"1765.828\" y1=\"744.487\" x2=\"1766.917\" y2=\"740.644\" stroke-linecap=\"round\" style=\"stroke:black;stroke-width:3\" /><line x1=\"1766.917\" y1=\"740.644\" x2=\"1767.988\" y2=\"736.796\" stroke-linecap=\"round\" style=\"stroke:black;stroke-width:3\" /><line x1=\"1767.988\" y1=\"736.796\" x2=\"1769.042\" y2=\"732.943\" stroke-linecap=\"round\" style=\"stroke:black;stroke-width:3\" /><line x1=\"1769.042\" y1=\"732.943\" x2=\"1770.079\" y2=\"729.086\" stroke-linecap=\"round\" style=\"stroke:black;stroke-width:3\" /><line x1=\"1770.079\" y1=\"729.086\" x2=\"1771.098\" y2=\"725.224\" stroke-linecap=\"round\" style=\"stroke:black;stroke-width:3\" /><line x1=\"1771.098\" y1=\"725.224\" x2=\"1772.1\" y2=\"721.357\" stroke-linecap=\"round\" style=\"stroke:black;stroke-width:3\" /><line x1=\"1772.1\" y1=\"721.357\" x2=\"1773.085\" y2=\"717.486\" stroke-linecap=\"round\" style=\"stroke:black;stroke-width:3\" /><line x1=\"1773.085\" y1=\"717.486\" x2=\"1774.052\" y2=\"713.611\" stroke-linecap=\"round\" style=\"stroke:black;stroke-width:3\" /><line x1=\"1774.052\" y1=\"713.611\" x2=\"1775.002\" y2=\"709.731\" stroke-linecap=\"round\" style=\"stroke:black;stroke-width:3\" /><line x1=\"1775.002\" y1=\"709.731\" x2=\"1775.934\" y2=\"705.847\" stroke-linecap=\"round\" style=\"stroke:black;stroke-width:3\" /><line x1=\"1775.934\" y1=\"705.847\" x2=\"1776.849\" y2=\"701.959\" stroke-linecap=\"round\" style=\"stroke:black;stroke-width:3\" /><line x1=\"1776.849\" y1=\"701.959\" x2=\"1777.747\" y2=\"698.067\" stroke-linecap=\"round\" style=\"stroke:black;stroke-width:3\" /><line x1=\"1777.747\" y1=\"698.067\" x2=\"1778.627\" y2=\"694.171\" stroke-linecap=\"round\" style=\"stroke:black;stroke-width:3\" /><line x1=\"1778.627\" y1=\"694.171\" x2=\"1779.49\" y2=\"690.271\" stroke-linecap=\"round\" style=\"stroke:black;stroke-width:3\" /><line x1=\"1779.49\" y1=\"690.271\" x2=\"1780.335\" y2=\"686.367\" stroke-linecap=\"round\" style=\"stroke:black;stroke-width:3\" /><line x1=\"1780.335\" y1=\"686.367\" x2=\"1781.163\" y2=\"682.459\" stroke-linecap=\"round\" style=\"stroke:black;stroke-width:3\" /><line x1=\"1781.163\" y1=\"682.459\" x2=\"1781.973\" y2=\"678.548\" stroke-linecap=\"round\" style=\"stroke:black;stroke-width:3\" /><line x1=\"1781.973\" y1=\"678.548\" x2=\"1782.765\" y2=\"674.633\" stroke-linecap=\"round\" style=\"stroke:black;stroke-width:3\" /><line x1=\"1782.765\" y1=\"674.633\" x2=\"1783.54\" y2=\"670.715\" stroke-linecap=\"round\" style=\"stroke:black;stroke-width:3\" /><line x1=\"1783.54\" y1=\"670.715\" x2=\"1784.297\" y2=\"666.793\" stroke-linecap=\"round\" style=\"stroke:black;stroke-width:3\" /><line x1=\"1784.297\" y1=\"666.793\" x2=\"1785.037\" y2=\"662.868\" stroke-linecap=\"round\" style=\"stroke:black;stroke-width:3\" /><line x1=\"1785.037\" y1=\"662.868\" x2=\"1785.759\" y2=\"658.939\" stroke-linecap=\"round\" style=\"stroke:black;stroke-width:3\" /><line x1=\"1785.759\" y1=\"658.939\" x2=\"1786.463\" y2=\"655.007\" stroke-linecap=\"round\" style=\"stroke:black;stroke-width:3\" /><line x1=\"1786.463\" y1=\"655.007\" x2=\"1787.15\" y2=\"651.072\" stroke-linecap=\"round\" style=\"stroke:black;stroke-width:3\" /><line x1=\"1787.15\" y1=\"651.072\" x2=\"1787.819\" y2=\"647.134\" stroke-linecap=\"round\" style=\"stroke:black;stroke-width:3\" /><line x1=\"1787.819\" y1=\"647.134\" x2=\"1788.47\" y2=\"643.193\" stroke-linecap=\"round\" style=\"stroke:black;stroke-width:3\" /><line x1=\"1788.47\" y1=\"643.193\" x2=\"1789.104\" y2=\"639.249\" stroke-linecap=\"round\" style=\"stroke:black;stroke-width:3\" /><line x1=\"1789.104\" y1=\"639.249\" x2=\"1789.72\" y2=\"635.302\" stroke-linecap=\"round\" style=\"stroke:black;stroke-width:3\" /><line x1=\"1789.72\" y1=\"635.302\" x2=\"1790.318\" y2=\"631.353\" stroke-linecap=\"round\" style=\"stroke:black;stroke-width:3\" /><line x1=\"1790.318\" y1=\"631.353\" x2=\"1790.899\" y2=\"627.401\" stroke-linecap=\"round\" style=\"stroke:black;stroke-width:3\" /><line x1=\"1790.899\" y1=\"627.401\" x2=\"1791.462\" y2=\"623.447\" stroke-linecap=\"round\" style=\"stroke:black;stroke-width:3\" /><line x1=\"1791.462\" y1=\"623.447\" x2=\"1792.007\" y2=\"619.49\" stroke-linecap=\"round\" style=\"stroke:black;stroke-width:3\" /><line x1=\"1792.007\" y1=\"619.49\" x2=\"1792.534\" y2=\"615.531\" stroke-linecap=\"round\" style=\"stroke:black;stroke-width:3\" /><line x1=\"1792.534\" y1=\"615.531\" x2=\"1793.044\" y2=\"611.569\" stroke-linecap=\"round\" style=\"stroke:black;stroke-width:3\" /><line x1=\"1793.044\" y1=\"611.569\" x2=\"1793.536\" y2=\"607.605\" stroke-linecap=\"round\" style=\"stroke:black;stroke-width:3\" /><line x1=\"1793.536\" y1=\"607.605\" x2=\"1794.01\" y2=\"603.639\" stroke-linecap=\"round\" style=\"stroke:black;stroke-width:3\" /><line x1=\"1794.01\" y1=\"603.639\" x2=\"1794.466\" y2=\"599.671\" stroke-linecap=\"round\" style=\"stroke:black;stroke-width:3\" /><line x1=\"1794.466\" y1=\"599.671\" x2=\"1794.904\" y2=\"595.701\" stroke-linecap=\"round\" style=\"stroke:black;stroke-width:3\" /><line x1=\"1794.904\" y1=\"595.701\" x2=\"1795.324\" y2=\"591.729\" stroke-linecap=\"round\" style=\"stroke:black;stroke-width:3\" /><line x1=\"1795.324\" y1=\"591.729\" x2=\"1795.727\" y2=\"587.755\" stroke-linecap=\"round\" style=\"stroke:black;stroke-width:3\" /><line x1=\"1795.727\" y1=\"587.755\" x2=\"1796.112\" y2=\"583.779\" stroke-linecap=\"round\" style=\"stroke:black;stroke-width:3\" /><line x1=\"1796.112\" y1=\"583.779\" x2=\"1796.479\" y2=\"579.802\" stroke-linecap=\"round\" style=\"stroke:black;stroke-width:3\" /><line x1=\"1796.479\" y1=\"579.802\" x2=\"1796.828\" y2=\"575.823\" stroke-linecap=\"round\" style=\"stroke:black;stroke-width:3\" /><line x1=\"1796.828\" y1=\"575.823\" x2=\"1797.159\" y2=\"571.842\" stroke-linecap=\"round\" style=\"stroke:black;stroke-width:3\" /><line x1=\"1797.159\" y1=\"571.842\" x2=\"1797.472\" y2=\"567.86\" stroke-linecap=\"round\" style=\"stroke:black;stroke-width:3\" /><line x1=\"1797.472\" y1=\"567.86\" x2=\"1797.768\" y2=\"563.877\" stroke-linecap=\"round\" style=\"stroke:black;stroke-width:3\" /><line x1=\"1797.768\" y1=\"563.877\" x2=\"1798.046\" y2=\"559.892\" stroke-linecap=\"round\" style=\"stroke:black;stroke-width:3\" /><line x1=\"1798.046\" y1=\"559.892\" x2=\"1798.306\" y2=\"555.906\" stroke-linecap=\"round\" style=\"stroke:black;stroke-width:3\" /><line x1=\"1798.306\" y1=\"555.906\" x2=\"1798.548\" y2=\"551.919\" stroke-linecap=\"round\" style=\"stroke:black;stroke-width:3\" /><line x1=\"1798.548\" y1=\"551.919\" x2=\"1798.772\" y2=\"547.931\" stroke-linecap=\"round\" style=\"stroke:black;stroke-width:3\" /><line x1=\"1798.772\" y1=\"547.931\" x2=\"1798.978\" y2=\"543.942\" stroke-linecap=\"round\" style=\"stroke:black;stroke-width:3\" /><line x1=\"1798.978\" y1=\"543.942\" x2=\"1799.166\" y2=\"539.952\" stroke-linecap=\"round\" style=\"stroke:black;stroke-width:3\" /><line x1=\"1799.166\" y1=\"539.952\" x2=\"1799.336\" y2=\"535.961\" stroke-linecap=\"round\" style=\"stroke:black;stroke-width:3\" /><line x1=\"1799.336\" y1=\"535.961\" x2=\"1799.488\" y2=\"531.97\" stroke-linecap=\"round\" style=\"stroke:black;stroke-width:3\" /><line x1=\"1799.488\" y1=\"531.97\" x2=\"1799.622\" y2=\"527.978\" stroke-linecap=\"round\" style=\"stroke:black;stroke-width:3\" /><line x1=\"1799.622\" y1=\"527.978\" x2=\"1799.739\" y2=\"523.985\" stroke-linecap=\"round\" style=\"stroke:black;stroke-width:3\" /><line x1=\"1799.739\" y1=\"523.985\" x2=\"1799.838\" y2=\"519.992\" stroke-linecap=\"round\" style=\"stroke:black;stroke-width:3\" /><line x1=\"1799.838\" y1=\"519.992\" x2=\"1799.919\" y2=\"515.999\" stroke-linecap=\"round\" style=\"stroke:black;stroke-width:3\" /><line x1=\"1799.919\" y1=\"515.999\" x2=\"1799.982\" y2=\"512.005\" stroke-linecap=\"round\" style=\"stroke:black;stroke-width:3\" /><line x1=\"1799.982\" y1=\"512.005\" x2=\"1800.027\" y2=\"508.011\" stroke-linecap=\"round\" style=\"stroke:black;stroke-width:3\" /><line x1=\"1800.027\" y1=\"508.011\" x2=\"1800.054\" y2=\"504.017\" stroke-linecap=\"round\" style=\"stroke:black;stroke-width:3\" /><line x1=\"1800.054\" y1=\"504.017\" x2=\"1800.063\" y2=\"500.023\" stroke-linecap=\"round\" style=\"stroke:black;stroke-width:3\" />\n",
              "        \n",
              "        \n",
              "        <g id=\"classic\" visibility=\"visible\" transform=\"rotate(179.87142857142453,1800.063,500.023) translate(1800.063, 500.023)\">\n",
              "<polygon points=\"-5,-4.5 0,-2.5 5,-4.5 0,4.5\" transform=\"skewX(0) scale(1,1)\" style=\"stroke:black;fill:black;stroke-width:1\" />\n",
              "<animateTransform id = \"one\" attributeName=\"transform\" \n",
              "                      type=\"scale\"\n",
              "                      from=\"1 1\" to=\"1 1\"\n",
              "                      begin=\"0s\" dur=\"0.01s\"\n",
              "                      repeatCount=\"1\"\n",
              "                      additive=\"sum\"\n",
              "                      fill=\"freeze\"\n",
              "                /><animateTransform attributeName=\"transform\"\n",
              "                    type=\"rotate\"\n",
              "                    from=\"0 0 0\" to =\"0.12857142857142856 0 0\"\n",
              "                    begin=\"one.end\" dur=\"0.0003571428571428571s\"\n",
              "                    repeatCount=\"1\"\n",
              "                    additive=\"sum\"\n",
              "                    fill=\"freeze\"\n",
              "                /></g>\n",
              "      </svg>\n",
              "    "
            ]
          },
          "metadata": {}
        }
      ],
      "source": [
        "# 실습 3. 아래 코드는 turtle이라는 drawing tool을 이용하여 n개의 피보나치 수열에 대한 황금 직사각형과 황금 나선을 그리는 코드이다. \n",
        "# n번째까지의 피보나치 수열을 list 형태로 반환하는 get_Fibonacci() 함수를 구현하고 \n",
        "# 긴 주석 ‘’’ ‘’’ 사이에 들어갈 적절한 코드를 작성하여 n개의 황금 직사각형과 이에 내접하는 황금 나선을 완성하시오.\n",
        "# 단, n은 1 이상 10 이하의 자연수\n",
        "# Hint : ppt 참조\n",
        "\n",
        "# 라이브러리 추가\n",
        "#import turtle\n",
        "from ColabTurtlePlus import Turtle as turtle\n",
        "turtle.initializeTurtle()\n",
        "import math\n",
        "\n",
        "N = 10   # 피보나치 수열의 개수\n",
        "SIZE = 10   # 황금 직사각형 한 변의 길이\n",
        "pi = math.pi   # 파이(pi) 값\n",
        "\n",
        "turtle.clear()\n",
        "turtle.reset()\n",
        "\n",
        "# Turtle 환경 설정\n",
        "turtle.clearscreen()\n",
        "turtle.setup(1500, 1500)\n",
        "wn = turtle.Screen()\n",
        "myTurtle = turtle.Turtle()  # Screen의 크기와 초기 위치 x = 0, y = 0를 가지는 turtle 객체 정의\n",
        "myTurtle.pensize(3)   # 황금 나선을 나타낼 pen 크기\n",
        "myTurtle.speed(5)\n",
        "\n",
        "\n",
        "# n번째까지의 피보나치 수열들을 리스트 형태로 반환하는 함수\n",
        "def get_fibonacci(length):\n",
        "    current_value, next_value = 0, 1\n",
        "    fibonacci_list = list()\n",
        "    for _ in range(length):\n",
        "        temp=current_value\n",
        "        current_value=next_value\n",
        "        next_value=current_value+temp\n",
        "        fibonacci_list.append(next_value)\n",
        "    return fibonacci_list\n",
        "\n",
        "\n",
        "# 피보나치 수열 계산과 황금 직사각형을 그리는 함수\n",
        "def rectangle(fibo_list):\n",
        "    for fibo in fibo_list:                      \n",
        "        myTurtle.right(90)              # 커서 방향을 right 방향으로 90도로 변경(= 아래로 변경)      \n",
        "        drawSq(fibo*SIZE)\n",
        "        pass                      # drawSq(a) => a 길이의 황금 직사각형을 draw\n",
        "        \n",
        "def drawSq(sides):\n",
        "    for _ in range(6):                     # 사각형의 4개의 변을 지나고 다음 사각형의 시작 지점까지의 거리 2 => 4 + 2 = 6\n",
        "        myTurtle.forward(sides)                           # 현재 pointer의 방향으로 sides 길이만큼 draw\n",
        "        myTurtle.left(90)\n",
        "\n",
        "        \n",
        "# 황금 나선을 그리는 함수\n",
        "def sprial(fibo_list):\n",
        "    # 나선을 그릴 pen 방향, 초기 위치 등을 정의\n",
        "    r = SIZE                                 # 호(arc)의 반지름 길이\n",
        "    angle = 90\n",
        "    myTurtle.right((90 + 90*N) % 360)      # 현재 커서(황금 직사각형을 그린 후) 방향을 아래쪽을 가리키도록 초기화\n",
        "    myTurtle.penup()                       # 호를 그리는 pen 방향 및 pen 위치 정의\n",
        "    myTurtle.setpos(0,0)                   \n",
        "    myTurtle.pendown()\n",
        "    # 피보나치 수열에 따른 황금 나선 draw\n",
        "    for fibo in fibo_list:\n",
        "          arc(fibo*r, angle)\n",
        "         \n",
        "          # (n번째 피보나치 수열 값 X SIZE)를 반지름으로하고 angle 만큼의 각도를 가지는 호(arc)를 draw\n",
        "\n",
        "\n",
        "def arcLine(n, length, angle):\n",
        "    for i in range(n):\n",
        "        myTurtle.forward(length)\n",
        "        myTurtle.left(angle)\n",
        "\n",
        "\n",
        "# 입력된 반지름(r) 길이와 각도(angle)에 대하여 호(arc)를 그리는 함수\n",
        "def arc(r, angle):\n",
        "    arc_length = 2*math.pi*r*angle/360\n",
        "    n = int(arc_length / 4) + 1\n",
        "    step_length = arc_length / n\n",
        "    step_angle = float(angle) / n\n",
        "    myTurtle.left(step_angle/2)\n",
        "    arcLine(n, step_length, step_angle)\n",
        "    myTurtle.right(step_angle/2)\n",
        "\n",
        "\n",
        "fibonacci_list = get_fibonacci(N)                                   # 피보나치 수열 획득\n",
        "rectangle(fibonacci_list)                                     # 황금 직사각형 draw\n",
        "sprial(fibonacci_list)                                   # 황금 나선 draw"
      ]
    },
    {
      "cell_type": "code",
      "execution_count": null,
      "id": "d3e991de",
      "metadata": {
        "id": "d3e991de"
      },
      "outputs": [],
      "source": []
    }
  ],
  "metadata": {
    "kernelspec": {
      "display_name": "Python 3.9.6 64-bit",
      "language": "python",
      "name": "python3"
    },
    "language_info": {
      "codemirror_mode": {
        "name": "ipython",
        "version": 3
      },
      "file_extension": ".py",
      "mimetype": "text/x-python",
      "name": "python",
      "nbconvert_exporter": "python",
      "pygments_lexer": "ipython3",
      "version": "3.9.6"
    },
    "vscode": {
      "interpreter": {
        "hash": "31f2aee4e71d21fbe5cf8b01ff0e069b9275f58929596ceb00d14d90e3e16cd6"
      }
    },
    "colab": {
      "provenance": []
    }
  },
  "nbformat": 4,
  "nbformat_minor": 5
}